{
 "cells": [
  {
   "cell_type": "markdown",
   "metadata": {
    "id": "l-FiFzbRJ-gf"
   },
   "source": [
    "# **Part 1: Exercise Numpy**"
   ]
  },
  {
   "cell_type": "markdown",
   "metadata": {
    "id": "VmvcwXB4J-gk"
   },
   "source": [
    "## **Jangan di-run! Save sebagai file baru dan edit file tersebut untuk menjawab pertanyaan**"
   ]
  },
  {
   "cell_type": "code",
   "execution_count": 11,
   "metadata": {
    "id": "OrWln41yJ-gl"
   },
   "outputs": [],
   "source": [
    "import numpy as np\n",
    "import pandas as pd"
   ]
  },
  {
   "cell_type": "markdown",
   "metadata": {
    "id": "Hjd56GGQJ-gn"
   },
   "source": [
    "<hr>\n",
    "\n",
    "### **Nomor 1**\n",
    "\n",
    "Buatlah sebuah array 1D dengan nama variable myArray yang terdiri dari 36 angka bilangan bulat acak antara 1 dan 100! (Gunakan seed=0)"
   ]
  },
  {
   "cell_type": "code",
   "execution_count": 12,
   "metadata": {
    "id": "Zzv2yoE8J-go",
    "outputId": "3850ffbe-1a45-4285-b0f4-75e8cb14d7ee"
   },
   "outputs": [
    {
     "data": {
      "text/plain": [
       "array([ 45,  48,  65,  68,  68,  10,  84,  22,  37,  88,  71,  89,  89,\n",
       "        13,  59,  66,  40,  88,  47,  89,  82,  38,  26,  78,  73,  10,\n",
       "        21,  81,  70,  80,  48,  65,  83, 100,  89,  50], dtype=int32)"
      ]
     },
     "execution_count": 12,
     "metadata": {},
     "output_type": "execute_result"
    }
   ],
   "source": [
    "np.random.seed(0)\n",
    "myArray = np.random.randint(1, 101, 36)\n",
    "myArray"
   ]
  },
  {
   "cell_type": "markdown",
   "metadata": {
    "id": "Oj6cODClJ-gp"
   },
   "source": [
    "<hr>\n",
    "\n",
    "### **Nomor 2**\n",
    "\n",
    "Ubahlah array tersebut (myArray) menjadi\n",
    "\n",
    "* array 2D dengan ukuran 2 x 18\n",
    "* array 2D dengan ukuran 9 x 4\n",
    "* array 3D dengan ukuran 2 x 6 X 3"
   ]
  },
  {
   "cell_type": "code",
   "execution_count": 13,
   "metadata": {
    "id": "aXw9IYoJJ-gq",
    "outputId": "dfeed8ca-8360-49b9-ccc5-e53df26f2e55"
   },
   "outputs": [
    {
     "data": {
      "text/plain": [
       "array([[ 45,  48,  65,  68,  68,  10,  84,  22,  37,  88,  71,  89,  89,\n",
       "         13,  59,  66,  40,  88],\n",
       "       [ 47,  89,  82,  38,  26,  78,  73,  10,  21,  81,  70,  80,  48,\n",
       "         65,  83, 100,  89,  50]], dtype=int32)"
      ]
     },
     "execution_count": 13,
     "metadata": {},
     "output_type": "execute_result"
    }
   ],
   "source": [
    "myArray2D_1 = myArray.reshape(2, 18)\n",
    "myArray2D_1"
   ]
  },
  {
   "cell_type": "code",
   "execution_count": 14,
   "metadata": {
    "id": "Zzxn2c15J-gs",
    "outputId": "356e59e0-7811-438d-94c7-8f0229f3bc11"
   },
   "outputs": [
    {
     "data": {
      "text/plain": [
       "array([[ 45,  48,  65,  68],\n",
       "       [ 68,  10,  84,  22],\n",
       "       [ 37,  88,  71,  89],\n",
       "       [ 89,  13,  59,  66],\n",
       "       [ 40,  88,  47,  89],\n",
       "       [ 82,  38,  26,  78],\n",
       "       [ 73,  10,  21,  81],\n",
       "       [ 70,  80,  48,  65],\n",
       "       [ 83, 100,  89,  50]], dtype=int32)"
      ]
     },
     "execution_count": 14,
     "metadata": {},
     "output_type": "execute_result"
    }
   ],
   "source": [
    "myArray2D_2 = myArray.reshape(9, 4)\n",
    "myArray2D_2"
   ]
  },
  {
   "cell_type": "code",
   "execution_count": 15,
   "metadata": {
    "id": "4skDnFy4J-gs",
    "outputId": "0519fe8d-8dfb-4ab0-9442-1acee11ddc25"
   },
   "outputs": [
    {
     "data": {
      "text/plain": [
       "array([[[ 45,  48,  65],\n",
       "        [ 68,  68,  10],\n",
       "        [ 84,  22,  37],\n",
       "        [ 88,  71,  89],\n",
       "        [ 89,  13,  59],\n",
       "        [ 66,  40,  88]],\n",
       "\n",
       "       [[ 47,  89,  82],\n",
       "        [ 38,  26,  78],\n",
       "        [ 73,  10,  21],\n",
       "        [ 81,  70,  80],\n",
       "        [ 48,  65,  83],\n",
       "        [100,  89,  50]]], dtype=int32)"
      ]
     },
     "execution_count": 15,
     "metadata": {},
     "output_type": "execute_result"
    }
   ],
   "source": [
    "myArray3D_1 = myArray.reshape(2, 6, 3)\n",
    "myArray3D_1"
   ]
  },
  {
   "cell_type": "markdown",
   "metadata": {
    "id": "L4w61t9cJ-gu"
   },
   "source": [
    "<hr>\n",
    "\n",
    "### **Nomor 3**\n",
    "\n",
    "Buatlah array baru dengan nama variable new_array yang berisi 9 angka yang diambil dari data pada index ke-3, 5, 30, 12, 15, 8, 24, 14, dan 22 dari myArray!\n",
    "\n",
    "Ubahlah array tersebut menjadi array 2D dengan ukuran 3 x 3 secara permanen!\n"
   ]
  },
  {
   "cell_type": "code",
   "execution_count": 16,
   "metadata": {
    "id": "1mN7es1JJ-gv",
    "outputId": "a31caf59-cf4e-40b6-881c-887dea705e4d"
   },
   "outputs": [
    {
     "data": {
      "text/plain": [
       "array([[68, 10, 48],\n",
       "       [89, 66, 37],\n",
       "       [73, 59, 26]], dtype=int32)"
      ]
     },
     "execution_count": 16,
     "metadata": {},
     "output_type": "execute_result"
    }
   ],
   "source": [
    "new_array = myArray[[3, 5, 30, 12, 15, 8, 24, 14, 22]].reshape(3, 3)\n",
    "new_array"
   ]
  },
  {
   "cell_type": "markdown",
   "metadata": {},
   "source": [
    "# **Part 2: Exercise Pandas**"
   ]
  },
  {
   "cell_type": "markdown",
   "metadata": {},
   "source": [
    "**Membuat DataFrame**\n",
    "\n",
    "Ikuti semua petunjuk yang harus dilakukan di bawah ini."
   ]
  },
  {
   "cell_type": "markdown",
   "metadata": {},
   "source": [
    "### **Nomor 4**\n",
    "\n",
    "**Buat dictionary untuk membuat DataFrame berjumlah 6 keys dan masing-masing key memiliki value berupa list dengan 10 item. Isi dari dictionary  mengikuti output Nomor 5.**"
   ]
  },
  {
   "cell_type": "code",
   "execution_count": 17,
   "metadata": {},
   "outputs": [],
   "source": [
    "karyawan = {\n",
    "    'Nama' : ['Andi', 'Budi', 'Caca', 'Dedi', 'Erika', 'Fahri', 'Gina', 'Hani', 'Indro', 'Jarot'],\n",
    "    'Gender' : ['Pria', 'Pria', 'Wanita', 'Pria', 'Wanita', 'Pria', 'Wanita', 'Wanita', 'Pria', 'Pria' ],\n",
    "    'Umur' : [24, 25, 30, 32, 28, 24, 29, 31, 30, 29],\n",
    "    'Domisili' : ['Jakarta', 'Tangerang Selatan', 'Jakarta', 'Bandung', 'Jakarta', 'Surabaya', 'Bandung', 'Yogyakarta', 'Jakarta', 'Tangerang Selatan'],\n",
    "    'Pekerjaan' : ['Data Analyst', 'Data Engineer', 'Data Scientist', 'Data Scientist', 'Data Analyst', 'Data Engineer', 'ML Engineer', 'ML Researcher', 'BI Analyst', 'Data Analyst'],\n",
    "    'Hobi' : ['Gaming', 'Futsal', 'Baca', 'Gaming', 'Masak', 'Traveling', 'Basket', 'Traveling', 'Gaming', 'Futsal']\n",
    "}"
   ]
  },
  {
   "cell_type": "markdown",
   "metadata": {},
   "source": [
    "### **Nomor 5**\n",
    "\n",
    "**Ubah dictionary dari Nomor 4 menjadi bentuk DataFrame dan simpan ke dalam variabel baru bernama `df`.**"
   ]
  },
  {
   "cell_type": "code",
   "execution_count": 18,
   "metadata": {},
   "outputs": [
    {
     "data": {
      "text/html": [
       "<div>\n",
       "<style scoped>\n",
       "    .dataframe tbody tr th:only-of-type {\n",
       "        vertical-align: middle;\n",
       "    }\n",
       "\n",
       "    .dataframe tbody tr th {\n",
       "        vertical-align: top;\n",
       "    }\n",
       "\n",
       "    .dataframe thead th {\n",
       "        text-align: right;\n",
       "    }\n",
       "</style>\n",
       "<table border=\"1\" class=\"dataframe\">\n",
       "  <thead>\n",
       "    <tr style=\"text-align: right;\">\n",
       "      <th></th>\n",
       "      <th>Nama</th>\n",
       "      <th>Gender</th>\n",
       "      <th>Umur</th>\n",
       "      <th>Domisili</th>\n",
       "      <th>Pekerjaan</th>\n",
       "      <th>Hobi</th>\n",
       "    </tr>\n",
       "  </thead>\n",
       "  <tbody>\n",
       "    <tr>\n",
       "      <th>0</th>\n",
       "      <td>Andi</td>\n",
       "      <td>Pria</td>\n",
       "      <td>24</td>\n",
       "      <td>Jakarta</td>\n",
       "      <td>Data Analyst</td>\n",
       "      <td>Gaming</td>\n",
       "    </tr>\n",
       "    <tr>\n",
       "      <th>1</th>\n",
       "      <td>Budi</td>\n",
       "      <td>Pria</td>\n",
       "      <td>25</td>\n",
       "      <td>Tangerang Selatan</td>\n",
       "      <td>Data Engineer</td>\n",
       "      <td>Futsal</td>\n",
       "    </tr>\n",
       "    <tr>\n",
       "      <th>2</th>\n",
       "      <td>Caca</td>\n",
       "      <td>Wanita</td>\n",
       "      <td>30</td>\n",
       "      <td>Jakarta</td>\n",
       "      <td>Data Scientist</td>\n",
       "      <td>Baca</td>\n",
       "    </tr>\n",
       "    <tr>\n",
       "      <th>3</th>\n",
       "      <td>Dedi</td>\n",
       "      <td>Pria</td>\n",
       "      <td>32</td>\n",
       "      <td>Bandung</td>\n",
       "      <td>Data Scientist</td>\n",
       "      <td>Gaming</td>\n",
       "    </tr>\n",
       "    <tr>\n",
       "      <th>4</th>\n",
       "      <td>Erika</td>\n",
       "      <td>Wanita</td>\n",
       "      <td>28</td>\n",
       "      <td>Jakarta</td>\n",
       "      <td>Data Analyst</td>\n",
       "      <td>Masak</td>\n",
       "    </tr>\n",
       "    <tr>\n",
       "      <th>5</th>\n",
       "      <td>Fahri</td>\n",
       "      <td>Pria</td>\n",
       "      <td>24</td>\n",
       "      <td>Surabaya</td>\n",
       "      <td>Data Engineer</td>\n",
       "      <td>Traveling</td>\n",
       "    </tr>\n",
       "    <tr>\n",
       "      <th>6</th>\n",
       "      <td>Gina</td>\n",
       "      <td>Wanita</td>\n",
       "      <td>29</td>\n",
       "      <td>Bandung</td>\n",
       "      <td>ML Engineer</td>\n",
       "      <td>Basket</td>\n",
       "    </tr>\n",
       "    <tr>\n",
       "      <th>7</th>\n",
       "      <td>Hani</td>\n",
       "      <td>Wanita</td>\n",
       "      <td>31</td>\n",
       "      <td>Yogyakarta</td>\n",
       "      <td>ML Researcher</td>\n",
       "      <td>Traveling</td>\n",
       "    </tr>\n",
       "    <tr>\n",
       "      <th>8</th>\n",
       "      <td>Indro</td>\n",
       "      <td>Pria</td>\n",
       "      <td>30</td>\n",
       "      <td>Jakarta</td>\n",
       "      <td>BI Analyst</td>\n",
       "      <td>Gaming</td>\n",
       "    </tr>\n",
       "    <tr>\n",
       "      <th>9</th>\n",
       "      <td>Jarot</td>\n",
       "      <td>Pria</td>\n",
       "      <td>29</td>\n",
       "      <td>Tangerang Selatan</td>\n",
       "      <td>Data Analyst</td>\n",
       "      <td>Futsal</td>\n",
       "    </tr>\n",
       "  </tbody>\n",
       "</table>\n",
       "</div>"
      ],
      "text/plain": [
       "    Nama  Gender  Umur           Domisili       Pekerjaan       Hobi\n",
       "0   Andi    Pria    24            Jakarta    Data Analyst     Gaming\n",
       "1   Budi    Pria    25  Tangerang Selatan   Data Engineer     Futsal\n",
       "2   Caca  Wanita    30            Jakarta  Data Scientist       Baca\n",
       "3   Dedi    Pria    32            Bandung  Data Scientist     Gaming\n",
       "4  Erika  Wanita    28            Jakarta    Data Analyst      Masak\n",
       "5  Fahri    Pria    24           Surabaya   Data Engineer  Traveling\n",
       "6   Gina  Wanita    29            Bandung     ML Engineer     Basket\n",
       "7   Hani  Wanita    31         Yogyakarta   ML Researcher  Traveling\n",
       "8  Indro    Pria    30            Jakarta      BI Analyst     Gaming\n",
       "9  Jarot    Pria    29  Tangerang Selatan    Data Analyst     Futsal"
      ]
     },
     "execution_count": 18,
     "metadata": {},
     "output_type": "execute_result"
    }
   ],
   "source": [
    "df = pd.DataFrame(karyawan)\n",
    "df"
   ]
  },
  {
   "cell_type": "markdown",
   "metadata": {},
   "source": [
    "### **Nomor 6**\n",
    "**Gunakan**:\n",
    "- `.iloc` untuk mengambil data Dedi, Fahri, Hani\n",
    "- `.loc` untuk mengambil data Dedi, Fahri, Hani"
   ]
  },
  {
   "cell_type": "code",
   "execution_count": 19,
   "metadata": {},
   "outputs": [
    {
     "data": {
      "text/html": [
       "<div>\n",
       "<style scoped>\n",
       "    .dataframe tbody tr th:only-of-type {\n",
       "        vertical-align: middle;\n",
       "    }\n",
       "\n",
       "    .dataframe tbody tr th {\n",
       "        vertical-align: top;\n",
       "    }\n",
       "\n",
       "    .dataframe thead th {\n",
       "        text-align: right;\n",
       "    }\n",
       "</style>\n",
       "<table border=\"1\" class=\"dataframe\">\n",
       "  <thead>\n",
       "    <tr style=\"text-align: right;\">\n",
       "      <th></th>\n",
       "      <th>Nama</th>\n",
       "      <th>Gender</th>\n",
       "      <th>Umur</th>\n",
       "      <th>Domisili</th>\n",
       "      <th>Pekerjaan</th>\n",
       "      <th>Hobi</th>\n",
       "    </tr>\n",
       "  </thead>\n",
       "  <tbody>\n",
       "    <tr>\n",
       "      <th>3</th>\n",
       "      <td>Dedi</td>\n",
       "      <td>Pria</td>\n",
       "      <td>32</td>\n",
       "      <td>Bandung</td>\n",
       "      <td>Data Scientist</td>\n",
       "      <td>Gaming</td>\n",
       "    </tr>\n",
       "    <tr>\n",
       "      <th>5</th>\n",
       "      <td>Fahri</td>\n",
       "      <td>Pria</td>\n",
       "      <td>24</td>\n",
       "      <td>Surabaya</td>\n",
       "      <td>Data Engineer</td>\n",
       "      <td>Traveling</td>\n",
       "    </tr>\n",
       "    <tr>\n",
       "      <th>7</th>\n",
       "      <td>Hani</td>\n",
       "      <td>Wanita</td>\n",
       "      <td>31</td>\n",
       "      <td>Yogyakarta</td>\n",
       "      <td>ML Researcher</td>\n",
       "      <td>Traveling</td>\n",
       "    </tr>\n",
       "  </tbody>\n",
       "</table>\n",
       "</div>"
      ],
      "text/plain": [
       "    Nama  Gender  Umur    Domisili       Pekerjaan       Hobi\n",
       "3   Dedi    Pria    32     Bandung  Data Scientist     Gaming\n",
       "5  Fahri    Pria    24    Surabaya   Data Engineer  Traveling\n",
       "7   Hani  Wanita    31  Yogyakarta   ML Researcher  Traveling"
      ]
     },
     "execution_count": 19,
     "metadata": {},
     "output_type": "execute_result"
    }
   ],
   "source": [
    "df.iloc[[3, 5, 7]]\n"
   ]
  },
  {
   "cell_type": "markdown",
   "metadata": {},
   "source": [
    "### **Nomor 7**\n",
    "**Gunakan**:\n",
    "- `loc`  untuk menampilkan domisili dan pekerjaan dari Caca dan Indro\n",
    "- `iloc` untuk menampilkan domisili dan pekerjaan dari Caca dan Indro"
   ]
  },
  {
   "cell_type": "code",
   "execution_count": 25,
   "metadata": {},
   "outputs": [
    {
     "data": {
      "text/html": [
       "<div>\n",
       "<style scoped>\n",
       "    .dataframe tbody tr th:only-of-type {\n",
       "        vertical-align: middle;\n",
       "    }\n",
       "\n",
       "    .dataframe tbody tr th {\n",
       "        vertical-align: top;\n",
       "    }\n",
       "\n",
       "    .dataframe thead th {\n",
       "        text-align: right;\n",
       "    }\n",
       "</style>\n",
       "<table border=\"1\" class=\"dataframe\">\n",
       "  <thead>\n",
       "    <tr style=\"text-align: right;\">\n",
       "      <th></th>\n",
       "      <th>Umur</th>\n",
       "      <th>Pekerjaan</th>\n",
       "    </tr>\n",
       "  </thead>\n",
       "  <tbody>\n",
       "    <tr>\n",
       "      <th>2</th>\n",
       "      <td>30</td>\n",
       "      <td>Data Scientist</td>\n",
       "    </tr>\n",
       "    <tr>\n",
       "      <th>8</th>\n",
       "      <td>30</td>\n",
       "      <td>BI Analyst</td>\n",
       "    </tr>\n",
       "  </tbody>\n",
       "</table>\n",
       "</div>"
      ],
      "text/plain": [
       "   Umur       Pekerjaan\n",
       "2    30  Data Scientist\n",
       "8    30      BI Analyst"
      ]
     },
     "execution_count": 25,
     "metadata": {},
     "output_type": "execute_result"
    }
   ],
   "source": [
    "df.loc[[2, 8],['Domisili', 'Pekerjaan']]\n",
    "\n",
    "df.iloc[[2,8],[2,4]]"
   ]
  },
  {
   "cell_type": "markdown",
   "metadata": {},
   "source": [
    "### **Nomor 8**\n",
    "Tampilkan semua data yang berumur dibawah 30 tahun"
   ]
  },
  {
   "cell_type": "code",
   "execution_count": 21,
   "metadata": {},
   "outputs": [
    {
     "data": {
      "text/html": [
       "<div>\n",
       "<style scoped>\n",
       "    .dataframe tbody tr th:only-of-type {\n",
       "        vertical-align: middle;\n",
       "    }\n",
       "\n",
       "    .dataframe tbody tr th {\n",
       "        vertical-align: top;\n",
       "    }\n",
       "\n",
       "    .dataframe thead th {\n",
       "        text-align: right;\n",
       "    }\n",
       "</style>\n",
       "<table border=\"1\" class=\"dataframe\">\n",
       "  <thead>\n",
       "    <tr style=\"text-align: right;\">\n",
       "      <th></th>\n",
       "      <th>Nama</th>\n",
       "      <th>Gender</th>\n",
       "      <th>Umur</th>\n",
       "      <th>Domisili</th>\n",
       "      <th>Pekerjaan</th>\n",
       "      <th>Hobi</th>\n",
       "    </tr>\n",
       "  </thead>\n",
       "  <tbody>\n",
       "    <tr>\n",
       "      <th>0</th>\n",
       "      <td>Andi</td>\n",
       "      <td>Pria</td>\n",
       "      <td>24</td>\n",
       "      <td>Jakarta</td>\n",
       "      <td>Data Analyst</td>\n",
       "      <td>Gaming</td>\n",
       "    </tr>\n",
       "    <tr>\n",
       "      <th>1</th>\n",
       "      <td>Budi</td>\n",
       "      <td>Pria</td>\n",
       "      <td>25</td>\n",
       "      <td>Tangerang Selatan</td>\n",
       "      <td>Data Engineer</td>\n",
       "      <td>Futsal</td>\n",
       "    </tr>\n",
       "    <tr>\n",
       "      <th>4</th>\n",
       "      <td>Erika</td>\n",
       "      <td>Wanita</td>\n",
       "      <td>28</td>\n",
       "      <td>Jakarta</td>\n",
       "      <td>Data Analyst</td>\n",
       "      <td>Masak</td>\n",
       "    </tr>\n",
       "    <tr>\n",
       "      <th>5</th>\n",
       "      <td>Fahri</td>\n",
       "      <td>Pria</td>\n",
       "      <td>24</td>\n",
       "      <td>Surabaya</td>\n",
       "      <td>Data Engineer</td>\n",
       "      <td>Traveling</td>\n",
       "    </tr>\n",
       "    <tr>\n",
       "      <th>6</th>\n",
       "      <td>Gina</td>\n",
       "      <td>Wanita</td>\n",
       "      <td>29</td>\n",
       "      <td>Bandung</td>\n",
       "      <td>ML Engineer</td>\n",
       "      <td>Basket</td>\n",
       "    </tr>\n",
       "    <tr>\n",
       "      <th>9</th>\n",
       "      <td>Jarot</td>\n",
       "      <td>Pria</td>\n",
       "      <td>29</td>\n",
       "      <td>Tangerang Selatan</td>\n",
       "      <td>Data Analyst</td>\n",
       "      <td>Futsal</td>\n",
       "    </tr>\n",
       "  </tbody>\n",
       "</table>\n",
       "</div>"
      ],
      "text/plain": [
       "    Nama  Gender  Umur           Domisili      Pekerjaan       Hobi\n",
       "0   Andi    Pria    24            Jakarta   Data Analyst     Gaming\n",
       "1   Budi    Pria    25  Tangerang Selatan  Data Engineer     Futsal\n",
       "4  Erika  Wanita    28            Jakarta   Data Analyst      Masak\n",
       "5  Fahri    Pria    24           Surabaya  Data Engineer  Traveling\n",
       "6   Gina  Wanita    29            Bandung    ML Engineer     Basket\n",
       "9  Jarot    Pria    29  Tangerang Selatan   Data Analyst     Futsal"
      ]
     },
     "execution_count": 21,
     "metadata": {},
     "output_type": "execute_result"
    }
   ],
   "source": [
    "df[df['Umur'] < 30]"
   ]
  },
  {
   "cell_type": "markdown",
   "metadata": {},
   "source": [
    "**9. Siapa sajakah yang berumur lebih dari 29 tahun dan hobinya Gaming?**"
   ]
  },
  {
   "cell_type": "code",
   "execution_count": 22,
   "metadata": {},
   "outputs": [
    {
     "data": {
      "text/html": [
       "<div>\n",
       "<style scoped>\n",
       "    .dataframe tbody tr th:only-of-type {\n",
       "        vertical-align: middle;\n",
       "    }\n",
       "\n",
       "    .dataframe tbody tr th {\n",
       "        vertical-align: top;\n",
       "    }\n",
       "\n",
       "    .dataframe thead th {\n",
       "        text-align: right;\n",
       "    }\n",
       "</style>\n",
       "<table border=\"1\" class=\"dataframe\">\n",
       "  <thead>\n",
       "    <tr style=\"text-align: right;\">\n",
       "      <th></th>\n",
       "      <th>Nama</th>\n",
       "      <th>Gender</th>\n",
       "      <th>Umur</th>\n",
       "      <th>Domisili</th>\n",
       "      <th>Pekerjaan</th>\n",
       "      <th>Hobi</th>\n",
       "    </tr>\n",
       "  </thead>\n",
       "  <tbody>\n",
       "    <tr>\n",
       "      <th>3</th>\n",
       "      <td>Dedi</td>\n",
       "      <td>Pria</td>\n",
       "      <td>32</td>\n",
       "      <td>Bandung</td>\n",
       "      <td>Data Scientist</td>\n",
       "      <td>Gaming</td>\n",
       "    </tr>\n",
       "    <tr>\n",
       "      <th>8</th>\n",
       "      <td>Indro</td>\n",
       "      <td>Pria</td>\n",
       "      <td>30</td>\n",
       "      <td>Jakarta</td>\n",
       "      <td>BI Analyst</td>\n",
       "      <td>Gaming</td>\n",
       "    </tr>\n",
       "  </tbody>\n",
       "</table>\n",
       "</div>"
      ],
      "text/plain": [
       "    Nama Gender  Umur Domisili       Pekerjaan    Hobi\n",
       "3   Dedi   Pria    32  Bandung  Data Scientist  Gaming\n",
       "8  Indro   Pria    30  Jakarta      BI Analyst  Gaming"
      ]
     },
     "execution_count": 22,
     "metadata": {},
     "output_type": "execute_result"
    }
   ],
   "source": [
    "df[(df['Umur'] > 29) & (df['Hobi'] == 'Gaming')]"
   ]
  },
  {
   "cell_type": "markdown",
   "metadata": {},
   "source": []
  }
 ],
 "metadata": {
  "colab": {
   "provenance": []
  },
  "kernelspec": {
   "display_name": "Python 3",
   "language": "python",
   "name": "python3"
  },
  "language_info": {
   "codemirror_mode": {
    "name": "ipython",
    "version": 3
   },
   "file_extension": ".py",
   "mimetype": "text/x-python",
   "name": "python",
   "nbconvert_exporter": "python",
   "pygments_lexer": "ipython3",
   "version": "3.13.5"
  },
  "orig_nbformat": 4
 },
 "nbformat": 4,
 "nbformat_minor": 0
}
