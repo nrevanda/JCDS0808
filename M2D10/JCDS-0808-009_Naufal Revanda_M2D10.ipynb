{
 "cells": [
  {
   "cell_type": "markdown",
   "metadata": {
    "id": "tQPQ1EbVbc3h"
   },
   "source": [
    "## **Modul 2: Data Analysis – Descriptive Statistics**\n",
    "\n",
    "1. Load dataset all_cars.csv yang telah Anda buat, simpan dalam variabel bernama ‘df_car’.\\\n",
    "&emsp;• Jika ada kolom bernama 'Unnamed: 0', ubah nama kolom tersebut menjadi 'id'!\\\n",
    "&emsp;• Jika tidak ada, lakukan reset index. Kemudian kolom paling kiri bernama 'index' ubah\n",
    "menjadi 'id'!"
   ]
  },
  {
   "cell_type": "code",
   "execution_count": 12,
   "metadata": {
    "id": "C0DwJYiPbc3o"
   },
   "outputs": [],
   "source": [
    "import pandas as pd\n",
    "import numpy as np\n",
    "\n",
    "import seaborn as sns\n",
    "import matplotlib.pyplot as plt"
   ]
  },
  {
   "cell_type": "code",
   "execution_count": 3,
   "metadata": {},
   "outputs": [
    {
     "data": {
      "text/html": [
       "<div>\n",
       "<style scoped>\n",
       "    .dataframe tbody tr th:only-of-type {\n",
       "        vertical-align: middle;\n",
       "    }\n",
       "\n",
       "    .dataframe tbody tr th {\n",
       "        vertical-align: top;\n",
       "    }\n",
       "\n",
       "    .dataframe thead th {\n",
       "        text-align: right;\n",
       "    }\n",
       "</style>\n",
       "<table border=\"1\" class=\"dataframe\">\n",
       "  <thead>\n",
       "    <tr style=\"text-align: right;\">\n",
       "      <th></th>\n",
       "      <th>index</th>\n",
       "      <th>brand</th>\n",
       "      <th>model</th>\n",
       "      <th>year</th>\n",
       "      <th>price</th>\n",
       "      <th>transmission</th>\n",
       "      <th>mileage</th>\n",
       "      <th>fuelType</th>\n",
       "      <th>tax</th>\n",
       "      <th>mpg</th>\n",
       "      <th>engineSize</th>\n",
       "    </tr>\n",
       "  </thead>\n",
       "  <tbody>\n",
       "    <tr>\n",
       "      <th>0</th>\n",
       "      <td>0</td>\n",
       "      <td>Audi</td>\n",
       "      <td>A1</td>\n",
       "      <td>2017</td>\n",
       "      <td>12500</td>\n",
       "      <td>Manual</td>\n",
       "      <td>15735</td>\n",
       "      <td>Petrol</td>\n",
       "      <td>150</td>\n",
       "      <td>55.4</td>\n",
       "      <td>1.4</td>\n",
       "    </tr>\n",
       "    <tr>\n",
       "      <th>1</th>\n",
       "      <td>1</td>\n",
       "      <td>Audi</td>\n",
       "      <td>A6</td>\n",
       "      <td>2016</td>\n",
       "      <td>16500</td>\n",
       "      <td>Automatic</td>\n",
       "      <td>36203</td>\n",
       "      <td>Diesel</td>\n",
       "      <td>20</td>\n",
       "      <td>64.2</td>\n",
       "      <td>2.0</td>\n",
       "    </tr>\n",
       "    <tr>\n",
       "      <th>2</th>\n",
       "      <td>2</td>\n",
       "      <td>Audi</td>\n",
       "      <td>A1</td>\n",
       "      <td>2016</td>\n",
       "      <td>11000</td>\n",
       "      <td>Manual</td>\n",
       "      <td>29946</td>\n",
       "      <td>Petrol</td>\n",
       "      <td>30</td>\n",
       "      <td>55.4</td>\n",
       "      <td>1.4</td>\n",
       "    </tr>\n",
       "    <tr>\n",
       "      <th>3</th>\n",
       "      <td>3</td>\n",
       "      <td>Audi</td>\n",
       "      <td>A4</td>\n",
       "      <td>2017</td>\n",
       "      <td>16800</td>\n",
       "      <td>Automatic</td>\n",
       "      <td>25952</td>\n",
       "      <td>Diesel</td>\n",
       "      <td>145</td>\n",
       "      <td>67.3</td>\n",
       "      <td>2.0</td>\n",
       "    </tr>\n",
       "    <tr>\n",
       "      <th>4</th>\n",
       "      <td>4</td>\n",
       "      <td>Audi</td>\n",
       "      <td>A3</td>\n",
       "      <td>2019</td>\n",
       "      <td>17300</td>\n",
       "      <td>Manual</td>\n",
       "      <td>1998</td>\n",
       "      <td>Petrol</td>\n",
       "      <td>145</td>\n",
       "      <td>49.6</td>\n",
       "      <td>1.0</td>\n",
       "    </tr>\n",
       "  </tbody>\n",
       "</table>\n",
       "</div>"
      ],
      "text/plain": [
       "   index brand model  year  price transmission  mileage fuelType  tax   mpg  \\\n",
       "0      0  Audi    A1  2017  12500       Manual    15735   Petrol  150  55.4   \n",
       "1      1  Audi    A6  2016  16500    Automatic    36203   Diesel   20  64.2   \n",
       "2      2  Audi    A1  2016  11000       Manual    29946   Petrol   30  55.4   \n",
       "3      3  Audi    A4  2017  16800    Automatic    25952   Diesel  145  67.3   \n",
       "4      4  Audi    A3  2019  17300       Manual     1998   Petrol  145  49.6   \n",
       "\n",
       "   engineSize  \n",
       "0         1.4  \n",
       "1         2.0  \n",
       "2         1.4  \n",
       "3         2.0  \n",
       "4         1.0  "
      ]
     },
     "execution_count": 3,
     "metadata": {},
     "output_type": "execute_result"
    }
   ],
   "source": [
    "df_car = pd.read_csv(r\"D:\\JCDS\\Exercise\\Module II - Day 7 Pandas Joins\\df_car.csv\")\n",
    "df_car.head()"
   ]
  },
  {
   "cell_type": "markdown",
   "metadata": {
    "id": "Gq1Ax86mbc3p"
   },
   "source": [
    "2. Tampilkan deskripsi statistik dari dataset df_car."
   ]
  },
  {
   "cell_type": "code",
   "execution_count": 6,
   "metadata": {},
   "outputs": [
    {
     "data": {
      "text/plain": [
       "array([150,  20,  30, 145, 125, 200,   0, 205, 160, 235, 260, 325, 300,\n",
       "       165, 240, 565, 265, 135, 570, 555, 140, 330, 305, 155, 580, 290,\n",
       "       195, 115, 295, 220, 230, 280, 315, 535, 190, 540, 515, 120, 250,\n",
       "        10])"
      ]
     },
     "execution_count": 6,
     "metadata": {},
     "output_type": "execute_result"
    }
   ],
   "source": [
    "df_car[\"tax\"].unique()"
   ]
  },
  {
   "cell_type": "code",
   "execution_count": 4,
   "metadata": {
    "id": "iBa4Msjcbc3q"
   },
   "outputs": [
    {
     "data": {
      "text/html": [
       "<div>\n",
       "<style scoped>\n",
       "    .dataframe tbody tr th:only-of-type {\n",
       "        vertical-align: middle;\n",
       "    }\n",
       "\n",
       "    .dataframe tbody tr th {\n",
       "        vertical-align: top;\n",
       "    }\n",
       "\n",
       "    .dataframe thead th {\n",
       "        text-align: right;\n",
       "    }\n",
       "</style>\n",
       "<table border=\"1\" class=\"dataframe\">\n",
       "  <thead>\n",
       "    <tr style=\"text-align: right;\">\n",
       "      <th></th>\n",
       "      <th>index</th>\n",
       "      <th>year</th>\n",
       "      <th>price</th>\n",
       "      <th>mileage</th>\n",
       "      <th>tax</th>\n",
       "      <th>mpg</th>\n",
       "      <th>engineSize</th>\n",
       "    </tr>\n",
       "  </thead>\n",
       "  <tbody>\n",
       "    <tr>\n",
       "      <th>count</th>\n",
       "      <td>22266.000000</td>\n",
       "      <td>22266.000000</td>\n",
       "      <td>22266.000000</td>\n",
       "      <td>22266.000000</td>\n",
       "      <td>22266.000000</td>\n",
       "      <td>22266.000000</td>\n",
       "      <td>22266.000000</td>\n",
       "    </tr>\n",
       "    <tr>\n",
       "      <th>mean</th>\n",
       "      <td>4105.007680</td>\n",
       "      <td>2016.995509</td>\n",
       "      <td>17542.591575</td>\n",
       "      <td>23501.863604</td>\n",
       "      <td>115.473592</td>\n",
       "      <td>55.151181</td>\n",
       "      <td>1.688489</td>\n",
       "    </tr>\n",
       "    <tr>\n",
       "      <th>std</th>\n",
       "      <td>2760.202843</td>\n",
       "      <td>2.133576</td>\n",
       "      <td>10589.835312</td>\n",
       "      <td>21111.157417</td>\n",
       "      <td>68.835239</td>\n",
       "      <td>14.834181</td>\n",
       "      <td>0.566379</td>\n",
       "    </tr>\n",
       "    <tr>\n",
       "      <th>min</th>\n",
       "      <td>0.000000</td>\n",
       "      <td>1997.000000</td>\n",
       "      <td>850.000000</td>\n",
       "      <td>1.000000</td>\n",
       "      <td>0.000000</td>\n",
       "      <td>1.100000</td>\n",
       "      <td>0.000000</td>\n",
       "    </tr>\n",
       "    <tr>\n",
       "      <th>25%</th>\n",
       "      <td>1855.000000</td>\n",
       "      <td>2016.000000</td>\n",
       "      <td>9999.000000</td>\n",
       "      <td>7200.000000</td>\n",
       "      <td>30.000000</td>\n",
       "      <td>44.800000</td>\n",
       "      <td>1.400000</td>\n",
       "    </tr>\n",
       "    <tr>\n",
       "      <th>50%</th>\n",
       "      <td>3710.500000</td>\n",
       "      <td>2017.000000</td>\n",
       "      <td>14999.000000</td>\n",
       "      <td>18354.000000</td>\n",
       "      <td>145.000000</td>\n",
       "      <td>55.400000</td>\n",
       "      <td>1.600000</td>\n",
       "    </tr>\n",
       "    <tr>\n",
       "      <th>75%</th>\n",
       "      <td>5919.000000</td>\n",
       "      <td>2019.000000</td>\n",
       "      <td>21991.000000</td>\n",
       "      <td>33100.750000</td>\n",
       "      <td>145.000000</td>\n",
       "      <td>62.800000</td>\n",
       "      <td>2.000000</td>\n",
       "    </tr>\n",
       "    <tr>\n",
       "      <th>max</th>\n",
       "      <td>10667.000000</td>\n",
       "      <td>2020.000000</td>\n",
       "      <td>145000.000000</td>\n",
       "      <td>323000.000000</td>\n",
       "      <td>580.000000</td>\n",
       "      <td>256.800000</td>\n",
       "      <td>6.300000</td>\n",
       "    </tr>\n",
       "  </tbody>\n",
       "</table>\n",
       "</div>"
      ],
      "text/plain": [
       "              index          year          price        mileage           tax  \\\n",
       "count  22266.000000  22266.000000   22266.000000   22266.000000  22266.000000   \n",
       "mean    4105.007680   2016.995509   17542.591575   23501.863604    115.473592   \n",
       "std     2760.202843      2.133576   10589.835312   21111.157417     68.835239   \n",
       "min        0.000000   1997.000000     850.000000       1.000000      0.000000   \n",
       "25%     1855.000000   2016.000000    9999.000000    7200.000000     30.000000   \n",
       "50%     3710.500000   2017.000000   14999.000000   18354.000000    145.000000   \n",
       "75%     5919.000000   2019.000000   21991.000000   33100.750000    145.000000   \n",
       "max    10667.000000   2020.000000  145000.000000  323000.000000    580.000000   \n",
       "\n",
       "                mpg    engineSize  \n",
       "count  22266.000000  22266.000000  \n",
       "mean      55.151181      1.688489  \n",
       "std       14.834181      0.566379  \n",
       "min        1.100000      0.000000  \n",
       "25%       44.800000      1.400000  \n",
       "50%       55.400000      1.600000  \n",
       "75%       62.800000      2.000000  \n",
       "max      256.800000      6.300000  "
      ]
     },
     "execution_count": 4,
     "metadata": {},
     "output_type": "execute_result"
    }
   ],
   "source": [
    "df_car.describe()"
   ]
  },
  {
   "cell_type": "markdown",
   "metadata": {
    "id": "az-cWrLsbc3r"
   },
   "source": [
    "3. Kita mengenal bahwa Variabel dibagi menjadi 2, yaitu variabel Kualitatif dan Kuantitatif.\\\n",
    "&emsp;• Var. Kualitatif dibagi menjadi 2, yaitu: Nominal dan Ordinal\\\n",
    "&emsp;• Var. Kualitatif dibagi menjadi 2, yaitu: Continue dan Discrete\n",
    "\n",
    "&emsp;&emsp;Kolom mana saja yang menurut Anda merupakan var. kualitatif? Mana yang Nominal dan Ordinal?\\\n",
    "&emsp;&emsp;Kolom mana saja yang menurut Anda merupakan var. kuantitatif? Mana yang Continue dan\n",
    "Discrete?"
   ]
  },
  {
   "cell_type": "code",
   "execution_count": null,
   "metadata": {},
   "outputs": [],
   "source": [
    "# Nominal : cuman nama\n",
    "# ordinal : punya urutan\n",
    "# diskrit : bisa dihitung\n",
    "# continous : bisa diukur"
   ]
  },
  {
   "cell_type": "code",
   "execution_count": null,
   "metadata": {
    "id": "e0YOkNAlbc3r"
   },
   "outputs": [],
   "source": [
    "# Variabel kualitatif:\n",
    "    # Nominal : brand, model, transmission, fuelType\n",
    "    # Ordinal : \n",
    "    \n",
    "# Variabel kuantitatif:\n",
    "    # Diskrit : tax\n",
    "    # Continue : price, mileage, mpg, engineSize"
   ]
  },
  {
   "cell_type": "markdown",
   "metadata": {
    "id": "xf94tFy1bc3r"
   },
   "source": [
    "4. Apa yg dimaksud dengan Measure of Central Tendency? Tampilkan Measure of Central Tendency\n",
    "dari kolom 'model' dan 'price'! Central Tendency apa yang cocok untuk kolom 'model' dan 'price'?"
   ]
  },
  {
   "cell_type": "code",
   "execution_count": null,
   "metadata": {
    "id": "OUC1PQU6bc3r"
   },
   "outputs": [],
   "source": [
    "# Measure of Central Tendency menyatakan titik pusat atau nilai yang mewakili sekolompok data.\n",
    "# nilai tengah atau nilai umum dari sekumpulan angka\n",
    "# Modus, median, mean"
   ]
  },
  {
   "cell_type": "code",
   "execution_count": 11,
   "metadata": {},
   "outputs": [
    {
     "data": {
      "text/plain": [
       "0    Yaris\n",
       "Name: model, dtype: object"
      ]
     },
     "execution_count": 11,
     "metadata": {},
     "output_type": "execute_result"
    }
   ],
   "source": [
    "# untuk 'model' paling cocok menggunakan modus\n",
    "# modus menghitgung measure of center berdasarkan variabel kualitatif\n",
    "df_car[\"model\"].mode()"
   ]
  },
  {
   "cell_type": "code",
   "execution_count": null,
   "metadata": {},
   "outputs": [
    {
     "data": {
      "text/plain": [
       "<Axes: ylabel='price'>"
      ]
     },
     "execution_count": 13,
     "metadata": {},
     "output_type": "execute_result"
    },
    {
     "data": {
      "image/png": "[encoded data removed]",
      "text/plain": [
       "<Figure size 640x480 with 1 Axes>"
      ]
     },
     "metadata": {},
     "output_type": "display_data"
    }
   ],
   "source": [
    "# untuk variabel kuantitatif, bisa menggunakan mean atau median tergantung persebaran data\n",
    "\n",
    "# Step 1. cek distribusi data\n",
    "sns.boxplot(data=df_car[\"price\"])"
   ]
  },
  {
   "cell_type": "code",
   "execution_count": 15,
   "metadata": {},
   "outputs": [
    {
     "data": {
      "text/plain": [
       "np.float64(14999.0)"
      ]
     },
     "execution_count": 15,
     "metadata": {},
     "output_type": "execute_result"
    }
   ],
   "source": [
    "# Step 2. menghitung central tendency\n",
    "# karena distribusi data tidak normal (right skewed), median paling cocok digunakan untuk menghindari bias\n",
    "\n",
    "df_car[\"price\"].median()"
   ]
  },
  {
   "cell_type": "code",
   "execution_count": 19,
   "metadata": {},
   "outputs": [
    {
     "data": {
      "text/plain": [
       "count     22266.000000\n",
       "mean      17542.591575\n",
       "std       10589.835312\n",
       "min         850.000000\n",
       "25%        9999.000000\n",
       "50%       14999.000000\n",
       "75%       21991.000000\n",
       "max      145000.000000\n",
       "Name: price, dtype: float64"
      ]
     },
     "execution_count": 19,
     "metadata": {},
     "output_type": "execute_result"
    }
   ],
   "source": [
    "df_car[\"price\"].describe()"
   ]
  },
  {
   "cell_type": "markdown",
   "metadata": {
    "id": "YnWpLnR5bc3s"
   },
   "source": [
    "5. Apa yang dimaksud dengan Measure of Spread? Tampilkan Measure of Spread dari kolom 'price'!"
   ]
  },
  {
   "cell_type": "code",
   "execution_count": 23,
   "metadata": {
    "id": "D1yYRR2Nbc3s"
   },
   "outputs": [
    {
     "name": "stdout",
     "output_type": "stream",
     "text": [
      "rentang data dari kolom price adalah 144150\n"
     ]
    }
   ],
   "source": [
    "# measure of spread menggambarkan seberapa tersebar suata data dari nilai pusatnya (mean, median, modus)\n",
    "\n",
    "# 1. Range -> rentang data\n",
    "range_price = df_car[\"price\"].max() - df_car[\"price\"].min()\n",
    "print(f\"rentang data dari kolom price adalah {range_price}\")"
   ]
  },
  {
   "cell_type": "code",
   "execution_count": 25,
   "metadata": {},
   "outputs": [
    {
     "name": "stdout",
     "output_type": "stream",
     "text": [
      "standar deviasi dari kolom 'price' adalah 10589.835311802195\n"
     ]
    }
   ],
   "source": [
    "# 2. Standar deviation -> menunjukan seberapa jauh data tersebar dari rata-ratanya\n",
    "    # std besar : data menyebar jauh dari rata-rata\n",
    "    # std kecil : data terkonsentrasi dari rata-rata\n",
    "    \n",
    "std_price = df_car[\"price\"].std()\n",
    "print(f\"standar deviasi dari kolom 'price' adalah {std_price}\")"
   ]
  },
  {
   "cell_type": "code",
   "execution_count": null,
   "metadata": {},
   "outputs": [
    {
     "name": "stdout",
     "output_type": "stream",
     "text": [
      " Q1 dari kolom 'price' adalah 9999.0\n",
      " Q2 dari kolom 'price' adalah 14999.0\n",
      " Q3 dari kolom 'price' adalah 21991.0\n"
     ]
    }
   ],
   "source": [
    "# 3. Quantile -> bagian dengan jumlah data yang sama\n",
    "\n",
    "Q1 = df_car[\"price\"].quantile(0.25)\n",
    "Q2 = df_car[\"price\"].quantile(0.50)\n",
    "Q3 = df_car[\"price\"].quantile(0.75)\n",
    "\n",
    "print(f\" Q1 dari kolom 'price' adalah {Q1}\")\n",
    "print(f\" Q2 dari kolom 'price' adalah {Q2}\")\n",
    "print(f\" Q3 dari kolom 'price' adalah {Q3}\")"
   ]
  },
  {
   "cell_type": "code",
   "execution_count": null,
   "metadata": {},
   "outputs": [
    {
     "name": "stdout",
     "output_type": "stream",
     "text": [
      "IQR dari kolom price adalah 11992.0\n"
     ]
    }
   ],
   "source": [
    "# 4. Interquantile range (IQR) -> mengukur penyebaran data tanpa terpengaruh outlier \n",
    "IQR_price = Q3 - Q1\n",
    "print(f\"IQR dari kolom price adalah {IQR_price}\")"
   ]
  },
  {
   "cell_type": "code",
   "execution_count": 27,
   "metadata": {},
   "outputs": [
    {
     "name": "stdout",
     "output_type": "stream",
     "text": [
      "batas bawah dan atas dari kolom price adalah -7989.0 dan 39979.0\n"
     ]
    }
   ],
   "source": [
    "# 5. Batas -> untuk mengetahui batas outlier berdasarkan IQR\n",
    "\n",
    "batas_bawah_price = Q1 - 1.5 * IQR_price\n",
    "batas_atas_price = Q3 + 1.5 * IQR_price\n",
    "\n",
    "print(f\"batas bawah dan atas dari kolom price adalah {batas_bawah_price} dan {batas_atas_price}\")"
   ]
  },
  {
   "cell_type": "markdown",
   "metadata": {
    "id": "WYnfqIQ0bc3s"
   },
   "source": [
    "6. Apakah ada Outlier pada kolom 'price'? Kalau ada, berapa banyak data yang merupakan outliers?"
   ]
  },
  {
   "cell_type": "code",
   "execution_count": 29,
   "metadata": {
    "id": "heClW0e4bc3t"
   },
   "outputs": [
    {
     "data": {
      "text/plain": [
       "<Axes: xlabel='price'>"
      ]
     },
     "execution_count": 29,
     "metadata": {},
     "output_type": "execute_result"
    },
    {
     "data": {
      "image/png": "[encoded data removed]",
      "text/plain": [
       "<Figure size 640x480 with 1 Axes>"
      ]
     },
     "metadata": {},
     "output_type": "display_data"
    }
   ],
   "source": [
    "sns.boxplot(x= df_car[\"price\"])"
   ]
  },
  {
   "cell_type": "code",
   "execution_count": 153,
   "metadata": {},
   "outputs": [],
   "source": [
    "def hitung_outlier(df, kolom):\n",
    "    Q1 = df[kolom].quantile(0.25)\n",
    "    Q3 = df[kolom].quantile(0.75)\n",
    "    IQR = Q3 - Q1\n",
    "\n",
    "    batas_bawah = Q1 - 1.5 * IQR\n",
    "    batas_atas = Q3 + 1.5 * IQR\n",
    "\n",
    "    outlier_bawah = df[kolom] < batas_bawah\n",
    "    outlier_atas = df[kolom] > batas_atas\n",
    "\n",
    "    jumlah_outlier_bawah = outlier_bawah.sum()\n",
    "    jumlah_outlier_atas = outlier_atas.sum()\n",
    "    jumlah_total = jumlah_outlier_atas + jumlah_outlier_bawah\n",
    "\n",
    "    print(f\"Kolom: {kolom}\")\n",
    "    print(f\"Batas bawah: {batas_bawah}\")\n",
    "    print(f\"Batas atas: {batas_atas}\")\n",
    "    print(f\"Outlier bawah: {jumlah_outlier_bawah}\")\n",
    "    print(f\"Outlier atas: {jumlah_outlier_atas}\")\n",
    "    print(f\"Total outlier: {jumlah_total}\")\n",
    "\n",
    "    return {\n",
    "        \"batas_bawah\": batas_bawah,\n",
    "        \"batas_atas\": batas_atas,\n",
    "        \"outlier_bawah\": jumlah_outlier_bawah,\n",
    "        \"outlier_atas\": jumlah_outlier_atas,\n",
    "        \"total_outlier\": jumlah_total\n",
    "    }"
   ]
  },
  {
   "cell_type": "code",
   "execution_count": 154,
   "metadata": {},
   "outputs": [
    {
     "name": "stdout",
     "output_type": "stream",
     "text": [
      "Kolom: price\n",
      "Batas bawah: -7989.0\n",
      "Batas atas: 39979.0\n",
      "Outlier bawah: 0\n",
      "Outlier atas: 808\n",
      "Total outlier: 808\n"
     ]
    },
    {
     "data": {
      "text/plain": [
       "{'batas_bawah': np.float64(-7989.0),\n",
       " 'batas_atas': np.float64(39979.0),\n",
       " 'outlier_bawah': np.int64(0),\n",
       " 'outlier_atas': np.int64(808),\n",
       " 'total_outlier': np.int64(808)}"
      ]
     },
     "execution_count": 154,
     "metadata": {},
     "output_type": "execute_result"
    }
   ],
   "source": [
    "hitung_outlier(df_car, \"price\")"
   ]
  },
  {
   "cell_type": "code",
   "execution_count": 38,
   "metadata": {},
   "outputs": [
    {
     "name": "stdout",
     "output_type": "stream",
     "text": [
      "<class 'pandas.core.frame.DataFrame'>\n",
      "RangeIndex: 22266 entries, 0 to 22265\n",
      "Data columns (total 11 columns):\n",
      " #   Column        Non-Null Count  Dtype  \n",
      "---  ------        --------------  -----  \n",
      " 0   index         22266 non-null  int64  \n",
      " 1   brand         22266 non-null  object \n",
      " 2   model         22266 non-null  object \n",
      " 3   year          22266 non-null  int64  \n",
      " 4   price         22266 non-null  int64  \n",
      " 5   transmission  22266 non-null  object \n",
      " 6   mileage       22266 non-null  int64  \n",
      " 7   fuelType      22266 non-null  object \n",
      " 8   tax           22266 non-null  int64  \n",
      " 9   mpg           22266 non-null  float64\n",
      " 10  engineSize    22266 non-null  float64\n",
      "dtypes: float64(2), int64(5), object(4)\n",
      "memory usage: 1.9+ MB\n"
     ]
    }
   ],
   "source": [
    "df_car.info()"
   ]
  },
  {
   "cell_type": "markdown",
   "metadata": {
    "id": "yiC6lbu7bc3t"
   },
   "source": [
    "7. Variabel/kolom apa saja yang memiliki distribusi skewed ke kanan?"
   ]
  },
  {
   "cell_type": "code",
   "execution_count": null,
   "metadata": {
    "id": "soRr8DqXbc3t"
   },
   "outputs": [
    {
     "data": {
      "text/plain": [
       "<Axes: xlabel='price', ylabel='Count'>"
      ]
     },
     "metadata": {},
     "output_type": "display_data"
    },
    {
     "data": {
      "text/plain": [
       "<Axes: xlabel='price', ylabel='Count'>"
      ]
     },
     "metadata": {},
     "output_type": "display_data"
    },
    {
     "data": {
      "image/png": "[encoded data removed]",
      "text/plain": [
       "<Figure size 640x480 with 1 Axes>"
      ]
     },
     "metadata": {},
     "output_type": "display_data"
    }
   ],
   "source": [
    "sns.histplot(df_car[\"price\"], kde=True)"
   ]
  },
  {
   "cell_type": "code",
   "execution_count": 50,
   "metadata": {},
   "outputs": [
    {
     "data": {
      "text/plain": [
       "<Axes: xlabel='mpg', ylabel='Count'>"
      ]
     },
     "execution_count": 50,
     "metadata": {},
     "output_type": "execute_result"
    },
    {
     "data": {
      "image/png": "[encoded data removed]",
      "text/plain": [
       "<Figure size 640x480 with 1 Axes>"
      ]
     },
     "metadata": {},
     "output_type": "display_data"
    }
   ],
   "source": [
    "sns.histplot(df_car[\"mpg\"], kde=True)"
   ]
  },
  {
   "cell_type": "markdown",
   "metadata": {
    "id": "jcY21RSobc3t"
   },
   "source": [
    "8. Grafik apa yang cocok untuk menampilkan visualisasi:\\\n",
    "&emsp;• brand vs price\\\n",
    "  &emsp;• price vs mileage\\\n",
    "&emsp;• frequency distribution of mileage"
   ]
  },
  {
   "cell_type": "code",
   "execution_count": 61,
   "metadata": {
    "id": "Df3rGN0Pbc3t"
   },
   "outputs": [
    {
     "data": {
      "text/plain": [
       "<Axes: xlabel='brand', ylabel='price'>"
      ]
     },
     "execution_count": 61,
     "metadata": {},
     "output_type": "execute_result"
    },
    {
     "data": {
      "image/png": "[encoded data removed]",
      "text/plain": [
       "<Figure size 640x480 with 1 Axes>"
      ]
     },
     "metadata": {},
     "output_type": "display_data"
    }
   ],
   "source": [
    "# 1. brand vs price\n",
    "    # boxplot melihat distribusi harga per brand\n",
    "sns.boxplot(data=df_car, x='brand', y='price')"
   ]
  },
  {
   "cell_type": "code",
   "execution_count": 63,
   "metadata": {},
   "outputs": [
    {
     "data": {
      "text/plain": [
       "<Axes: xlabel='mileage', ylabel='price'>"
      ]
     },
     "execution_count": 63,
     "metadata": {},
     "output_type": "execute_result"
    },
    {
     "data": {
      "image/png": "[encoded data removed]",
      "text/plain": [
       "<Figure size 640x480 with 1 Axes>"
      ]
     },
     "metadata": {},
     "output_type": "display_data"
    }
   ],
   "source": [
    "# 2. price vs mileage\n",
    "    # scatter plot cocok untuk melihat hubungan dua variabel angka\n",
    "\n",
    "sns.scatterplot(data=df_car, x='mileage', y='price')"
   ]
  },
  {
   "cell_type": "code",
   "execution_count": null,
   "metadata": {},
   "outputs": [
    {
     "data": {
      "text/plain": [
       "<Axes: xlabel='mileage', ylabel='Count'>"
      ]
     },
     "execution_count": 73,
     "metadata": {},
     "output_type": "execute_result"
    },
    {
     "data": {
      "image/png": "[encoded data removed]",
      "text/plain": [
       "<Figure size 640x480 with 1 Axes>"
      ]
     },
     "metadata": {},
     "output_type": "display_data"
    }
   ],
   "source": [
    "# 3. distribusi frekuensi dari 'mileage'\n",
    "\n",
    "sns.histplot(data=df_car, x='mileage', bins=30)"
   ]
  },
  {
   "cell_type": "markdown",
   "metadata": {
    "id": "YCPOfEq2bc3t"
   },
   "source": [
    "9. Nilai Mean dan Median dari kolom 'mileage' berbeda jauh. Coba buktikan apakah kolom tersebut\n",
    "terdistribusi normal atau tidak dengan menggunakan Kolmogorov Smirnov Test, Lilliefors Test, Shapiro Wilk Test, & D’Agostino and Pearson’s Test!\n",
    "Kemudian cek skewness dan kurtosis, lalu simpulkan berdasarkan nilai tersebut."
   ]
  },
  {
   "cell_type": "code",
   "execution_count": 79,
   "metadata": {
    "id": "JSmlSbewbc3u"
   },
   "outputs": [
    {
     "name": "stdout",
     "output_type": "stream",
     "text": [
      "median dari 'mileage' adalah 18354.0\n",
      "mean dari 'mileage' adalah 23501.86360370071\n"
     ]
    },
    {
     "data": {
      "image/png": "[encoded data removed]",
      "text/plain": [
       "<Figure size 640x480 with 1 Axes>"
      ]
     },
     "metadata": {},
     "output_type": "display_data"
    }
   ],
   "source": [
    "sns.histplot(data=df_car, x='mileage', bins=30)\n",
    "print(f\"median dari 'mileage' adalah {df_car['mileage'].median()}\")\n",
    "print(f\"mean dari 'mileage' adalah {df_car['mileage'].mean()}\")\n",
    "\n",
    "# distribusi 'mileage' : right skewed"
   ]
  },
  {
   "cell_type": "code",
   "execution_count": 89,
   "metadata": {},
   "outputs": [
    {
     "name": "stdout",
     "output_type": "stream",
     "text": [
      "Collecting statsmodels\n",
      "  Downloading statsmodels-0.14.5-cp313-cp313-win_amd64.whl.metadata (9.8 kB)\n",
      "Requirement already satisfied: numpy<3,>=1.22.3 in c:\\users\\lenovo\\appdata\\local\\programs\\python\\python313\\lib\\site-packages (from statsmodels) (2.3.1)\n",
      "Requirement already satisfied: scipy!=1.9.2,>=1.8 in c:\\users\\lenovo\\appdata\\local\\programs\\python\\python313\\lib\\site-packages (from statsmodels) (1.16.0)\n",
      "Requirement already satisfied: pandas!=2.1.0,>=1.4 in c:\\users\\lenovo\\appdata\\local\\programs\\python\\python313\\lib\\site-packages (from statsmodels) (2.3.1)\n",
      "Collecting patsy>=0.5.6 (from statsmodels)\n",
      "  Downloading patsy-1.0.1-py2.py3-none-any.whl.metadata (3.3 kB)\n",
      "Requirement already satisfied: packaging>=21.3 in c:\\users\\lenovo\\appdata\\roaming\\python\\python313\\site-packages (from statsmodels) (25.0)\n",
      "Requirement already satisfied: python-dateutil>=2.8.2 in c:\\users\\lenovo\\appdata\\local\\programs\\python\\python313\\lib\\site-packages (from pandas!=2.1.0,>=1.4->statsmodels) (2.9.0.post0)\n",
      "Requirement already satisfied: pytz>=2020.1 in c:\\users\\lenovo\\appdata\\local\\programs\\python\\python313\\lib\\site-packages (from pandas!=2.1.0,>=1.4->statsmodels) (2025.2)\n",
      "Requirement already satisfied: tzdata>=2022.7 in c:\\users\\lenovo\\appdata\\local\\programs\\python\\python313\\lib\\site-packages (from pandas!=2.1.0,>=1.4->statsmodels) (2025.2)\n",
      "Requirement already satisfied: six>=1.5 in c:\\users\\lenovo\\appdata\\local\\programs\\python\\python313\\lib\\site-packages (from python-dateutil>=2.8.2->pandas!=2.1.0,>=1.4->statsmodels) (1.17.0)\n",
      "Downloading statsmodels-0.14.5-cp313-cp313-win_amd64.whl (9.6 MB)\n",
      "   ---------------------------------------- 0.0/9.6 MB ? eta -:--:--\n",
      "   ---------------------------------------- 0.0/9.6 MB ? eta -:--:--\n",
      "   ---------------------------------------- 0.0/9.6 MB ? eta -:--:--\n",
      "   ---------------------------------------- 0.0/9.6 MB ? eta -:--:--\n",
      "   - -------------------------------------- 0.3/9.6 MB ? eta -:--:--\n",
      "   - -------------------------------------- 0.3/9.6 MB ? eta -:--:--\n",
      "   - -------------------------------------- 0.3/9.6 MB ? eta -:--:--\n",
      "   -- ------------------------------------- 0.5/9.6 MB 380.4 kB/s eta 0:00:24\n",
      "   -- ------------------------------------- 0.5/9.6 MB 380.4 kB/s eta 0:00:24\n",
      "   -- ------------------------------------- 0.5/9.6 MB 380.4 kB/s eta 0:00:24\n",
      "   --- ------------------------------------ 0.8/9.6 MB 410.9 kB/s eta 0:00:22\n",
      "   --- ------------------------------------ 0.8/9.6 MB 410.9 kB/s eta 0:00:22\n",
      "   --- ------------------------------------ 0.8/9.6 MB 410.9 kB/s eta 0:00:22\n",
      "   ---- ----------------------------------- 1.0/9.6 MB 419.3 kB/s eta 0:00:21\n",
      "   ---- ----------------------------------- 1.0/9.6 MB 419.3 kB/s eta 0:00:21\n",
      "   ---- ----------------------------------- 1.0/9.6 MB 419.3 kB/s eta 0:00:21\n",
      "   ----- ---------------------------------- 1.3/9.6 MB 411.2 kB/s eta 0:00:21\n",
      "   ----- ---------------------------------- 1.3/9.6 MB 411.2 kB/s eta 0:00:21\n",
      "   ----- ---------------------------------- 1.3/9.6 MB 411.2 kB/s eta 0:00:21\n",
      "   ----- ---------------------------------- 1.3/9.6 MB 411.2 kB/s eta 0:00:21\n",
      "   ------ --------------------------------- 1.6/9.6 MB 397.1 kB/s eta 0:00:21\n",
      "   ------ --------------------------------- 1.6/9.6 MB 397.1 kB/s eta 0:00:21\n",
      "   ------ --------------------------------- 1.6/9.6 MB 397.1 kB/s eta 0:00:21\n",
      "   ------ --------------------------------- 1.6/9.6 MB 397.1 kB/s eta 0:00:21\n",
      "   ------ --------------------------------- 1.6/9.6 MB 397.1 kB/s eta 0:00:21\n",
      "   ------- -------------------------------- 1.8/9.6 MB 357.4 kB/s eta 0:00:22\n",
      "   ------- -------------------------------- 1.8/9.6 MB 357.4 kB/s eta 0:00:22\n",
      "   ------- -------------------------------- 1.8/9.6 MB 357.4 kB/s eta 0:00:22\n",
      "   ------- -------------------------------- 1.8/9.6 MB 357.4 kB/s eta 0:00:22\n",
      "   ------- -------------------------------- 1.8/9.6 MB 357.4 kB/s eta 0:00:22\n",
      "   ------- -------------------------------- 1.8/9.6 MB 357.4 kB/s eta 0:00:22\n",
      "   ------- -------------------------------- 1.8/9.6 MB 357.4 kB/s eta 0:00:22\n",
      "   ------- -------------------------------- 1.8/9.6 MB 357.4 kB/s eta 0:00:22\n",
      "   -------- ------------------------------- 2.1/9.6 MB 294.6 kB/s eta 0:00:26\n",
      "   -------- ------------------------------- 2.1/9.6 MB 294.6 kB/s eta 0:00:26\n",
      "   -------- ------------------------------- 2.1/9.6 MB 294.6 kB/s eta 0:00:26\n",
      "   -------- ------------------------------- 2.1/9.6 MB 294.6 kB/s eta 0:00:26\n",
      "   --------- ------------------------------ 2.4/9.6 MB 302.3 kB/s eta 0:00:24\n",
      "   --------- ------------------------------ 2.4/9.6 MB 302.3 kB/s eta 0:00:24\n",
      "   --------- ------------------------------ 2.4/9.6 MB 302.3 kB/s eta 0:00:24\n",
      "   --------- ------------------------------ 2.4/9.6 MB 302.3 kB/s eta 0:00:24\n",
      "   ---------- ----------------------------- 2.6/9.6 MB 301.3 kB/s eta 0:00:24\n",
      "   ---------- ----------------------------- 2.6/9.6 MB 301.3 kB/s eta 0:00:24\n",
      "   ---------- ----------------------------- 2.6/9.6 MB 301.3 kB/s eta 0:00:24\n",
      "   ---------- ----------------------------- 2.6/9.6 MB 301.3 kB/s eta 0:00:24\n",
      "   ------------ --------------------------- 2.9/9.6 MB 299.7 kB/s eta 0:00:23\n",
      "   ------------ --------------------------- 2.9/9.6 MB 299.7 kB/s eta 0:00:23\n",
      "   ------------ --------------------------- 2.9/9.6 MB 299.7 kB/s eta 0:00:23\n",
      "   ------------ --------------------------- 2.9/9.6 MB 299.7 kB/s eta 0:00:23\n",
      "   ------------- -------------------------- 3.1/9.6 MB 296.4 kB/s eta 0:00:22\n",
      "   ------------- -------------------------- 3.1/9.6 MB 296.4 kB/s eta 0:00:22\n",
      "   ------------- -------------------------- 3.1/9.6 MB 296.4 kB/s eta 0:00:22\n",
      "   ------------- -------------------------- 3.1/9.6 MB 296.4 kB/s eta 0:00:22\n",
      "   ------------- -------------------------- 3.1/9.6 MB 296.4 kB/s eta 0:00:22\n",
      "   -------------- ------------------------- 3.4/9.6 MB 296.0 kB/s eta 0:00:21\n",
      "   -------------- ------------------------- 3.4/9.6 MB 296.0 kB/s eta 0:00:21\n",
      "   -------------- ------------------------- 3.4/9.6 MB 296.0 kB/s eta 0:00:21\n",
      "   --------------- ------------------------ 3.7/9.6 MB 299.3 kB/s eta 0:00:20\n",
      "   --------------- ------------------------ 3.7/9.6 MB 299.3 kB/s eta 0:00:20\n",
      "   --------------- ------------------------ 3.7/9.6 MB 299.3 kB/s eta 0:00:20\n",
      "   --------------- ------------------------ 3.7/9.6 MB 299.3 kB/s eta 0:00:20\n",
      "   --------------- ------------------------ 3.7/9.6 MB 299.3 kB/s eta 0:00:20\n",
      "   --------------- ------------------------ 3.7/9.6 MB 299.3 kB/s eta 0:00:20\n",
      "   ---------------- ----------------------- 3.9/9.6 MB 292.6 kB/s eta 0:00:20\n",
      "   ---------------- ----------------------- 3.9/9.6 MB 292.6 kB/s eta 0:00:20\n",
      "   ---------------- ----------------------- 3.9/9.6 MB 292.6 kB/s eta 0:00:20\n",
      "   ---------------- ----------------------- 3.9/9.6 MB 292.6 kB/s eta 0:00:20\n",
      "   ---------------- ----------------------- 3.9/9.6 MB 292.6 kB/s eta 0:00:20\n",
      "   ---------------- ----------------------- 3.9/9.6 MB 292.6 kB/s eta 0:00:20\n",
      "   ---------------- ----------------------- 3.9/9.6 MB 292.6 kB/s eta 0:00:20\n",
      "   ---------------- ----------------------- 3.9/9.6 MB 292.6 kB/s eta 0:00:20\n",
      "   ----------------- ---------------------- 4.2/9.6 MB 276.6 kB/s eta 0:00:20\n",
      "   ----------------- ---------------------- 4.2/9.6 MB 276.6 kB/s eta 0:00:20\n",
      "   ----------------- ---------------------- 4.2/9.6 MB 276.6 kB/s eta 0:00:20\n",
      "   ------------------ --------------------- 4.5/9.6 MB 280.1 kB/s eta 0:00:19\n",
      "   ------------------ --------------------- 4.5/9.6 MB 280.1 kB/s eta 0:00:19\n",
      "   ------------------ --------------------- 4.5/9.6 MB 280.1 kB/s eta 0:00:19\n",
      "   ------------------ --------------------- 4.5/9.6 MB 280.1 kB/s eta 0:00:19\n",
      "   ------------------- -------------------- 4.7/9.6 MB 284.5 kB/s eta 0:00:18\n",
      "   ------------------- -------------------- 4.7/9.6 MB 284.5 kB/s eta 0:00:18\n",
      "   ------------------- -------------------- 4.7/9.6 MB 284.5 kB/s eta 0:00:18\n",
      "   ------------------- -------------------- 4.7/9.6 MB 284.5 kB/s eta 0:00:18\n",
      "   -------------------- ------------------- 5.0/9.6 MB 284.2 kB/s eta 0:00:17\n",
      "   -------------------- ------------------- 5.0/9.6 MB 284.2 kB/s eta 0:00:17\n",
      "   -------------------- ------------------- 5.0/9.6 MB 284.2 kB/s eta 0:00:17\n",
      "   --------------------- ------------------ 5.2/9.6 MB 288.4 kB/s eta 0:00:16\n",
      "   --------------------- ------------------ 5.2/9.6 MB 288.4 kB/s eta 0:00:16\n",
      "   --------------------- ------------------ 5.2/9.6 MB 288.4 kB/s eta 0:00:16\n",
      "   --------------------- ------------------ 5.2/9.6 MB 288.4 kB/s eta 0:00:16\n",
      "   --------------------- ------------------ 5.2/9.6 MB 288.4 kB/s eta 0:00:16\n",
      "   --------------------- ------------------ 5.2/9.6 MB 288.4 kB/s eta 0:00:16\n",
      "   --------------------- ------------------ 5.2/9.6 MB 288.4 kB/s eta 0:00:16\n",
      "   --------------------- ------------------ 5.2/9.6 MB 288.4 kB/s eta 0:00:16\n",
      "   --------------------- ------------------ 5.2/9.6 MB 288.4 kB/s eta 0:00:16\n",
      "   ---------------------- ----------------- 5.5/9.6 MB 274.6 kB/s eta 0:00:15\n",
      "   ---------------------- ----------------- 5.5/9.6 MB 274.6 kB/s eta 0:00:15\n",
      "   ---------------------- ----------------- 5.5/9.6 MB 274.6 kB/s eta 0:00:15\n",
      "   ------------------------ --------------- 5.8/9.6 MB 277.7 kB/s eta 0:00:14\n",
      "   ------------------------ --------------- 5.8/9.6 MB 277.7 kB/s eta 0:00:14\n",
      "   ------------------------ --------------- 5.8/9.6 MB 277.7 kB/s eta 0:00:14\n",
      "   ------------------------ --------------- 5.8/9.6 MB 277.7 kB/s eta 0:00:14\n",
      "   ------------------------- -------------- 6.0/9.6 MB 280.0 kB/s eta 0:00:13\n",
      "   ------------------------- -------------- 6.0/9.6 MB 280.0 kB/s eta 0:00:13\n",
      "   ------------------------- -------------- 6.0/9.6 MB 280.0 kB/s eta 0:00:13\n",
      "   -------------------------- ------------- 6.3/9.6 MB 283.0 kB/s eta 0:00:12\n",
      "   -------------------------- ------------- 6.3/9.6 MB 283.0 kB/s eta 0:00:12\n",
      "   -------------------------- ------------- 6.3/9.6 MB 283.0 kB/s eta 0:00:12\n",
      "   --------------------------- ------------ 6.6/9.6 MB 286.2 kB/s eta 0:00:11\n",
      "   --------------------------- ------------ 6.6/9.6 MB 286.2 kB/s eta 0:00:11\n",
      "   --------------------------- ------------ 6.6/9.6 MB 286.2 kB/s eta 0:00:11\n",
      "   --------------------------- ------------ 6.6/9.6 MB 286.2 kB/s eta 0:00:11\n",
      "   ---------------------------- ----------- 6.8/9.6 MB 288.5 kB/s eta 0:00:10\n",
      "   ---------------------------- ----------- 6.8/9.6 MB 288.5 kB/s eta 0:00:10\n",
      "   ---------------------------- ----------- 6.8/9.6 MB 288.5 kB/s eta 0:00:10\n",
      "   ----------------------------- ---------- 7.1/9.6 MB 291.5 kB/s eta 0:00:09\n",
      "   ----------------------------- ---------- 7.1/9.6 MB 291.5 kB/s eta 0:00:09\n",
      "   ----------------------------- ---------- 7.1/9.6 MB 291.5 kB/s eta 0:00:09\n",
      "   ----------------------------- ---------- 7.1/9.6 MB 291.5 kB/s eta 0:00:09\n",
      "   ------------------------------ --------- 7.3/9.6 MB 292.5 kB/s eta 0:00:08\n",
      "   ------------------------------ --------- 7.3/9.6 MB 292.5 kB/s eta 0:00:08\n",
      "   ------------------------------ --------- 7.3/9.6 MB 292.5 kB/s eta 0:00:08\n",
      "   ------------------------------- -------- 7.6/9.6 MB 295.0 kB/s eta 0:00:07\n",
      "   ------------------------------- -------- 7.6/9.6 MB 295.0 kB/s eta 0:00:07\n",
      "   ------------------------------- -------- 7.6/9.6 MB 295.0 kB/s eta 0:00:07\n",
      "   ------------------------------- -------- 7.6/9.6 MB 295.0 kB/s eta 0:00:07\n",
      "   ------------------------------- -------- 7.6/9.6 MB 295.0 kB/s eta 0:00:07\n",
      "   -------------------------------- ------- 7.9/9.6 MB 292.8 kB/s eta 0:00:06\n",
      "   -------------------------------- ------- 7.9/9.6 MB 292.8 kB/s eta 0:00:06\n",
      "   -------------------------------- ------- 7.9/9.6 MB 292.8 kB/s eta 0:00:06\n",
      "   -------------------------------- ------- 7.9/9.6 MB 292.8 kB/s eta 0:00:06\n",
      "   -------------------------------- ------- 7.9/9.6 MB 292.8 kB/s eta 0:00:06\n",
      "   -------------------------------- ------- 7.9/9.6 MB 292.8 kB/s eta 0:00:06\n",
      "   -------------------------------- ------- 7.9/9.6 MB 292.8 kB/s eta 0:00:06\n",
      "   --------------------------------- ------ 8.1/9.6 MB 286.6 kB/s eta 0:00:06\n",
      "   --------------------------------- ------ 8.1/9.6 MB 286.6 kB/s eta 0:00:06\n",
      "   --------------------------------- ------ 8.1/9.6 MB 286.6 kB/s eta 0:00:06\n",
      "   --------------------------------- ------ 8.1/9.6 MB 286.6 kB/s eta 0:00:06\n",
      "   --------------------------------- ------ 8.1/9.6 MB 286.6 kB/s eta 0:00:06\n",
      "   ---------------------------------- ----- 8.4/9.6 MB 285.8 kB/s eta 0:00:05\n",
      "   ---------------------------------- ----- 8.4/9.6 MB 285.8 kB/s eta 0:00:05\n",
      "   ---------------------------------- ----- 8.4/9.6 MB 285.8 kB/s eta 0:00:05\n",
      "   ---------------------------------- ----- 8.4/9.6 MB 285.8 kB/s eta 0:00:05\n",
      "   ------------------------------------ --- 8.7/9.6 MB 284.9 kB/s eta 0:00:04\n",
      "   ------------------------------------ --- 8.7/9.6 MB 284.9 kB/s eta 0:00:04\n",
      "   ------------------------------------ --- 8.7/9.6 MB 284.9 kB/s eta 0:00:04\n",
      "   ------------------------------------ --- 8.7/9.6 MB 284.9 kB/s eta 0:00:04\n",
      "   ------------------------------------- -- 8.9/9.6 MB 284.0 kB/s eta 0:00:03\n",
      "   ------------------------------------- -- 8.9/9.6 MB 284.0 kB/s eta 0:00:03\n",
      "   ------------------------------------- -- 8.9/9.6 MB 284.0 kB/s eta 0:00:03\n",
      "   ------------------------------------- -- 8.9/9.6 MB 284.0 kB/s eta 0:00:03\n",
      "   -------------------------------------- - 9.2/9.6 MB 281.8 kB/s eta 0:00:02\n",
      "   -------------------------------------- - 9.2/9.6 MB 281.8 kB/s eta 0:00:02\n",
      "   -------------------------------------- - 9.2/9.6 MB 281.8 kB/s eta 0:00:02\n",
      "   -------------------------------------- - 9.2/9.6 MB 281.8 kB/s eta 0:00:02\n",
      "   -------------------------------------- - 9.2/9.6 MB 281.8 kB/s eta 0:00:02\n",
      "   ---------------------------------------  9.4/9.6 MB 274.3 kB/s eta 0:00:01\n",
      "   ---------------------------------------  9.4/9.6 MB 274.3 kB/s eta 0:00:01\n",
      "   ---------------------------------------  9.4/9.6 MB 274.3 kB/s eta 0:00:01\n",
      "   ---------------------------------------- 9.6/9.6 MB 272.9 kB/s eta 0:00:00\n",
      "Downloading patsy-1.0.1-py2.py3-none-any.whl (232 kB)\n",
      "Installing collected packages: patsy, statsmodels\n",
      "\n",
      "   ---------------------------------------- 0/2 [patsy]\n",
      "   ---------------------------------------- 0/2 [patsy]\n",
      "   ---------------------------------------- 0/2 [patsy]\n",
      "   ---------------------------------------- 0/2 [patsy]\n",
      "   ---------------------------------------- 0/2 [patsy]\n",
      "   ---------------------------------------- 0/2 [patsy]\n",
      "   ---------------------------------------- 0/2 [patsy]\n",
      "   ---------------------------------------- 0/2 [patsy]\n",
      "   ---------------------------------------- 0/2 [patsy]\n",
      "   ---------------------------------------- 0/2 [patsy]\n",
      "   -------------------- ------------------- 1/2 [statsmodels]\n",
      "   -------------------- ------------------- 1/2 [statsmodels]\n",
      "   -------------------- ------------------- 1/2 [statsmodels]\n",
      "   -------------------- ------------------- 1/2 [statsmodels]\n",
      "   -------------------- ------------------- 1/2 [statsmodels]\n",
      "   -------------------- ------------------- 1/2 [statsmodels]\n",
      "   -------------------- ------------------- 1/2 [statsmodels]\n",
      "   -------------------- ------------------- 1/2 [statsmodels]\n",
      "   -------------------- ------------------- 1/2 [statsmodels]\n",
      "   -------------------- ------------------- 1/2 [statsmodels]\n",
      "   -------------------- ------------------- 1/2 [statsmodels]\n",
      "   -------------------- ------------------- 1/2 [statsmodels]\n",
      "   -------------------- ------------------- 1/2 [statsmodels]\n",
      "   -------------------- ------------------- 1/2 [statsmodels]\n",
      "   -------------------- ------------------- 1/2 [statsmodels]\n",
      "   -------------------- ------------------- 1/2 [statsmodels]\n",
      "   -------------------- ------------------- 1/2 [statsmodels]\n",
      "   -------------------- ------------------- 1/2 [statsmodels]\n",
      "   -------------------- ------------------- 1/2 [statsmodels]\n",
      "   -------------------- ------------------- 1/2 [statsmodels]\n",
      "   -------------------- ------------------- 1/2 [statsmodels]\n",
      "   -------------------- ------------------- 1/2 [statsmodels]\n",
      "   -------------------- ------------------- 1/2 [statsmodels]\n",
      "   -------------------- ------------------- 1/2 [statsmodels]\n",
      "   -------------------- ------------------- 1/2 [statsmodels]\n",
      "   -------------------- ------------------- 1/2 [statsmodels]\n",
      "   -------------------- ------------------- 1/2 [statsmodels]\n",
      "   -------------------- ------------------- 1/2 [statsmodels]\n",
      "   -------------------- ------------------- 1/2 [statsmodels]\n",
      "   -------------------- ------------------- 1/2 [statsmodels]\n",
      "   -------------------- ------------------- 1/2 [statsmodels]\n",
      "   -------------------- ------------------- 1/2 [statsmodels]\n",
      "   -------------------- ------------------- 1/2 [statsmodels]\n",
      "   -------------------- ------------------- 1/2 [statsmodels]\n",
      "   -------------------- ------------------- 1/2 [statsmodels]\n",
      "   -------------------- ------------------- 1/2 [statsmodels]\n",
      "   -------------------- ------------------- 1/2 [statsmodels]\n",
      "   -------------------- ------------------- 1/2 [statsmodels]\n",
      "   -------------------- ------------------- 1/2 [statsmodels]\n",
      "   -------------------- ------------------- 1/2 [statsmodels]\n",
      "   -------------------- ------------------- 1/2 [statsmodels]\n",
      "   -------------------- ------------------- 1/2 [statsmodels]\n",
      "   -------------------- ------------------- 1/2 [statsmodels]\n",
      "   -------------------- ------------------- 1/2 [statsmodels]\n",
      "   -------------------- ------------------- 1/2 [statsmodels]\n",
      "   -------------------- ------------------- 1/2 [statsmodels]\n",
      "   -------------------- ------------------- 1/2 [statsmodels]\n",
      "   -------------------- ------------------- 1/2 [statsmodels]\n",
      "   -------------------- ------------------- 1/2 [statsmodels]\n",
      "   -------------------- ------------------- 1/2 [statsmodels]\n",
      "   -------------------- ------------------- 1/2 [statsmodels]\n",
      "   -------------------- ------------------- 1/2 [statsmodels]\n",
      "   -------------------- ------------------- 1/2 [statsmodels]\n",
      "   -------------------- ------------------- 1/2 [statsmodels]\n",
      "   -------------------- ------------------- 1/2 [statsmodels]\n",
      "   -------------------- ------------------- 1/2 [statsmodels]\n",
      "   -------------------- ------------------- 1/2 [statsmodels]\n",
      "   -------------------- ------------------- 1/2 [statsmodels]\n",
      "   -------------------- ------------------- 1/2 [statsmodels]\n",
      "   -------------------- ------------------- 1/2 [statsmodels]\n",
      "   -------------------- ------------------- 1/2 [statsmodels]\n",
      "   -------------------- ------------------- 1/2 [statsmodels]\n",
      "   -------------------- ------------------- 1/2 [statsmodels]\n",
      "   -------------------- ------------------- 1/2 [statsmodels]\n",
      "   -------------------- ------------------- 1/2 [statsmodels]\n",
      "   -------------------- ------------------- 1/2 [statsmodels]\n",
      "   -------------------- ------------------- 1/2 [statsmodels]\n",
      "   -------------------- ------------------- 1/2 [statsmodels]\n",
      "   -------------------- ------------------- 1/2 [statsmodels]\n",
      "   -------------------- ------------------- 1/2 [statsmodels]\n",
      "   -------------------- ------------------- 1/2 [statsmodels]\n",
      "   -------------------- ------------------- 1/2 [statsmodels]\n",
      "   -------------------- ------------------- 1/2 [statsmodels]\n",
      "   -------------------- ------------------- 1/2 [statsmodels]\n",
      "   -------------------- ------------------- 1/2 [statsmodels]\n",
      "   -------------------- ------------------- 1/2 [statsmodels]\n",
      "   -------------------- ------------------- 1/2 [statsmodels]\n",
      "   -------------------- ------------------- 1/2 [statsmodels]\n",
      "   -------------------- ------------------- 1/2 [statsmodels]\n",
      "   -------------------- ------------------- 1/2 [statsmodels]\n",
      "   -------------------- ------------------- 1/2 [statsmodels]\n",
      "   -------------------- ------------------- 1/2 [statsmodels]\n",
      "   -------------------- ------------------- 1/2 [statsmodels]\n",
      "   -------------------- ------------------- 1/2 [statsmodels]\n",
      "   -------------------- ------------------- 1/2 [statsmodels]\n",
      "   -------------------- ------------------- 1/2 [statsmodels]\n",
      "   -------------------- ------------------- 1/2 [statsmodels]\n",
      "   -------------------- ------------------- 1/2 [statsmodels]\n",
      "   -------------------- ------------------- 1/2 [statsmodels]\n",
      "   -------------------- ------------------- 1/2 [statsmodels]\n",
      "   -------------------- ------------------- 1/2 [statsmodels]\n",
      "   -------------------- ------------------- 1/2 [statsmodels]\n",
      "   -------------------- ------------------- 1/2 [statsmodels]\n",
      "   -------------------- ------------------- 1/2 [statsmodels]\n",
      "   -------------------- ------------------- 1/2 [statsmodels]\n",
      "   -------------------- ------------------- 1/2 [statsmodels]\n",
      "   -------------------- ------------------- 1/2 [statsmodels]\n",
      "   -------------------- ------------------- 1/2 [statsmodels]\n",
      "   -------------------- ------------------- 1/2 [statsmodels]\n",
      "   -------------------- ------------------- 1/2 [statsmodels]\n",
      "   -------------------- ------------------- 1/2 [statsmodels]\n",
      "   -------------------- ------------------- 1/2 [statsmodels]\n",
      "   -------------------- ------------------- 1/2 [statsmodels]\n",
      "   -------------------- ------------------- 1/2 [statsmodels]\n",
      "   -------------------- ------------------- 1/2 [statsmodels]\n",
      "   -------------------- ------------------- 1/2 [statsmodels]\n",
      "   -------------------- ------------------- 1/2 [statsmodels]\n",
      "   -------------------- ------------------- 1/2 [statsmodels]\n",
      "   -------------------- ------------------- 1/2 [statsmodels]\n",
      "   -------------------- ------------------- 1/2 [statsmodels]\n",
      "   -------------------- ------------------- 1/2 [statsmodels]\n",
      "   -------------------- ------------------- 1/2 [statsmodels]\n",
      "   -------------------- ------------------- 1/2 [statsmodels]\n",
      "   -------------------- ------------------- 1/2 [statsmodels]\n",
      "   -------------------- ------------------- 1/2 [statsmodels]\n",
      "   -------------------- ------------------- 1/2 [statsmodels]\n",
      "   -------------------- ------------------- 1/2 [statsmodels]\n",
      "   -------------------- ------------------- 1/2 [statsmodels]\n",
      "   -------------------- ------------------- 1/2 [statsmodels]\n",
      "   -------------------- ------------------- 1/2 [statsmodels]\n",
      "   -------------------- ------------------- 1/2 [statsmodels]\n",
      "   -------------------- ------------------- 1/2 [statsmodels]\n",
      "   -------------------- ------------------- 1/2 [statsmodels]\n",
      "   -------------------- ------------------- 1/2 [statsmodels]\n",
      "   -------------------- ------------------- 1/2 [statsmodels]\n",
      "   -------------------- ------------------- 1/2 [statsmodels]\n",
      "   -------------------- ------------------- 1/2 [statsmodels]\n",
      "   -------------------- ------------------- 1/2 [statsmodels]\n",
      "   -------------------- ------------------- 1/2 [statsmodels]\n",
      "   -------------------- ------------------- 1/2 [statsmodels]\n",
      "   -------------------- ------------------- 1/2 [statsmodels]\n",
      "   -------------------- ------------------- 1/2 [statsmodels]\n",
      "   -------------------- ------------------- 1/2 [statsmodels]\n",
      "   -------------------- ------------------- 1/2 [statsmodels]\n",
      "   -------------------- ------------------- 1/2 [statsmodels]\n",
      "   -------------------- ------------------- 1/2 [statsmodels]\n",
      "   -------------------- ------------------- 1/2 [statsmodels]\n",
      "   -------------------- ------------------- 1/2 [statsmodels]\n",
      "   -------------------- ------------------- 1/2 [statsmodels]\n",
      "   -------------------- ------------------- 1/2 [statsmodels]\n",
      "   -------------------- ------------------- 1/2 [statsmodels]\n",
      "   -------------------- ------------------- 1/2 [statsmodels]\n",
      "   -------------------- ------------------- 1/2 [statsmodels]\n",
      "   -------------------- ------------------- 1/2 [statsmodels]\n",
      "   -------------------- ------------------- 1/2 [statsmodels]\n",
      "   -------------------- ------------------- 1/2 [statsmodels]\n",
      "   -------------------- ------------------- 1/2 [statsmodels]\n",
      "   -------------------- ------------------- 1/2 [statsmodels]\n",
      "   -------------------- ------------------- 1/2 [statsmodels]\n",
      "   -------------------- ------------------- 1/2 [statsmodels]\n",
      "   -------------------- ------------------- 1/2 [statsmodels]\n",
      "   -------------------- ------------------- 1/2 [statsmodels]\n",
      "   -------------------- ------------------- 1/2 [statsmodels]\n",
      "   -------------------- ------------------- 1/2 [statsmodels]\n",
      "   -------------------- ------------------- 1/2 [statsmodels]\n",
      "   -------------------- ------------------- 1/2 [statsmodels]\n",
      "   -------------------- ------------------- 1/2 [statsmodels]\n",
      "   -------------------- ------------------- 1/2 [statsmodels]\n",
      "   -------------------- ------------------- 1/2 [statsmodels]\n",
      "   -------------------- ------------------- 1/2 [statsmodels]\n",
      "   -------------------- ------------------- 1/2 [statsmodels]\n",
      "   -------------------- ------------------- 1/2 [statsmodels]\n",
      "   -------------------- ------------------- 1/2 [statsmodels]\n",
      "   -------------------- ------------------- 1/2 [statsmodels]\n",
      "   -------------------- ------------------- 1/2 [statsmodels]\n",
      "   -------------------- ------------------- 1/2 [statsmodels]\n",
      "   -------------------- ------------------- 1/2 [statsmodels]\n",
      "   -------------------- ------------------- 1/2 [statsmodels]\n",
      "   -------------------- ------------------- 1/2 [statsmodels]\n",
      "   -------------------- ------------------- 1/2 [statsmodels]\n",
      "   -------------------- ------------------- 1/2 [statsmodels]\n",
      "   -------------------- ------------------- 1/2 [statsmodels]\n",
      "   -------------------- ------------------- 1/2 [statsmodels]\n",
      "   -------------------- ------------------- 1/2 [statsmodels]\n",
      "   -------------------- ------------------- 1/2 [statsmodels]\n",
      "   -------------------- ------------------- 1/2 [statsmodels]\n",
      "   -------------------- ------------------- 1/2 [statsmodels]\n",
      "   -------------------- ------------------- 1/2 [statsmodels]\n",
      "   -------------------- ------------------- 1/2 [statsmodels]\n",
      "   -------------------- ------------------- 1/2 [statsmodels]\n",
      "   -------------------- ------------------- 1/2 [statsmodels]\n",
      "   -------------------- ------------------- 1/2 [statsmodels]\n",
      "   -------------------- ------------------- 1/2 [statsmodels]\n",
      "   -------------------- ------------------- 1/2 [statsmodels]\n",
      "   -------------------- ------------------- 1/2 [statsmodels]\n",
      "   -------------------- ------------------- 1/2 [statsmodels]\n",
      "   -------------------- ------------------- 1/2 [statsmodels]\n",
      "   -------------------- ------------------- 1/2 [statsmodels]\n",
      "   -------------------- ------------------- 1/2 [statsmodels]\n",
      "   -------------------- ------------------- 1/2 [statsmodels]\n",
      "   -------------------- ------------------- 1/2 [statsmodels]\n",
      "   -------------------- ------------------- 1/2 [statsmodels]\n",
      "   -------------------- ------------------- 1/2 [statsmodels]\n",
      "   -------------------- ------------------- 1/2 [statsmodels]\n",
      "   -------------------- ------------------- 1/2 [statsmodels]\n",
      "   -------------------- ------------------- 1/2 [statsmodels]\n",
      "   -------------------- ------------------- 1/2 [statsmodels]\n",
      "   -------------------- ------------------- 1/2 [statsmodels]\n",
      "   -------------------- ------------------- 1/2 [statsmodels]\n",
      "   -------------------- ------------------- 1/2 [statsmodels]\n",
      "   ---------------------------------------- 2/2 [statsmodels]\n",
      "\n",
      "Successfully installed patsy-1.0.1 statsmodels-0.14.5\n"
     ]
    }
   ],
   "source": [
    "!pip install statsmodels"
   ]
  },
  {
   "cell_type": "code",
   "execution_count": 128,
   "metadata": {},
   "outputs": [],
   "source": [
    "from scipy.stats import kstest\n",
    "from statsmodels.stats.diagnostic import lilliefors\n",
    "from scipy.stats import shapiro\n",
    "from scipy.stats import normaltest"
   ]
  },
  {
   "cell_type": "code",
   "execution_count": 138,
   "metadata": {},
   "outputs": [
    {
     "name": "stdout",
     "output_type": "stream",
     "text": [
      "0.0\n",
      "P-Value < 0.05: tolak H0 -> data tidak terdistribusi normal\n"
     ]
    }
   ],
   "source": [
    "# Kolmogorov Smirnov normality test\n",
    "pval_ks_test = kstest(df_car[\"mileage\"], \"norm\").pvalue\n",
    "print(pval_ks_test)\n",
    "\n",
    "if pval_ks_test < 0.05:\n",
    "    print(\"P-Value < 0.05: tolak H0 -> data tidak terdistribusi normal\")\n",
    "else:\n",
    "    print(\"P-Value > 0.05: gagal tolak H0 -> data terdistribusi normal\")\n",
    "\n"
   ]
  },
  {
   "cell_type": "code",
   "execution_count": null,
   "metadata": {},
   "outputs": [
    {
     "name": "stdout",
     "output_type": "stream",
     "text": [
      "0.1328120527099313   0.0009999999999998899\n",
      "P-Value < 0.05: tolak H₀ -> data tidak terdistribusi normal\n"
     ]
    }
   ],
   "source": [
    "# Liliefors test\n",
    "\n",
    "stat_lil_test, pval_lil_test = lilliefors(df_car[\"mileage\"])\n",
    "print(stat_lil_test, \" \", pval_lil_test)\n",
    "\n",
    "if pval_lil_test < 0.05:\n",
    "    print(\"P-Value < 0.05: tolak H0 -> data tidak terdistribusi normal\")\n",
    "else:\n",
    "    print(\"P-Value > 0.05: gagal tolak H0 -> data terdistribusi normal\")\n"
   ]
  },
  {
   "cell_type": "code",
   "execution_count": 131,
   "metadata": {},
   "outputs": [
    {
     "name": "stdout",
     "output_type": "stream",
     "text": [
      "P-Value: 1.4959917387595874e-86\n",
      "P-Value < 0.05: total H0 -> data tidak terdistribusi normal\n"
     ]
    }
   ],
   "source": [
    "# Shapiro Wilk Test\n",
    "# good for data less than 5000\n",
    "\n",
    "pval_sw_test = shapiro(df_car[\"mileage\"]).pvalue\n",
    "print(f\"P-Value: {pval_sw_test}\")\n",
    "\n",
    "if pval_sw_test > 0.05:\n",
    "    print(\"P-Value > 0.05: gagal tolak H0 -> data terdistribusi normal\")\n",
    "else:\n",
    "    print(\"P-Value < 0.05: total H0 -> data tidak terdistribusi normal\")"
   ]
  },
  {
   "cell_type": "code",
   "execution_count": 136,
   "metadata": {},
   "outputs": [
    {
     "name": "stdout",
     "output_type": "stream",
     "text": [
      "[np.float64(0.0)]\n",
      "P-Value < 0.05: total H0 -> data tidak terdistribusi normal\n"
     ]
    }
   ],
   "source": [
    "# D'Agostino and Pearson's Test\n",
    "pval_dp_test = normaltest(df_car[\"mileage\"]).pvalue\n",
    "print([pval_dp_test])\n",
    "\n",
    "if pval_dp_test > 0.05:\n",
    "    print(\"P-Value > 0.05: gagal tolak H0 -> data terdistribusi normal\")\n",
    "else:\n",
    "    print(\"P-Value < 0.05: total H0 -> data tidak terdistribusi normal\")"
   ]
  },
  {
   "cell_type": "code",
   "execution_count": 139,
   "metadata": {},
   "outputs": [
    {
     "data": {
      "text/plain": [
       "np.float64(2.3073055200991837)"
      ]
     },
     "execution_count": 139,
     "metadata": {},
     "output_type": "execute_result"
    }
   ],
   "source": [
    "# Skewness\n",
    "df_car[\"price\"].skew()"
   ]
  },
  {
   "cell_type": "code",
   "execution_count": null,
   "metadata": {},
   "outputs": [
    {
     "data": {
      "text/plain": [
       "np.float64(14.94941228770361)"
      ]
     },
     "execution_count": 140,
     "metadata": {},
     "output_type": "execute_result"
    }
   ],
   "source": [
    "# kurtosis > 3 -> ramping\n",
    "df_car[\"price\"].kurtosis() +3"
   ]
  },
  {
   "cell_type": "code",
   "execution_count": null,
   "metadata": {},
   "outputs": [
    {
     "name": "stdout",
     "output_type": "stream",
     "text": [
      "Kolom: mileage\n",
      "Batas bawah: -31651.125\n",
      "Batas atas: 71951.875\n",
      "Outlier bawah: 0\n",
      "Outlier atas: 791\n",
      "Total outlier: 791\n"
     ]
    },
    {
     "data": {
      "text/plain": [
       "{'batas_bawah': np.float64(-31651.125),\n",
       " 'batas_atas': np.float64(71951.875),\n",
       " 'outlier_bawah': np.int64(0),\n",
       " 'outlier_atas': np.int64(791),\n",
       " 'total_outlier': np.int64(791)}"
      ]
     },
     "execution_count": 155,
     "metadata": {},
     "output_type": "execute_result"
    }
   ],
   "source": [
    "# additional info\n",
    "hitung_outlier(df_car, \"mileage\")"
   ]
  },
  {
   "cell_type": "markdown",
   "metadata": {},
   "source": [
    "KESIMPULAN\n",
    "\n",
    "nilai `mean` (~23501) dan `median` (~18354) memiliki perbedaan yang cukup signifikan. nilai mean pada distribusi normal wajarnya memiliki nilai yang kurang lebih sama dengan median, namun pada 'price' nilai mean jauh lebih besar dibanding median. mengindikasikan adanya outlier yang cukup besar sehingga\n",
    "mempengaruhi pergeseran nilai mean secara positif yang mengubah pola distribusi menjadi `right skewed` (skewness 2.3). Hal ini tervalidasi oleh hasil dari empat uji normalitas. keempat uji tersebut mengindikasikan 'price' `tidak menunjukan pola distribusi normal`."
   ]
  },
  {
   "cell_type": "markdown",
   "metadata": {},
   "source": [
    "11. Apa yang dimaksud dengan hipotesis? Apa perbedaan Null Hypothesis (Ho) dan Alternative Hypothesis (Ha)? Berikan contohnya!"
   ]
  },
  {
   "cell_type": "markdown",
   "metadata": {},
   "source": [
    "- Hipotesis adalah dugaan atau pernyataan sementara tentang suatu kondisi atau hubungan antar variabel yang akan diuji kebenarannya melalui data dan analisis statistik.\n",
    "- perbedaanya, H0 -> tidak ada pengaruh, perbdaan atau hubungan\n",
    "- sedangkan, Ha -> ada pengaruh, perbedaan maupun hubungan. digunakan jika H0 ditolak\n",
    "\n",
    "- contoh: Apakah les privat bisa meningkatkan nilai ujian matematika siswa?\n",
    "\n",
    "    H₀ (Hipotesis Nol):\n",
    "    Les privat tidak meningkatkan nilai ujian matematika.\n",
    "    (Rata-rata nilai sebelum dan sesudah les sama)\n",
    "\n",
    "    Hₐ (Hipotesis Alternatif):\n",
    "    Les privat meningkatkan nilai ujian matematika.\n",
    "    (Rata-rata nilai sesudah les lebih tinggi)"
   ]
  },
  {
   "cell_type": "markdown",
   "metadata": {
    "id": "1NYIb_Apbc3u"
   },
   "source": []
  }
 ],
 "metadata": {
  "colab": {
   "provenance": []
  },
  "kernelspec": {
   "display_name": "Python 3",
   "language": "python",
   "name": "python3"
  },
  "language_info": {
   "codemirror_mode": {
    "name": "ipython",
    "version": 3
   },
   "file_extension": ".py",
   "mimetype": "text/x-python",
   "name": "python",
   "nbconvert_exporter": "python",
   "pygments_lexer": "ipython3",
   "version": "3.13.5"
  },
  "orig_nbformat": 4
 },
 "nbformat": 4,
 "nbformat_minor": 0
}
