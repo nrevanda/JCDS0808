{
 "cells": [
  {
   "cell_type": "markdown",
   "id": "363589e4",
   "metadata": {},
   "source": [
    "# Statistics Exercise\n",
    "---\n",
    "Latihan ini dirancang untuk mempraktikkan uji hipotesis statistik menggunakan dataset **Fertilizer Prediction** yang berisi data tentang suhu, kelembapan, kelembapan tanah, jenis tanah, jenis tanaman, dan kandungan nutrisi (Nitrogen, Potassium, Phosphorous) serta jenis pupuk yang digunakan. Tujuannya adalah menguji berbagai hipotesis untuk mendukung keputusan pertanian."
   ]
  },
  {
   "cell_type": "markdown",
   "id": "8011c3ed",
   "metadata": {},
   "source": [
    "# Practical"
   ]
  },
  {
   "cell_type": "code",
   "execution_count": null,
   "id": "d0845a7d",
   "metadata": {},
   "outputs": [],
   "source": [
    "# !pip install statsmodels"
   ]
  },
  {
   "cell_type": "code",
   "execution_count": 1,
   "id": "a37c07b2",
   "metadata": {},
   "outputs": [],
   "source": [
    "# Import libraries\n",
    "import numpy as np\n",
    "import pandas as pd\n",
    "import seaborn as sns\n",
    "import scipy.stats as stats\n",
    "from statsmodels.stats.proportion import proportions_ztest"
   ]
  },
  {
   "cell_type": "code",
   "execution_count": 2,
   "id": "de2b6299",
   "metadata": {},
   "outputs": [
    {
     "data": {
      "text/html": [
       "<div>\n",
       "<style scoped>\n",
       "    .dataframe tbody tr th:only-of-type {\n",
       "        vertical-align: middle;\n",
       "    }\n",
       "\n",
       "    .dataframe tbody tr th {\n",
       "        vertical-align: top;\n",
       "    }\n",
       "\n",
       "    .dataframe thead th {\n",
       "        text-align: right;\n",
       "    }\n",
       "</style>\n",
       "<table border=\"1\" class=\"dataframe\">\n",
       "  <thead>\n",
       "    <tr style=\"text-align: right;\">\n",
       "      <th></th>\n",
       "      <th>Temparature</th>\n",
       "      <th>Humidity</th>\n",
       "      <th>Moisture</th>\n",
       "      <th>Soil Type</th>\n",
       "      <th>Crop Type</th>\n",
       "      <th>Nitrogen</th>\n",
       "      <th>Potassium</th>\n",
       "      <th>Phosphorous</th>\n",
       "      <th>Fertilizer Name</th>\n",
       "    </tr>\n",
       "  </thead>\n",
       "  <tbody>\n",
       "    <tr>\n",
       "      <th>0</th>\n",
       "      <td>26</td>\n",
       "      <td>52</td>\n",
       "      <td>38</td>\n",
       "      <td>Sandy</td>\n",
       "      <td>Maize</td>\n",
       "      <td>37</td>\n",
       "      <td>0</td>\n",
       "      <td>0</td>\n",
       "      <td>Urea</td>\n",
       "    </tr>\n",
       "    <tr>\n",
       "      <th>1</th>\n",
       "      <td>29</td>\n",
       "      <td>52</td>\n",
       "      <td>45</td>\n",
       "      <td>Loamy</td>\n",
       "      <td>Sugarcane</td>\n",
       "      <td>12</td>\n",
       "      <td>0</td>\n",
       "      <td>36</td>\n",
       "      <td>DAP</td>\n",
       "    </tr>\n",
       "    <tr>\n",
       "      <th>2</th>\n",
       "      <td>34</td>\n",
       "      <td>65</td>\n",
       "      <td>62</td>\n",
       "      <td>Black</td>\n",
       "      <td>Cotton</td>\n",
       "      <td>7</td>\n",
       "      <td>9</td>\n",
       "      <td>30</td>\n",
       "      <td>14-35-14</td>\n",
       "    </tr>\n",
       "    <tr>\n",
       "      <th>3</th>\n",
       "      <td>32</td>\n",
       "      <td>62</td>\n",
       "      <td>34</td>\n",
       "      <td>Red</td>\n",
       "      <td>Tobacco</td>\n",
       "      <td>22</td>\n",
       "      <td>0</td>\n",
       "      <td>20</td>\n",
       "      <td>28-28</td>\n",
       "    </tr>\n",
       "    <tr>\n",
       "      <th>4</th>\n",
       "      <td>28</td>\n",
       "      <td>54</td>\n",
       "      <td>46</td>\n",
       "      <td>Clayey</td>\n",
       "      <td>Paddy</td>\n",
       "      <td>35</td>\n",
       "      <td>0</td>\n",
       "      <td>0</td>\n",
       "      <td>Urea</td>\n",
       "    </tr>\n",
       "  </tbody>\n",
       "</table>\n",
       "</div>"
      ],
      "text/plain": [
       "   Temparature  Humidity   Moisture Soil Type  Crop Type  Nitrogen  Potassium  \\\n",
       "0           26         52        38     Sandy      Maize        37          0   \n",
       "1           29         52        45     Loamy  Sugarcane        12          0   \n",
       "2           34         65        62     Black     Cotton         7          9   \n",
       "3           32         62        34       Red    Tobacco        22          0   \n",
       "4           28         54        46    Clayey      Paddy        35          0   \n",
       "\n",
       "   Phosphorous Fertilizer Name  \n",
       "0            0            Urea  \n",
       "1           36             DAP  \n",
       "2           30        14-35-14  \n",
       "3           20           28-28  \n",
       "4            0            Urea  "
      ]
     },
     "execution_count": 2,
     "metadata": {},
     "output_type": "execute_result"
    }
   ],
   "source": [
    "# Load dataset\n",
    "df = pd.read_csv(r'D:\\0. JCDS\\Dataset\\Fertilizer Prediction.csv')\n",
    "df.head()"
   ]
  },
  {
   "cell_type": "markdown",
   "id": "5101e8e9",
   "metadata": {},
   "source": [
    "## Soal 1\n",
    "Apakah rata-rata kandungan Nitrogen untuk tanaman yang menggunakan pupuk Urea dan DAP berbeda? Buktikan dengan uji statistik!"
   ]
  },
  {
   "cell_type": "code",
   "execution_count": null,
   "id": "b64cd06e",
   "metadata": {},
   "outputs": [],
   "source": [
    "# 1. Menentukan hipotesis\n",
    "# Arah Uji: Two tail test\n",
    "H0 = \"Kandungan nitrogen tanaman yang mengggunakan pupuk urea = DAP\"\n",
    "HA = \"Kandungan nitrogen tanaman yang mengggunakan pupuk urea != DAP\"\n",
    "\n",
    "# 2. Menentukan signifikansi\n",
    "alpha = 0.05\n",
    "\n",
    "# 3. Menentukan statistik uji\n",
    "# Normal -> independence T-Test, Tidak Normal -> Mann Whitney"
   ]
  },
  {
   "cell_type": "code",
   "execution_count": 28,
   "id": "a58335ca",
   "metadata": {},
   "outputs": [],
   "source": [
    "urea = df[df[\"Fertilizer Name\"] == \"Urea\"][\"Nitrogen\"]\n",
    "DAP = df[df[\"Fertilizer Name\"] == \"DAP\"][\"Nitrogen\"]"
   ]
  },
  {
   "cell_type": "markdown",
   "id": "330334fa",
   "metadata": {},
   "source": [
    "***normality test***"
   ]
  },
  {
   "cell_type": "code",
   "execution_count": 29,
   "id": "33bac854",
   "metadata": {},
   "outputs": [
    {
     "name": "stdout",
     "output_type": "stream",
     "text": [
      "Test Result urea:  0.08788797925301346\n",
      "Test Result DAP:  0.14427228208318843\n"
     ]
    }
   ],
   "source": [
    "from scipy.stats import shapiro\n",
    "\n",
    "# hipotesis\n",
    "ho_normal = \"Distribusi normal\"\n",
    "ha_normal = \"Tidak terdistribusi normal\"\n",
    "\n",
    "test_result_urea = shapiro(urea)\n",
    "test_result_DAP = shapiro(DAP)\n",
    "\n",
    "pval_urea = test_result_urea[1]\n",
    "pval_DAP = test_result_DAP[1]\n",
    "\n",
    "print(\"Test Result urea: \", pval_urea)\n",
    "print(\"Test Result DAP: \", pval_DAP)"
   ]
  },
  {
   "cell_type": "code",
   "execution_count": 61,
   "id": "40cdc521",
   "metadata": {},
   "outputs": [],
   "source": [
    "def draw_conclusion(pval, ho, ha, alpha=0.05):\n",
    "    if pval < alpha:\n",
    "        print(f\"Karena nilai p-value ({round(pval, 3)}) < alpha, maka\", ha)\n",
    "    else:\n",
    "        print(f\"Karena nilai p-value ({round(pval, 3)}) > alpha, maka\", ho)\n"
   ]
  },
  {
   "cell_type": "code",
   "execution_count": 62,
   "id": "f7a2c684",
   "metadata": {},
   "outputs": [
    {
     "name": "stdout",
     "output_type": "stream",
     "text": [
      "Karena nilai p-value (0.088) > alpha, maka Distribusi normal\n"
     ]
    }
   ],
   "source": [
    "# Pupuk urea\n",
    "draw_conclusion(pval_urea, ho_normal, ha_normal)"
   ]
  },
  {
   "cell_type": "code",
   "execution_count": 63,
   "id": "4c9c16ab",
   "metadata": {},
   "outputs": [
    {
     "name": "stdout",
     "output_type": "stream",
     "text": [
      "Karena nilai p-value (0.144) > alpha, maka Distribusi normal\n"
     ]
    }
   ],
   "source": [
    "# Pupuk DAP\n",
    "draw_conclusion(pval_DAP, ho_normal, ha_normal)"
   ]
  },
  {
   "cell_type": "markdown",
   "id": "4ca77390",
   "metadata": {},
   "source": [
    "***Hypothesis Test***"
   ]
  },
  {
   "cell_type": "code",
   "execution_count": 33,
   "id": "009b040d",
   "metadata": {},
   "outputs": [],
   "source": [
    "from scipy.stats import ttest_ind"
   ]
  },
  {
   "cell_type": "code",
   "execution_count": 64,
   "id": "71789db7",
   "metadata": {},
   "outputs": [
    {
     "name": "stdout",
     "output_type": "stream",
     "text": [
      "Karena nilai p-value (0.0) < alpha, maka Kandungan nitrogen tanaman yang mengggunakan pupuk urea != DAP\n"
     ]
    }
   ],
   "source": [
    "test_result = ttest_ind(urea, DAP)\n",
    "pval = test_result[1]\n",
    "\n",
    "draw_conclusion(pval, H0, HA)"
   ]
  },
  {
   "cell_type": "markdown",
   "id": "4a1a427a",
   "metadata": {},
   "source": [
    "**Kesimpulan Soal 1**: Kandungan nitrogen pada tanaman yang menggunakan pupuk urea tidak sama dengan yang menggunakan pupuk DAP"
   ]
  },
  {
   "cell_type": "markdown",
   "id": "34866f3d",
   "metadata": {},
   "source": [
    "## Soal 2\n",
    "Apakah rata-rata kelembapan tanah (Moisture) berbeda antara jenis tanah (Soil Type: Sandy, Loamy, Clayey, Black, Red)? Buktikan dengan uji statistik!"
   ]
  },
  {
   "cell_type": "code",
   "execution_count": null,
   "id": "5f8571bb",
   "metadata": {},
   "outputs": [],
   "source": [
    "# 1. Menentukan hipotesis\n",
    "# Arah Uji: two tail test\n",
    "H0 = \"Kelembaban tanah (Moisture) setiap jenis tanah sama\"\n",
    "HA = \"kelembaban tanah (Moisture) setiap jenis tanah berbeda\"\n",
    "\n",
    "# 2. Menentukan signifikansi\n",
    "alpha = 0.05\n",
    "\n",
    "# 3. Menentukan statistik uji\n",
    "# Normal -> Anova, Tidak normal -> Kruskal Wallis"
   ]
  },
  {
   "cell_type": "code",
   "execution_count": 71,
   "id": "13027734",
   "metadata": {},
   "outputs": [],
   "source": [
    "sandy = df[df[\"Soil Type\"] == \"Sandy\"][\"Moisture\"]\n",
    "loamy = df[df[\"Soil Type\"] == \"Loamy\"][\"Moisture\"]\n",
    "black = df[df[\"Soil Type\"] == \"Black\"][\"Moisture\"]\n",
    "red = df[df[\"Soil Type\"] == \"Red\"][\"Moisture\"]\n",
    "clayey = df[df[\"Soil Type\"] == \"Clayey\"][\"Moisture\"]"
   ]
  },
  {
   "cell_type": "markdown",
   "id": "9256fb47",
   "metadata": {},
   "source": [
    "***Normality Test***"
   ]
  },
  {
   "cell_type": "code",
   "execution_count": 74,
   "id": "e9f8766e",
   "metadata": {},
   "outputs": [
    {
     "name": "stdout",
     "output_type": "stream",
     "text": [
      "Test Result sandy:  0.3504342716828156\n",
      "Test Result loamy:  0.013080234886468277\n",
      "Test Result black:  0.006785323319846716\n",
      "Test Result red:  0.00025689164836870533\n",
      "Test Result clayey:  0.3940765313892626\n"
     ]
    }
   ],
   "source": [
    "from scipy.stats import shapiro\n",
    "\n",
    "# hipotesis\n",
    "ho_normal = \"Distribusi normal\"\n",
    "ha_normal = \"Tidak terdistribusi normal\"\n",
    "\n",
    "test_result_sandy = shapiro(sandy)\n",
    "test_result_loamy = shapiro(loamy)\n",
    "test_result_black = shapiro(black)\n",
    "test_result_red = shapiro(red)\n",
    "test_result_clayey = shapiro(clayey)\n",
    "\n",
    "\n",
    "pval_sandy = test_result_sandy[1]\n",
    "pval_loamy = test_result_loamy[1]\n",
    "pval_black = test_result_black[1]\n",
    "pval_red = test_result_red[1]\n",
    "pval_clayey = test_result_clayey[1]\n",
    "\n",
    "print(\"Test Result sandy: \", pval_sandy)\n",
    "print(\"Test Result loamy: \", pval_loamy)\n",
    "print(\"Test Result black: \", pval_black)\n",
    "print(\"Test Result red: \", pval_red)\n",
    "print(\"Test Result clayey: \", pval_clayey)"
   ]
  },
  {
   "cell_type": "code",
   "execution_count": 75,
   "id": "f7ae1b04",
   "metadata": {},
   "outputs": [
    {
     "name": "stdout",
     "output_type": "stream",
     "text": [
      "Karena nilai p-value (0.35) > alpha, maka Distribusi normal\n"
     ]
    }
   ],
   "source": [
    "# sandy\n",
    "draw_conclusion(pval_sandy,ho_normal, ha_normal)"
   ]
  },
  {
   "cell_type": "code",
   "execution_count": 76,
   "id": "5208bf46",
   "metadata": {},
   "outputs": [
    {
     "name": "stdout",
     "output_type": "stream",
     "text": [
      "Karena nilai p-value (0.013) < alpha, maka Tidak terdistribusi normal\n"
     ]
    }
   ],
   "source": [
    "# loamy\n",
    "draw_conclusion(pval_loamy,ho_normal, ha_normal)"
   ]
  },
  {
   "cell_type": "code",
   "execution_count": 77,
   "id": "f493af64",
   "metadata": {},
   "outputs": [
    {
     "name": "stdout",
     "output_type": "stream",
     "text": [
      "Karena nilai p-value (0.007) < alpha, maka Tidak terdistribusi normal\n"
     ]
    }
   ],
   "source": [
    "# black\n",
    "draw_conclusion(pval_black,ho_normal, ha_normal)"
   ]
  },
  {
   "cell_type": "code",
   "execution_count": 79,
   "id": "26ea8c8d",
   "metadata": {},
   "outputs": [
    {
     "name": "stdout",
     "output_type": "stream",
     "text": [
      "Karena nilai p-value (0.0) < alpha, maka Tidak terdistribusi normal\n"
     ]
    }
   ],
   "source": [
    "# red\n",
    "draw_conclusion(pval_red,ho_normal, ha_normal)"
   ]
  },
  {
   "cell_type": "code",
   "execution_count": 80,
   "id": "edc31777",
   "metadata": {},
   "outputs": [
    {
     "name": "stdout",
     "output_type": "stream",
     "text": [
      "Karena nilai p-value (0.394) > alpha, maka Distribusi normal\n"
     ]
    }
   ],
   "source": [
    "# clayey\n",
    "draw_conclusion(pval_clayey,ho_normal, ha_normal)"
   ]
  },
  {
   "cell_type": "markdown",
   "id": "ecc72d20",
   "metadata": {},
   "source": [
    "***Hypothesis Test***"
   ]
  },
  {
   "cell_type": "code",
   "execution_count": 81,
   "id": "e2fe91f9",
   "metadata": {},
   "outputs": [],
   "source": [
    "# sebagian besar menunjukan distribusi tidak normal --> Kruskal Wallis\n",
    "from scipy.stats import kruskal"
   ]
  },
  {
   "cell_type": "code",
   "execution_count": 85,
   "id": "4ce98464",
   "metadata": {},
   "outputs": [
    {
     "name": "stdout",
     "output_type": "stream",
     "text": [
      "Karena nilai p-value (0.001) < alpha, maka kelembaban tanah setiap jenis tanah berbeda\n"
     ]
    },
    {
     "data": {
      "text/plain": [
       "Soil Type\n",
       "Black     44.684211\n",
       "Clayey    37.800000\n",
       "Loamy     51.380952\n",
       "Red       40.421053\n",
       "Sandy     41.150000\n",
       "Name: Moisture, dtype: float64"
      ]
     },
     "execution_count": 85,
     "metadata": {},
     "output_type": "execute_result"
    }
   ],
   "source": [
    "test_result = kruskal(sandy, loamy, black, red, clayey)\n",
    "pval = test_result[1]\n",
    "\n",
    "draw_conclusion(pval, H0, HA)\n",
    "\n",
    "df.groupby(\"Soil Type\")[\"Moisture\"].mean()"
   ]
  },
  {
   "cell_type": "markdown",
   "id": "4a1a427a",
   "metadata": {},
   "source": [
    "**Kesimpulan Soal 2**: setiap jenis tanah memiliki nilai kelembaban yang berbeda"
   ]
  },
  {
   "cell_type": "markdown",
   "id": "d073d1e1",
   "metadata": {},
   "source": [
    "## Soal 3\n",
    "Apakah rata-rata kandungan Phosphorous untuk semua tanaman adalah 20 unit? Buktikan dengan uji statistik!"
   ]
  },
  {
   "cell_type": "code",
   "execution_count": 100,
   "id": "5f8571bb",
   "metadata": {},
   "outputs": [],
   "source": [
    "# 1. Menentukan hipotesis\n",
    "# Arah Uji: two tail test\n",
    "H0 = \"rata-rata kandungan Phosphorus semua tanaman adalah 20\"\n",
    "HA = \"rata-rata kandungan Phosphorus semua tanaman bukan 20\"\n",
    "\n",
    "# 2. Menentukan signifikansi\n",
    "alpha = 0.05\n",
    "\n",
    "# 3. Menentukan statistik uji\n",
    "# Normal -> one sample t-test, Tidak normal -> one sample wilcoxon test"
   ]
  },
  {
   "cell_type": "markdown",
   "id": "bfda04c2",
   "metadata": {},
   "source": [
    "***Normality Test***"
   ]
  },
  {
   "cell_type": "code",
   "execution_count": 112,
   "id": "0362fefd",
   "metadata": {},
   "outputs": [
    {
     "name": "stdout",
     "output_type": "stream",
     "text": [
      "Karena nilai p-value (0.0) < alpha, maka Tidak terdistribusi normal\n"
     ]
    }
   ],
   "source": [
    "from scipy.stats import shapiro\n",
    "\n",
    "Ho_normal = \"Distribusi normal\"\n",
    "ha_normal = \"Tidak terdistribusi normal\"\n",
    "\n",
    "test_result = shapiro(df[\"Phosphorous\"])\n",
    "pval = test_result[1]\n",
    "\n",
    "draw_conclusion(pval, ho_normal, ha_normal)"
   ]
  },
  {
   "cell_type": "markdown",
   "id": "77ceb30e",
   "metadata": {},
   "source": [
    "***Hypothesis Test***"
   ]
  },
  {
   "cell_type": "code",
   "execution_count": 114,
   "id": "05e72882",
   "metadata": {},
   "outputs": [
    {
     "data": {
      "text/plain": [
       "np.float64(19.0)"
      ]
     },
     "execution_count": 114,
     "metadata": {},
     "output_type": "execute_result"
    }
   ],
   "source": [
    "df[\"Phosphorous\"].median()"
   ]
  },
  {
   "cell_type": "code",
   "execution_count": 115,
   "id": "eb2fa3e1",
   "metadata": {},
   "outputs": [
    {
     "name": "stdout",
     "output_type": "stream",
     "text": [
      "Karena nilai p-value (0.0) < alpha, maka rata-rata kandungan Phosphorus semua tanaman bukan 20\n"
     ]
    }
   ],
   "source": [
    "from scipy.stats import wilcoxon\n",
    "\n",
    "test_result = wilcoxon(df[\"Phosphorous\"])\n",
    "pval = test_result[1]\n",
    "\n",
    "draw_conclusion(pval, H0, HA)"
   ]
  },
  {
   "cell_type": "markdown",
   "id": "4a1a427a",
   "metadata": {},
   "source": [
    "**Kesimpulan Soal 3**: Rata-rata kandungan phosphorus disemua tanaman buakn 20"
   ]
  },
  {
   "cell_type": "markdown",
   "id": "dfad5589",
   "metadata": {},
   "source": [
    "## Soal 4\n",
    "- Buat DataFrame berisi tanaman Sugarcane!\n",
    "- Dari DataFrame tersebut, lakukan uji hipotesis untuk membuktikan apakah jenis tanah (Soil Type) berkaitan dengan jenis pupuk (Fertilizer Name)!"
   ]
  },
  {
   "cell_type": "code",
   "execution_count": 118,
   "id": "5f8571bb",
   "metadata": {},
   "outputs": [],
   "source": [
    "# 1. Buat DataFrame untuk Sugarcane\n",
    "sugarcane = df[df[\"Crop Type\"] == \"Sugarcane\"]\n",
    "\n",
    "# 2. Menentukan hipotesis\n",
    "# Arah Uji: Two tail test\n",
    "H0 = \"Jenis tanah memiliki hubungan dengan jenis pupuk\"\n",
    "HA = \"Jenis tanah tidak memiliki hubungan dengan jenis pupuk\"\n",
    "\n",
    "# 3. Menentukan signifikansi\n",
    "alpha = 0.05\n",
    "\n",
    "# 4. Menentukan statistik uji: chi-square test"
   ]
  },
  {
   "cell_type": "markdown",
   "id": "cff5c992",
   "metadata": {},
   "source": [
    "***Hypothesis Test***"
   ]
  },
  {
   "cell_type": "code",
   "execution_count": 123,
   "id": "889f7405",
   "metadata": {},
   "outputs": [
    {
     "name": "stdout",
     "output_type": "stream",
     "text": [
      "Karena nilai p-value (0.792) > alpha, maka Jenis tanah memiliki hubungan dengan jenis pupuk\n"
     ]
    }
   ],
   "source": [
    "soil_fertilizer = pd.crosstab(df[\"Soil Type\"], df[\"Fertilizer Name\"])\n",
    "\n",
    "from scipy.stats import chi2_contingency\n",
    "\n",
    "test_result = chi2_contingency(soil_fertilizer)\n",
    "pval = test_result[1]\n",
    "\n",
    "draw_conclusion(pval, H0, HA)"
   ]
  },
  {
   "cell_type": "markdown",
   "id": "4a1a427a",
   "metadata": {},
   "source": [
    "**Kesimpulan Soal 4**: Penentuan jenis tanaman berpengaruh terhadap jenis pupuk yang dipakai"
   ]
  },
  {
   "cell_type": "markdown",
   "id": "9472b205",
   "metadata": {},
   "source": [
    "## Soal 5\n",
    "Apakah 50% dari semua tanaman menggunakan pupuk Urea? Buktikan dengan uji statistik!"
   ]
  },
  {
   "cell_type": "code",
   "execution_count": null,
   "id": "5f8571bb",
   "metadata": {},
   "outputs": [],
   "source": [
    "# 1. Menentukan hipotesis\n",
    "# Arah Uji: Two tail test\n",
    "H0 = \"50% dari semua tanaman menggunakan pupuk urea\"\n",
    "HA = \"50% dari semua tanaman tidak menggunakan pupuk urea\"\n",
    "\n",
    "# 2. Menentukan signifikansi\n",
    "alpha = 0.05\n",
    "\n",
    "# 3. Menentukan statistik uji: one sample z-test"
   ]
  },
  {
   "cell_type": "code",
   "execution_count": 127,
   "id": "aefcb0b8",
   "metadata": {},
   "outputs": [],
   "source": [
    "jmlh_urea = df[df[\"Fertilizer Name\"] == \"Urea\"].shape[0]\n",
    "\n",
    "from statsmodels.stats.proportion import proportions_ztest\n",
    "\n",
    "test_result = proportions_ztest(\n",
    "    count= jmlh_urea,\n",
    "    nobs= len(df),\n",
    "    value= 0.5\n",
    ")\n",
    "\n",
    "pval = test_result[1]"
   ]
  },
  {
   "cell_type": "markdown",
   "id": "4a1a427a",
   "metadata": {},
   "source": [
    "**Kesimpulan Soal 5**: ___"
   ]
  },
  {
   "cell_type": "markdown",
   "id": "78fe771b",
   "metadata": {},
   "source": [
    "## Soal 6\n",
    "Apakah proporsi tanaman dengan pupuk DAP berbeda antara tanah Sandy dan Loamy? Buktikan dengan uji statistik!"
   ]
  },
  {
   "cell_type": "code",
   "execution_count": null,
   "id": "5f8571bb",
   "metadata": {},
   "outputs": [],
   "source": [
    "# 1. Menentukan hipotesis\n",
    "# Arah Uji: ___\n",
    "H0 = \"___\"\n",
    "HA = \"___\"\n",
    "\n",
    "# 2. Menentukan signifikansi\n",
    "alpha = 0.05\n",
    "\n",
    "# 3. Menentukan statistik uji: Z Proportion Test 2 Sample"
   ]
  },
  {
   "cell_type": "code",
   "execution_count": null,
   "id": "bb4c00d8",
   "metadata": {},
   "outputs": [],
   "source": [
    "# Kode anda"
   ]
  },
  {
   "cell_type": "markdown",
   "id": "4a1a427a",
   "metadata": {},
   "source": [
    "**Kesimpulan Soal 6**: ___"
   ]
  }
 ],
 "metadata": {
  "kernelspec": {
   "display_name": "Python 3",
   "language": "python",
   "name": "python3"
  },
  "language_info": {
   "codemirror_mode": {
    "name": "ipython",
    "version": 3
   },
   "file_extension": ".py",
   "mimetype": "text/x-python",
   "name": "python",
   "nbconvert_exporter": "python",
   "pygments_lexer": "ipython3",
   "version": "3.13.5"
  },
  "nbformat": 4,
  "nbformat_minor": 5
 },
 "nbformat": 4,
 "nbformat_minor": 5
}
