{
 "cells": [
  {
   "cell_type": "markdown",
   "id": "17b1bc18",
   "metadata": {},
   "source": [
    "# IBM HR Analytics Project Exercise\n",
    "\n",
    "## 📘 Latar Belakang\n",
    "Perusahaan tempat kamu bekerja sedang mengalami tingkat turnover karyawan yang cukup tinggi. Tim Human Resources (HR) ingin memahami lebih jauh faktor-faktor yang berkontribusi terhadap tingginya angka *attrition* (resign) di antara karyawan. Mereka ingin menggunakan data yang dimiliki untuk:\n",
    "\n",
    "1. Mengetahui pola dan perbedaan antara karyawan yang bertahan dan yang keluar.\n",
    "2. Mengidentifikasi variabel-variabel penting yang memengaruhi keputusan resign.\n",
    "3. Membuat kebijakan berbasis data untuk meningkatkan retensi dan kepuasan kerja.\n",
    "\n",
    "Sebagai seorang **Data Analyst**, kamu diminta untuk melakukan analisis statistik dan eksplorasi visual dari data HR perusahaan.\n"
   ]
  },
  {
   "cell_type": "markdown",
   "id": "a271c58d",
   "metadata": {},
   "source": [
    "## 🎯 Tujuan Exercise\n",
    "Kamu akan mengerjakan beberapa studi kasus yang saling berkaitan dan mengarah pada pemahaman menyeluruh mengenai fenomena *employee attrition*. Untuk setiap studi kasus, kamu akan:\n",
    "\n",
    "1. Menentukan metode uji statistik yang tepat.\n",
    "2. Memilih jenis visualisasi yang relevan.\n",
    "3. Menginterpretasikan hasil uji dan visualisasi.\n",
    "4. Menyampaikan insight bisnis yang informatif dan actionable.\n"
   ]
  },
  {
   "cell_type": "markdown",
   "id": "97e3cda9",
   "metadata": {},
   "source": [
    "## 📁 Dataset\n",
    "Dataset yang digunakan adalah: `IBM HR Analytics Employee Attrition & Performance`\n",
    "\n",
    "Jika belum tersedia, kamu dapat mengunduhnya dari Kaggle: https://www.kaggle.com/datasets/pavansubhasht/ibm-hr-analytics-attrition-dataset\n"
   ]
  },
  {
   "cell_type": "markdown",
   "id": "6a6df88e",
   "metadata": {},
   "source": [
    "## 🧹 Persiapan Data"
   ]
  },
  {
   "cell_type": "code",
   "execution_count": 57,
   "id": "8331dab8",
   "metadata": {},
   "outputs": [
    {
     "data": {
      "text/html": [
       "<div>\n",
       "<style scoped>\n",
       "    .dataframe tbody tr th:only-of-type {\n",
       "        vertical-align: middle;\n",
       "    }\n",
       "\n",
       "    .dataframe tbody tr th {\n",
       "        vertical-align: top;\n",
       "    }\n",
       "\n",
       "    .dataframe thead th {\n",
       "        text-align: right;\n",
       "    }\n",
       "</style>\n",
       "<table border=\"1\" class=\"dataframe\">\n",
       "  <thead>\n",
       "    <tr style=\"text-align: right;\">\n",
       "      <th></th>\n",
       "      <th>Age</th>\n",
       "      <th>Attrition</th>\n",
       "      <th>BusinessTravel</th>\n",
       "      <th>DailyRate</th>\n",
       "      <th>Department</th>\n",
       "      <th>DistanceFromHome</th>\n",
       "      <th>Education</th>\n",
       "      <th>EducationField</th>\n",
       "      <th>EmployeeCount</th>\n",
       "      <th>EmployeeNumber</th>\n",
       "      <th>EnvironmentSatisfaction</th>\n",
       "      <th>Gender</th>\n",
       "      <th>HourlyRate</th>\n",
       "      <th>JobInvolvement</th>\n",
       "      <th>JobLevel</th>\n",
       "      <th>JobRole</th>\n",
       "      <th>JobSatisfaction</th>\n",
       "      <th>MaritalStatus</th>\n",
       "      <th>MonthlyIncome</th>\n",
       "      <th>MonthlyRate</th>\n",
       "      <th>NumCompaniesWorked</th>\n",
       "      <th>Over18</th>\n",
       "      <th>OverTime</th>\n",
       "      <th>PercentSalaryHike</th>\n",
       "      <th>PerformanceRating</th>\n",
       "      <th>RelationshipSatisfaction</th>\n",
       "      <th>StandardHours</th>\n",
       "      <th>StockOptionLevel</th>\n",
       "      <th>TotalWorkingYears</th>\n",
       "      <th>TrainingTimesLastYear</th>\n",
       "      <th>WorkLifeBalance</th>\n",
       "      <th>YearsAtCompany</th>\n",
       "      <th>YearsInCurrentRole</th>\n",
       "      <th>YearsSinceLastPromotion</th>\n",
       "      <th>YearsWithCurrManager</th>\n",
       "    </tr>\n",
       "  </thead>\n",
       "  <tbody>\n",
       "    <tr>\n",
       "      <th>0</th>\n",
       "      <td>41</td>\n",
       "      <td>Yes</td>\n",
       "      <td>Travel_Rarely</td>\n",
       "      <td>1102</td>\n",
       "      <td>Sales</td>\n",
       "      <td>1</td>\n",
       "      <td>2</td>\n",
       "      <td>Life Sciences</td>\n",
       "      <td>1</td>\n",
       "      <td>1</td>\n",
       "      <td>2</td>\n",
       "      <td>Female</td>\n",
       "      <td>94</td>\n",
       "      <td>3</td>\n",
       "      <td>2</td>\n",
       "      <td>Sales Executive</td>\n",
       "      <td>4</td>\n",
       "      <td>Single</td>\n",
       "      <td>5993</td>\n",
       "      <td>19479</td>\n",
       "      <td>8</td>\n",
       "      <td>Y</td>\n",
       "      <td>Yes</td>\n",
       "      <td>11</td>\n",
       "      <td>3</td>\n",
       "      <td>1</td>\n",
       "      <td>80</td>\n",
       "      <td>0</td>\n",
       "      <td>8</td>\n",
       "      <td>0</td>\n",
       "      <td>1</td>\n",
       "      <td>6</td>\n",
       "      <td>4</td>\n",
       "      <td>0</td>\n",
       "      <td>5</td>\n",
       "    </tr>\n",
       "    <tr>\n",
       "      <th>1</th>\n",
       "      <td>49</td>\n",
       "      <td>No</td>\n",
       "      <td>Travel_Frequently</td>\n",
       "      <td>279</td>\n",
       "      <td>Research &amp; Development</td>\n",
       "      <td>8</td>\n",
       "      <td>1</td>\n",
       "      <td>Life Sciences</td>\n",
       "      <td>1</td>\n",
       "      <td>2</td>\n",
       "      <td>3</td>\n",
       "      <td>Male</td>\n",
       "      <td>61</td>\n",
       "      <td>2</td>\n",
       "      <td>2</td>\n",
       "      <td>Research Scientist</td>\n",
       "      <td>2</td>\n",
       "      <td>Married</td>\n",
       "      <td>5130</td>\n",
       "      <td>24907</td>\n",
       "      <td>1</td>\n",
       "      <td>Y</td>\n",
       "      <td>No</td>\n",
       "      <td>23</td>\n",
       "      <td>4</td>\n",
       "      <td>4</td>\n",
       "      <td>80</td>\n",
       "      <td>1</td>\n",
       "      <td>10</td>\n",
       "      <td>3</td>\n",
       "      <td>3</td>\n",
       "      <td>10</td>\n",
       "      <td>7</td>\n",
       "      <td>1</td>\n",
       "      <td>7</td>\n",
       "    </tr>\n",
       "    <tr>\n",
       "      <th>2</th>\n",
       "      <td>37</td>\n",
       "      <td>Yes</td>\n",
       "      <td>Travel_Rarely</td>\n",
       "      <td>1373</td>\n",
       "      <td>Research &amp; Development</td>\n",
       "      <td>2</td>\n",
       "      <td>2</td>\n",
       "      <td>Other</td>\n",
       "      <td>1</td>\n",
       "      <td>4</td>\n",
       "      <td>4</td>\n",
       "      <td>Male</td>\n",
       "      <td>92</td>\n",
       "      <td>2</td>\n",
       "      <td>1</td>\n",
       "      <td>Laboratory Technician</td>\n",
       "      <td>3</td>\n",
       "      <td>Single</td>\n",
       "      <td>2090</td>\n",
       "      <td>2396</td>\n",
       "      <td>6</td>\n",
       "      <td>Y</td>\n",
       "      <td>Yes</td>\n",
       "      <td>15</td>\n",
       "      <td>3</td>\n",
       "      <td>2</td>\n",
       "      <td>80</td>\n",
       "      <td>0</td>\n",
       "      <td>7</td>\n",
       "      <td>3</td>\n",
       "      <td>3</td>\n",
       "      <td>0</td>\n",
       "      <td>0</td>\n",
       "      <td>0</td>\n",
       "      <td>0</td>\n",
       "    </tr>\n",
       "    <tr>\n",
       "      <th>3</th>\n",
       "      <td>33</td>\n",
       "      <td>No</td>\n",
       "      <td>Travel_Frequently</td>\n",
       "      <td>1392</td>\n",
       "      <td>Research &amp; Development</td>\n",
       "      <td>3</td>\n",
       "      <td>4</td>\n",
       "      <td>Life Sciences</td>\n",
       "      <td>1</td>\n",
       "      <td>5</td>\n",
       "      <td>4</td>\n",
       "      <td>Female</td>\n",
       "      <td>56</td>\n",
       "      <td>3</td>\n",
       "      <td>1</td>\n",
       "      <td>Research Scientist</td>\n",
       "      <td>3</td>\n",
       "      <td>Married</td>\n",
       "      <td>2909</td>\n",
       "      <td>23159</td>\n",
       "      <td>1</td>\n",
       "      <td>Y</td>\n",
       "      <td>Yes</td>\n",
       "      <td>11</td>\n",
       "      <td>3</td>\n",
       "      <td>3</td>\n",
       "      <td>80</td>\n",
       "      <td>0</td>\n",
       "      <td>8</td>\n",
       "      <td>3</td>\n",
       "      <td>3</td>\n",
       "      <td>8</td>\n",
       "      <td>7</td>\n",
       "      <td>3</td>\n",
       "      <td>0</td>\n",
       "    </tr>\n",
       "    <tr>\n",
       "      <th>4</th>\n",
       "      <td>27</td>\n",
       "      <td>No</td>\n",
       "      <td>Travel_Rarely</td>\n",
       "      <td>591</td>\n",
       "      <td>Research &amp; Development</td>\n",
       "      <td>2</td>\n",
       "      <td>1</td>\n",
       "      <td>Medical</td>\n",
       "      <td>1</td>\n",
       "      <td>7</td>\n",
       "      <td>1</td>\n",
       "      <td>Male</td>\n",
       "      <td>40</td>\n",
       "      <td>3</td>\n",
       "      <td>1</td>\n",
       "      <td>Laboratory Technician</td>\n",
       "      <td>2</td>\n",
       "      <td>Married</td>\n",
       "      <td>3468</td>\n",
       "      <td>16632</td>\n",
       "      <td>9</td>\n",
       "      <td>Y</td>\n",
       "      <td>No</td>\n",
       "      <td>12</td>\n",
       "      <td>3</td>\n",
       "      <td>4</td>\n",
       "      <td>80</td>\n",
       "      <td>1</td>\n",
       "      <td>6</td>\n",
       "      <td>3</td>\n",
       "      <td>3</td>\n",
       "      <td>2</td>\n",
       "      <td>2</td>\n",
       "      <td>2</td>\n",
       "      <td>2</td>\n",
       "    </tr>\n",
       "  </tbody>\n",
       "</table>\n",
       "</div>"
      ],
      "text/plain": [
       "   Age Attrition     BusinessTravel  DailyRate              Department  \\\n",
       "0   41       Yes      Travel_Rarely       1102                   Sales   \n",
       "1   49        No  Travel_Frequently        279  Research & Development   \n",
       "2   37       Yes      Travel_Rarely       1373  Research & Development   \n",
       "3   33        No  Travel_Frequently       1392  Research & Development   \n",
       "4   27        No      Travel_Rarely        591  Research & Development   \n",
       "\n",
       "   DistanceFromHome  Education EducationField  EmployeeCount  EmployeeNumber  \\\n",
       "0                 1          2  Life Sciences              1               1   \n",
       "1                 8          1  Life Sciences              1               2   \n",
       "2                 2          2          Other              1               4   \n",
       "3                 3          4  Life Sciences              1               5   \n",
       "4                 2          1        Medical              1               7   \n",
       "\n",
       "   EnvironmentSatisfaction  Gender  HourlyRate  JobInvolvement  JobLevel  \\\n",
       "0                        2  Female          94               3         2   \n",
       "1                        3    Male          61               2         2   \n",
       "2                        4    Male          92               2         1   \n",
       "3                        4  Female          56               3         1   \n",
       "4                        1    Male          40               3         1   \n",
       "\n",
       "                 JobRole  JobSatisfaction MaritalStatus  MonthlyIncome  \\\n",
       "0        Sales Executive                4        Single           5993   \n",
       "1     Research Scientist                2       Married           5130   \n",
       "2  Laboratory Technician                3        Single           2090   \n",
       "3     Research Scientist                3       Married           2909   \n",
       "4  Laboratory Technician                2       Married           3468   \n",
       "\n",
       "   MonthlyRate  NumCompaniesWorked Over18 OverTime  PercentSalaryHike  \\\n",
       "0        19479                   8      Y      Yes                 11   \n",
       "1        24907                   1      Y       No                 23   \n",
       "2         2396                   6      Y      Yes                 15   \n",
       "3        23159                   1      Y      Yes                 11   \n",
       "4        16632                   9      Y       No                 12   \n",
       "\n",
       "   PerformanceRating  RelationshipSatisfaction  StandardHours  \\\n",
       "0                  3                         1             80   \n",
       "1                  4                         4             80   \n",
       "2                  3                         2             80   \n",
       "3                  3                         3             80   \n",
       "4                  3                         4             80   \n",
       "\n",
       "   StockOptionLevel  TotalWorkingYears  TrainingTimesLastYear  \\\n",
       "0                 0                  8                      0   \n",
       "1                 1                 10                      3   \n",
       "2                 0                  7                      3   \n",
       "3                 0                  8                      3   \n",
       "4                 1                  6                      3   \n",
       "\n",
       "   WorkLifeBalance  YearsAtCompany  YearsInCurrentRole  \\\n",
       "0                1               6                   4   \n",
       "1                3              10                   7   \n",
       "2                3               0                   0   \n",
       "3                3               8                   7   \n",
       "4                3               2                   2   \n",
       "\n",
       "   YearsSinceLastPromotion  YearsWithCurrManager  \n",
       "0                        0                     5  \n",
       "1                        1                     7  \n",
       "2                        0                     0  \n",
       "3                        3                     0  \n",
       "4                        2                     2  "
      ]
     },
     "execution_count": 57,
     "metadata": {},
     "output_type": "execute_result"
    }
   ],
   "source": [
    "import pandas as pd\n",
    "import numpy as np\n",
    "import seaborn as sns\n",
    "import matplotlib.pyplot as plt\n",
    "import plotly.express as px\n",
    "import plotly.graph_objects as go\n",
    "\n",
    "# Load dataset\n",
    "df = pd.read_csv(r\"D:\\0. JCDS\\Module 2 - Data Analys\\M2D15 - Folium\\2. Practice\\VizQuiz\\WA_Fn-UseC_-HR-Employee-Attrition.csv\")\n",
    "\n",
    "# Unlimited scroll dataFrame\n",
    "pd.set_option('display.max_columns', None)\n",
    "\n",
    "# Cek struktur data\n",
    "df.head()"
   ]
  },
  {
   "cell_type": "markdown",
   "id": "1b470eb5",
   "metadata": {},
   "source": [
    "## 🔍 Studi Kasus 1: Gaji dan Attrition\n",
    "### Pertanyaan:\n",
    "> Apakah terdapat perbedaan rata-rata gaji bulanan antara karyawan yang keluar (Attrition = Yes) dan yang bertahan (Attrition = No)?\n",
    "\n",
    "### Tugas:\n",
    "- Tentukan metode uji statistik yang tepat.\n",
    "- Buat visualisasi yang menunjukkan perbandingan distribusi gaji antar dua grup.\n",
    "- Interpretasikan hasil uji dan grafik.\n",
    "- Berikan insight bisnis dari temuanmu.\n"
   ]
  },
  {
   "cell_type": "code",
   "execution_count": 4,
   "id": "a61a4109",
   "metadata": {},
   "outputs": [],
   "source": [
    "# UJI STATISTIK\n",
    "\n",
    "# 1. Menentukan hipotesis\n",
    "# Arah uji: two tail test\n",
    "H0 = \"Gaji bulanan karyawan yang keluar sama dengan karyawan yang bertahan\"\n",
    "HA = \"Gaji bulanan karyawan yang keluar tidak sama dengan karyawan yang bertahan\"\n",
    "\n",
    "# 2. Menentukan signifikansi\n",
    "alpha = 0.05\n",
    "\n",
    "# 3. Menentukan uji statistik\n",
    "# Normal -> independence T-Test, Tidak Normal -> Mann Whitney"
   ]
  },
  {
   "cell_type": "code",
   "execution_count": 27,
   "id": "3d070751",
   "metadata": {},
   "outputs": [],
   "source": [
    "attrition_yes = df.query(\"Attrition == 'Yes'\")\n",
    "attrition_no = df.query(\"Attrition == 'No'\")"
   ]
  },
  {
   "cell_type": "markdown",
   "id": "14af56a2",
   "metadata": {},
   "source": [
    "***Normality Test***"
   ]
  },
  {
   "cell_type": "code",
   "execution_count": 28,
   "id": "a3d857c1",
   "metadata": {},
   "outputs": [
    {
     "data": {
      "image/png": "[encoded data removed]",
      "text/plain": [
       "<Figure size 1200x500 with 2 Axes>"
      ]
     },
     "metadata": {},
     "output_type": "display_data"
    }
   ],
   "source": [
    "# secara visual\n",
    "\n",
    "fig, axes = plt.subplots(1,2, figsize=(12,5))\n",
    "\n",
    "sns.histplot(data=attrition_yes,\n",
    "             x='MonthlyIncome',\n",
    "             kde=True,\n",
    "             ax=axes[0])\n",
    "axes[0].set_title('Gaji bulanan karyawan yang keluar')\n",
    "axes[0].set_xlabel('Gaji bulanan')\n",
    "axes[0].set_ylabel('Jumlah karyawan')\n",
    "\n",
    "sns.histplot(data=attrition_no,\n",
    "             x='MonthlyIncome',\n",
    "             kde=True,\n",
    "             ax=axes[1])\n",
    "axes[1].set_title('Gaji bulanan karyawan yang bertahan')\n",
    "axes[1].set_xlabel('Gaji bulanan')\n",
    "axes[1].set_ylabel('Jumlah karyawan')\n",
    "\n",
    "plt.show()"
   ]
  },
  {
   "cell_type": "code",
   "execution_count": 31,
   "id": "6b6bcfc2",
   "metadata": {},
   "outputs": [
    {
     "name": "stdout",
     "output_type": "stream",
     "text": [
      "Test Result attritition yes:  1.5025414983521328e-17\n",
      "Test Result attrition no:  5.9703792392981e-34\n"
     ]
    }
   ],
   "source": [
    "# secara statistik\n",
    "\n",
    "from scipy.stats import shapiro\n",
    "\n",
    "# hipotesis\n",
    "ho_normal = \"Distribusi normal\"\n",
    "ha_normal = \"Tidak terdistribusi normal\"\n",
    "\n",
    "test_attrition_yes = shapiro(attrition_yes['MonthlyIncome'])\n",
    "test_attrition_no = shapiro(attrition_no['MonthlyIncome'])\n",
    "\n",
    "pval_yes = test_attrition_yes[1]\n",
    "pval_no = test_attrition_no[1]\n",
    "\n",
    "print(\"Test Result attritition yes: \", pval_yes)\n",
    "print(\"Test Result attrition no: \", pval_no)\n",
    "\n",
    "def draw_conclusion(pval, ho, ha, alpha=0.05):\n",
    "    if pval < alpha:\n",
    "        print(f\"Karena nilai p-value ({round(pval, 3)}) < alpha, maka\", ha)\n",
    "    else:\n",
    "        print(f\"Karena nilai p-value ({round(pval, 3)}) > alpha, maka\", ho)"
   ]
  },
  {
   "cell_type": "code",
   "execution_count": 33,
   "id": "7b4cf646",
   "metadata": {},
   "outputs": [
    {
     "name": "stdout",
     "output_type": "stream",
     "text": [
      "Karena nilai p-value (0.0) < alpha, maka Tidak terdistribusi normal\n"
     ]
    }
   ],
   "source": [
    "# attrition_yes\n",
    "draw_conclusion(pval_yes, ho_normal, ha_normal)"
   ]
  },
  {
   "cell_type": "code",
   "execution_count": 35,
   "id": "a8001294",
   "metadata": {},
   "outputs": [
    {
     "name": "stdout",
     "output_type": "stream",
     "text": [
      "Karena nilai p-value (0.0) < alpha, maka Tidak terdistribusi normal\n"
     ]
    }
   ],
   "source": [
    "# attrition_no\n",
    "draw_conclusion(pval_no, ho_normal, ha_normal)"
   ]
  },
  {
   "cell_type": "markdown",
   "id": "7800787c",
   "metadata": {},
   "source": [
    "***Hypothesis Test***"
   ]
  },
  {
   "cell_type": "code",
   "execution_count": 36,
   "id": "0db55a83",
   "metadata": {},
   "outputs": [
    {
     "name": "stdout",
     "output_type": "stream",
     "text": [
      "Karena nilai p-value (0.0) < alpha, maka Gaji bulanan karyawan yang keluar tidak sama dengan karyawan yang bertahan\n"
     ]
    }
   ],
   "source": [
    "from scipy.stats import mannwhitneyu\n",
    "\n",
    "test_result = mannwhitneyu(attrition_yes['MonthlyIncome'], attrition_no['MonthlyIncome'])\n",
    "pval = test_result[1]\n",
    "\n",
    "draw_conclusion(pval, H0, HA)"
   ]
  },
  {
   "cell_type": "markdown",
   "id": "a38976cd",
   "metadata": {},
   "source": [
    "***Insight***\n",
    "- Gaji karyawan yang keluar dengan yang bertahan tidaklah sama. jika melihat ke grafik distribusi diatas, gaji karyawan yang bertahan cenderung lebih tinggi\n",
    "- Kemungkinan, perbedaan gaji ini lah yang membuat karyawan keluar dari company (undervalued)"
   ]
  },
  {
   "cell_type": "markdown",
   "id": "8f7bb324",
   "metadata": {},
   "source": [
    "## 🔍 Studi Kasus 2: Gender dan Resign\n",
    "### Pertanyaan:\n",
    "> Apakah gender memiliki pengaruh terhadap kemungkinan resign?\n",
    "\n",
    "### Tugas:\n",
    "- Tentukan metode uji statistik yang sesuai.\n",
    "- Buat visualisasi proporsi attrition berdasarkan gender.\n",
    "- Interpretasi dan insight yang bisa disampaikan.\n"
   ]
  },
  {
   "cell_type": "code",
   "execution_count": null,
   "id": "0127f40b",
   "metadata": {},
   "outputs": [],
   "source": [
    "# UJI STATISTIK\n",
    "\n",
    "# 1. Menentukan hipotesis\n",
    "# Arah uji: two tail test\n",
    "H0 = \"Gender memiliki pengaruh terhadap kemungkinan resign\"\n",
    "HA = \"Gender tidak memiliki pengaruh terhadap kemungkinan resign\"\n",
    "\n",
    "# 2. Menentukan signifikansi\n",
    "alpha = 0.05\n",
    "\n",
    "# 3. Menentukan uji statistik: chi-square test"
   ]
  },
  {
   "cell_type": "code",
   "execution_count": 52,
   "id": "62a6cd2f",
   "metadata": {},
   "outputs": [
    {
     "name": "stdout",
     "output_type": "stream",
     "text": [
      "Karena nilai p-value (0.291) > alpha, maka Gender memiliki pengaruh terhadap kemungkinan resign\n"
     ]
    }
   ],
   "source": [
    "gender_attrition = pd.crosstab(df['Attrition'], df['Gender'])\n",
    "\n",
    "from scipy.stats import chi2_contingency\n",
    "\n",
    "test_result = chi2_contingency(gender_attrition)\n",
    "pval = test_result[1]\n",
    "\n",
    "draw_conclusion(pval, H0, HA)"
   ]
  },
  {
   "cell_type": "code",
   "execution_count": 56,
   "id": "cebb7436",
   "metadata": {},
   "outputs": [
    {
     "data": {
      "text/plain": [
       "<Axes: xlabel='Attrition'>"
      ]
     },
     "execution_count": 56,
     "metadata": {},
     "output_type": "execute_result"
    },
    {
     "data": {
      "image/png": "[encoded data removed]",
      "text/plain": [
       "<Figure size 800x600 with 1 Axes>"
      ]
     },
     "metadata": {},
     "output_type": "display_data"
    }
   ],
   "source": [
    "gender_attrition.plot(\n",
    "    kind='bar',\n",
    "    stacked=True,\n",
    "    figsize=(8,6),\n",
    "    colormap='coolwarm'\n",
    ")"
   ]
  },
  {
   "cell_type": "code",
   "execution_count": 72,
   "id": "bee5e103",
   "metadata": {},
   "outputs": [
    {
     "data": {
      "application/vnd.plotly.v1+json": {
       "config": {
        "plotlyServerURL": "https://plot.ly"
       },
       "data": [
        {
         "hovertemplate": "Gender=Female<br>Attrition=%{x}<br>value=%{y}<extra></extra>",
         "legendgroup": "Female",
         "marker": {
          "color": "#636efa",
          "pattern": {
           "shape": ""
          }
         },
         "name": "Female",
         "orientation": "v",
         "showlegend": true,
         "textposition": "auto",
         "type": "bar",
         "x": [
          "No",
          "Yes"
         ],
         "xaxis": "x",
         "y": {
          "bdata": "9QFXAA==",
          "dtype": "i2"
         },
         "yaxis": "y"
        },
        {
         "hovertemplate": "Gender=Male<br>Attrition=%{x}<br>value=%{y}<extra></extra>",
         "legendgroup": "Male",
         "marker": {
          "color": "#EF553B",
          "pattern": {
           "shape": ""
          }
         },
         "name": "Male",
         "orientation": "v",
         "showlegend": true,
         "textposition": "auto",
         "type": "bar",
         "x": [
          "No",
          "Yes"
         ],
         "xaxis": "x",
         "y": {
          "bdata": "3AKWAA==",
          "dtype": "i2"
         },
         "yaxis": "y"
        }
       ],
       "layout": {
        "barmode": "stack",
        "height": 600,
        "legend": {
         "title": {
          "text": "Gender"
         },
         "tracegroupgap": 0
        },
        "template": {
         "data": {
          "bar": [
           {
            "error_x": {
             "color": "#2a3f5f"
            },
            "error_y": {
             "color": "#2a3f5f"
            },
            "marker": {
             "line": {
              "color": "#E5ECF6",
              "width": 0.5
             },
             "pattern": {
              "fillmode": "overlay",
              "size": 10,
              "solidity": 0.2
             }
            },
            "type": "bar"
           }
          ],
          "barpolar": [
           {
            "marker": {
             "line": {
              "color": "#E5ECF6",
              "width": 0.5
             },
             "pattern": {
              "fillmode": "overlay",
              "size": 10,
              "solidity": 0.2
             }
            },
            "type": "barpolar"
           }
          ],
          "carpet": [
           {
            "aaxis": {
             "endlinecolor": "#2a3f5f",
             "gridcolor": "white",
             "linecolor": "white",
             "minorgridcolor": "white",
             "startlinecolor": "#2a3f5f"
            },
            "baxis": {
             "endlinecolor": "#2a3f5f",
             "gridcolor": "white",
             "linecolor": "white",
             "minorgridcolor": "white",
             "startlinecolor": "#2a3f5f"
            },
            "type": "carpet"
           }
          ],
          "choropleth": [
           {
            "colorbar": {
             "outlinewidth": 0,
             "ticks": ""
            },
            "type": "choropleth"
           }
          ],
          "contour": [
           {
            "colorbar": {
             "outlinewidth": 0,
             "ticks": ""
            },
            "colorscale": [
             [
              0,
              "#0d0887"
             ],
             [
              0.1111111111111111,
              "#46039f"
             ],
             [
              0.2222222222222222,
              "#7201a8"
             ],
             [
              0.3333333333333333,
              "#9c179e"
             ],
             [
              0.4444444444444444,
              "#bd3786"
             ],
             [
              0.5555555555555556,
              "#d8576b"
             ],
             [
              0.6666666666666666,
              "#ed7953"
             ],
             [
              0.7777777777777778,
              "#fb9f3a"
             ],
             [
              0.8888888888888888,
              "#fdca26"
             ],
             [
              1,
              "#f0f921"
             ]
            ],
            "type": "contour"
           }
          ],
          "contourcarpet": [
           {
            "colorbar": {
             "outlinewidth": 0,
             "ticks": ""
            },
            "type": "contourcarpet"
           }
          ],
          "heatmap": [
           {
            "colorbar": {
             "outlinewidth": 0,
             "ticks": ""
            },
            "colorscale": [
             [
              0,
              "#0d0887"
             ],
             [
              0.1111111111111111,
              "#46039f"
             ],
             [
              0.2222222222222222,
              "#7201a8"
             ],
             [
              0.3333333333333333,
              "#9c179e"
             ],
             [
              0.4444444444444444,
              "#bd3786"
             ],
             [
              0.5555555555555556,
              "#d8576b"
             ],
             [
              0.6666666666666666,
              "#ed7953"
             ],
             [
              0.7777777777777778,
              "#fb9f3a"
             ],
             [
              0.8888888888888888,
              "#fdca26"
             ],
             [
              1,
              "#f0f921"
             ]
            ],
            "type": "heatmap"
           }
          ],
          "histogram": [
           {
            "marker": {
             "pattern": {
              "fillmode": "overlay",
              "size": 10,
              "solidity": 0.2
             }
            },
            "type": "histogram"
           }
          ],
          "histogram2d": [
           {
            "colorbar": {
             "outlinewidth": 0,
             "ticks": ""
            },
            "colorscale": [
             [
              0,
              "#0d0887"
             ],
             [
              0.1111111111111111,
              "#46039f"
             ],
             [
              0.2222222222222222,
              "#7201a8"
             ],
             [
              0.3333333333333333,
              "#9c179e"
             ],
             [
              0.4444444444444444,
              "#bd3786"
             ],
             [
              0.5555555555555556,
              "#d8576b"
             ],
             [
              0.6666666666666666,
              "#ed7953"
             ],
             [
              0.7777777777777778,
              "#fb9f3a"
             ],
             [
              0.8888888888888888,
              "#fdca26"
             ],
             [
              1,
              "#f0f921"
             ]
            ],
            "type": "histogram2d"
           }
          ],
          "histogram2dcontour": [
           {
            "colorbar": {
             "outlinewidth": 0,
             "ticks": ""
            },
            "colorscale": [
             [
              0,
              "#0d0887"
             ],
             [
              0.1111111111111111,
              "#46039f"
             ],
             [
              0.2222222222222222,
              "#7201a8"
             ],
             [
              0.3333333333333333,
              "#9c179e"
             ],
             [
              0.4444444444444444,
              "#bd3786"
             ],
             [
              0.5555555555555556,
              "#d8576b"
             ],
             [
              0.6666666666666666,
              "#ed7953"
             ],
             [
              0.7777777777777778,
              "#fb9f3a"
             ],
             [
              0.8888888888888888,
              "#fdca26"
             ],
             [
              1,
              "#f0f921"
             ]
            ],
            "type": "histogram2dcontour"
           }
          ],
          "mesh3d": [
           {
            "colorbar": {
             "outlinewidth": 0,
             "ticks": ""
            },
            "type": "mesh3d"
           }
          ],
          "parcoords": [
           {
            "line": {
             "colorbar": {
              "outlinewidth": 0,
              "ticks": ""
             }
            },
            "type": "parcoords"
           }
          ],
          "pie": [
           {
            "automargin": true,
            "type": "pie"
           }
          ],
          "scatter": [
           {
            "fillpattern": {
             "fillmode": "overlay",
             "size": 10,
             "solidity": 0.2
            },
            "type": "scatter"
           }
          ],
          "scatter3d": [
           {
            "line": {
             "colorbar": {
              "outlinewidth": 0,
              "ticks": ""
             }
            },
            "marker": {
             "colorbar": {
              "outlinewidth": 0,
              "ticks": ""
             }
            },
            "type": "scatter3d"
           }
          ],
          "scattercarpet": [
           {
            "marker": {
             "colorbar": {
              "outlinewidth": 0,
              "ticks": ""
             }
            },
            "type": "scattercarpet"
           }
          ],
          "scattergeo": [
           {
            "marker": {
             "colorbar": {
              "outlinewidth": 0,
              "ticks": ""
             }
            },
            "type": "scattergeo"
           }
          ],
          "scattergl": [
           {
            "marker": {
             "colorbar": {
              "outlinewidth": 0,
              "ticks": ""
             }
            },
            "type": "scattergl"
           }
          ],
          "scattermap": [
           {
            "marker": {
             "colorbar": {
              "outlinewidth": 0,
              "ticks": ""
             }
            },
            "type": "scattermap"
           }
          ],
          "scattermapbox": [
           {
            "marker": {
             "colorbar": {
              "outlinewidth": 0,
              "ticks": ""
             }
            },
            "type": "scattermapbox"
           }
          ],
          "scatterpolar": [
           {
            "marker": {
             "colorbar": {
              "outlinewidth": 0,
              "ticks": ""
             }
            },
            "type": "scatterpolar"
           }
          ],
          "scatterpolargl": [
           {
            "marker": {
             "colorbar": {
              "outlinewidth": 0,
              "ticks": ""
             }
            },
            "type": "scatterpolargl"
           }
          ],
          "scatterternary": [
           {
            "marker": {
             "colorbar": {
              "outlinewidth": 0,
              "ticks": ""
             }
            },
            "type": "scatterternary"
           }
          ],
          "surface": [
           {
            "colorbar": {
             "outlinewidth": 0,
             "ticks": ""
            },
            "colorscale": [
             [
              0,
              "#0d0887"
             ],
             [
              0.1111111111111111,
              "#46039f"
             ],
             [
              0.2222222222222222,
              "#7201a8"
             ],
             [
              0.3333333333333333,
              "#9c179e"
             ],
             [
              0.4444444444444444,
              "#bd3786"
             ],
             [
              0.5555555555555556,
              "#d8576b"
             ],
             [
              0.6666666666666666,
              "#ed7953"
             ],
             [
              0.7777777777777778,
              "#fb9f3a"
             ],
             [
              0.8888888888888888,
              "#fdca26"
             ],
             [
              1,
              "#f0f921"
             ]
            ],
            "type": "surface"
           }
          ],
          "table": [
           {
            "cells": {
             "fill": {
              "color": "#EBF0F8"
             },
             "line": {
              "color": "white"
             }
            },
            "header": {
             "fill": {
              "color": "#C8D4E3"
             },
             "line": {
              "color": "white"
             }
            },
            "type": "table"
           }
          ]
         },
         "layout": {
          "annotationdefaults": {
           "arrowcolor": "#2a3f5f",
           "arrowhead": 0,
           "arrowwidth": 1
          },
          "autotypenumbers": "strict",
          "coloraxis": {
           "colorbar": {
            "outlinewidth": 0,
            "ticks": ""
           }
          },
          "colorscale": {
           "diverging": [
            [
             0,
             "#8e0152"
            ],
            [
             0.1,
             "#c51b7d"
            ],
            [
             0.2,
             "#de77ae"
            ],
            [
             0.3,
             "#f1b6da"
            ],
            [
             0.4,
             "#fde0ef"
            ],
            [
             0.5,
             "#f7f7f7"
            ],
            [
             0.6,
             "#e6f5d0"
            ],
            [
             0.7,
             "#b8e186"
            ],
            [
             0.8,
             "#7fbc41"
            ],
            [
             0.9,
             "#4d9221"
            ],
            [
             1,
             "#276419"
            ]
           ],
           "sequential": [
            [
             0,
             "#0d0887"
            ],
            [
             0.1111111111111111,
             "#46039f"
            ],
            [
             0.2222222222222222,
             "#7201a8"
            ],
            [
             0.3333333333333333,
             "#9c179e"
            ],
            [
             0.4444444444444444,
             "#bd3786"
            ],
            [
             0.5555555555555556,
             "#d8576b"
            ],
            [
             0.6666666666666666,
             "#ed7953"
            ],
            [
             0.7777777777777778,
             "#fb9f3a"
            ],
            [
             0.8888888888888888,
             "#fdca26"
            ],
            [
             1,
             "#f0f921"
            ]
           ],
           "sequentialminus": [
            [
             0,
             "#0d0887"
            ],
            [
             0.1111111111111111,
             "#46039f"
            ],
            [
             0.2222222222222222,
             "#7201a8"
            ],
            [
             0.3333333333333333,
             "#9c179e"
            ],
            [
             0.4444444444444444,
             "#bd3786"
            ],
            [
             0.5555555555555556,
             "#d8576b"
            ],
            [
             0.6666666666666666,
             "#ed7953"
            ],
            [
             0.7777777777777778,
             "#fb9f3a"
            ],
            [
             0.8888888888888888,
             "#fdca26"
            ],
            [
             1,
             "#f0f921"
            ]
           ]
          },
          "colorway": [
           "#636efa",
           "#EF553B",
           "#00cc96",
           "#ab63fa",
           "#FFA15A",
           "#19d3f3",
           "#FF6692",
           "#B6E880",
           "#FF97FF",
           "#FECB52"
          ],
          "font": {
           "color": "#2a3f5f"
          },
          "geo": {
           "bgcolor": "white",
           "lakecolor": "white",
           "landcolor": "#E5ECF6",
           "showlakes": true,
           "showland": true,
           "subunitcolor": "white"
          },
          "hoverlabel": {
           "align": "left"
          },
          "hovermode": "closest",
          "mapbox": {
           "style": "light"
          },
          "paper_bgcolor": "white",
          "plot_bgcolor": "#E5ECF6",
          "polar": {
           "angularaxis": {
            "gridcolor": "white",
            "linecolor": "white",
            "ticks": ""
           },
           "bgcolor": "#E5ECF6",
           "radialaxis": {
            "gridcolor": "white",
            "linecolor": "white",
            "ticks": ""
           }
          },
          "scene": {
           "xaxis": {
            "backgroundcolor": "#E5ECF6",
            "gridcolor": "white",
            "gridwidth": 2,
            "linecolor": "white",
            "showbackground": true,
            "ticks": "",
            "zerolinecolor": "white"
           },
           "yaxis": {
            "backgroundcolor": "#E5ECF6",
            "gridcolor": "white",
            "gridwidth": 2,
            "linecolor": "white",
            "showbackground": true,
            "ticks": "",
            "zerolinecolor": "white"
           },
           "zaxis": {
            "backgroundcolor": "#E5ECF6",
            "gridcolor": "white",
            "gridwidth": 2,
            "linecolor": "white",
            "showbackground": true,
            "ticks": "",
            "zerolinecolor": "white"
           }
          },
          "shapedefaults": {
           "line": {
            "color": "#2a3f5f"
           }
          },
          "ternary": {
           "aaxis": {
            "gridcolor": "white",
            "linecolor": "white",
            "ticks": ""
           },
           "baxis": {
            "gridcolor": "white",
            "linecolor": "white",
            "ticks": ""
           },
           "bgcolor": "#E5ECF6",
           "caxis": {
            "gridcolor": "white",
            "linecolor": "white",
            "ticks": ""
           }
          },
          "title": {
           "x": 0.05
          },
          "xaxis": {
           "automargin": true,
           "gridcolor": "white",
           "linecolor": "white",
           "ticks": "",
           "title": {
            "standoff": 15
           },
           "zerolinecolor": "white",
           "zerolinewidth": 2
          },
          "yaxis": {
           "automargin": true,
           "gridcolor": "white",
           "linecolor": "white",
           "ticks": "",
           "title": {
            "standoff": 15
           },
           "zerolinecolor": "white",
           "zerolinewidth": 2
          }
         }
        },
        "title": {
         "text": "Perbandingan Attrition Karyawan Laki-laki dan Perempuan"
        },
        "width": 400,
        "xaxis": {
         "anchor": "y",
         "domain": [
          0,
          1
         ],
         "title": {
          "text": "Attrition"
         }
        },
        "yaxis": {
         "anchor": "x",
         "domain": [
          0,
          1
         ],
         "title": {
          "text": "Jumlah Karyawann"
         }
        }
       }
      }
     },
     "metadata": {},
     "output_type": "display_data"
    }
   ],
   "source": [
    "fig = px.bar(gender_attrition, barmode='stack',\n",
    "             title='Perbandingan Attrition Karyawan Laki-laki dan Perempuan',\n",
    "             height=600, width=400)\n",
    "fig.update_layout(\n",
    "    xaxis_title = 'Attrition',\n",
    "    yaxis_title = 'Jumlah Karyawann')\n",
    "fig.show()"
   ]
  },
  {
   "cell_type": "markdown",
   "id": "cf008364",
   "metadata": {},
   "source": [
    "***Insight***\n",
    "\n",
    "- berdasarkan uji statistik, perbedaan gender memilki kemungkinan resign\n",
    "- juga dilihat dari grafik diatas, bahwa Male lebih banyak yang resign dibanding Female"
   ]
  },
  {
   "cell_type": "markdown",
   "id": "0956dbf7",
   "metadata": {},
   "source": [
    "## 🔍 Studi Kasus 3: Job Satisfaction Antar Departemen\n",
    "### Pertanyaan:\n",
    "> Apakah terdapat perbedaan tingkat kepuasan kerja antar departemen?\n",
    "\n",
    "### Tugas:\n",
    "- Tentukan uji statistik yang digunakan.\n",
    "- Buat grafik yang membandingkan distribusi JobSatisfaction antar Department.\n",
    "- Interpretasi hasil uji dan insight yang relevan.\n"
   ]
  },
  {
   "cell_type": "code",
   "execution_count": 101,
   "id": "dcd8692a",
   "metadata": {},
   "outputs": [
    {
     "data": {
      "text/plain": [
       "Department\n",
       "Research & Development    961\n",
       "Sales                     446\n",
       "Human Resources            63\n",
       "Name: count, dtype: int64"
      ]
     },
     "execution_count": 101,
     "metadata": {},
     "output_type": "execute_result"
    }
   ],
   "source": [
    "df.value_counts('Department')"
   ]
  },
  {
   "cell_type": "code",
   "execution_count": 103,
   "id": "223a9117",
   "metadata": {},
   "outputs": [],
   "source": [
    "# UJI STATISTIK\n",
    "\n",
    "# 1. Menentukan hipotesis\n",
    "# Arah uji: two tail test\n",
    "H0 = \"terdapat perbedaan tingkat kepuasan kerja antar department\"\n",
    "HA = \"tidak terdapat perbedaan tingkat kepuasan kerja antar department\"\n",
    "\n",
    "# 2. Menentukan signifikansi\n",
    "alpha = 0.05\n",
    "\n",
    "# 3. Menentukan uji statistik: \n",
    "# Normal -> Independence T-Test, Tidak Normal -> Mann Withney"
   ]
  },
  {
   "cell_type": "code",
   "execution_count": 106,
   "id": "48a0d19a",
   "metadata": {},
   "outputs": [],
   "source": [
    "Sales = df.query(\"Department == 'Sales'\")['JobSatisfaction']\n",
    "RnD = df.query(\"Department == 'Research & Development'\")['JobSatisfaction']\n",
    "HR = df.query(\"Department == 'Human Resources'\")['JobSatisfaction']"
   ]
  },
  {
   "cell_type": "markdown",
   "id": "82e985cf",
   "metadata": {},
   "source": [
    "***Normality Test***"
   ]
  },
  {
   "cell_type": "code",
   "execution_count": 108,
   "id": "b1b52cf2",
   "metadata": {},
   "outputs": [
    {
     "name": "stdout",
     "output_type": "stream",
     "text": [
      "Test Result sales:  9.969654662742214e-21\n",
      "Test Result RnD:  1.2563073983562737e-29\n",
      "Test Result HR:  4.902771707856244e-06\n"
     ]
    }
   ],
   "source": [
    "# hipotesis\n",
    "ho_normal = \"Distribusi normal\"\n",
    "ha_normal = \"Tidak terdistribusi normal\"\n",
    "\n",
    "test_sales = shapiro(Sales)\n",
    "test_rnd = shapiro(RnD)\n",
    "test_hr = shapiro(HR)\n",
    "\n",
    "pval_sales = test_sales[1]\n",
    "pval_rnd = test_rnd[1]\n",
    "pval_hr = test_hr[1]\n",
    "\n",
    "print(\"Test Result sales: \", pval_sales)\n",
    "print(\"Test Result RnD: \", pval_rnd)\n",
    "print(\"Test Result HR: \", pval_hr)"
   ]
  },
  {
   "cell_type": "code",
   "execution_count": 109,
   "id": "2303b093",
   "metadata": {},
   "outputs": [
    {
     "name": "stdout",
     "output_type": "stream",
     "text": [
      "Karena nilai p-value (0.0) < alpha, maka Tidak terdistribusi normal\n"
     ]
    }
   ],
   "source": [
    "# Sales\n",
    "draw_conclusion(pval_sales, ha_normal, ha_normal)"
   ]
  },
  {
   "cell_type": "code",
   "execution_count": 111,
   "id": "adc97ffe",
   "metadata": {},
   "outputs": [
    {
     "name": "stdout",
     "output_type": "stream",
     "text": [
      "Karena nilai p-value (0.0) < alpha, maka Tidak terdistribusi normal\n"
     ]
    }
   ],
   "source": [
    "# RnD\n",
    "draw_conclusion(pval_rnd, ha_normal, ha_normal)"
   ]
  },
  {
   "cell_type": "code",
   "execution_count": 113,
   "id": "4768ff9c",
   "metadata": {},
   "outputs": [
    {
     "name": "stdout",
     "output_type": "stream",
     "text": [
      "Karena nilai p-value (0.0) < alpha, maka Tidak terdistribusi normal\n"
     ]
    }
   ],
   "source": [
    "# HR\n",
    "draw_conclusion(pval_hr, ha_normal, ha_normal)"
   ]
  },
  {
   "cell_type": "markdown",
   "id": "81349465",
   "metadata": {},
   "source": [
    "***Hyphotesis Test***"
   ]
  },
  {
   "cell_type": "code",
   "execution_count": 116,
   "id": "9ddc2ff2",
   "metadata": {},
   "outputs": [
    {
     "ename": "TypeError",
     "evalue": "unhashable type: 'Series'",
     "output_type": "error",
     "traceback": [
      "\u001b[31m---------------------------------------------------------------------------\u001b[39m",
      "\u001b[31mTypeError\u001b[39m                                 Traceback (most recent call last)",
      "\u001b[36mCell\u001b[39m\u001b[36m \u001b[39m\u001b[32mIn[116]\u001b[39m\u001b[32m, line 3\u001b[39m\n\u001b[32m      1\u001b[39m \u001b[38;5;28;01mfrom\u001b[39;00m\u001b[38;5;250m \u001b[39m\u001b[34;01mscipy\u001b[39;00m\u001b[34;01m.\u001b[39;00m\u001b[34;01mstats\u001b[39;00m\u001b[38;5;250m \u001b[39m\u001b[38;5;28;01mimport\u001b[39;00m mannwhitneyu\n\u001b[32m----> \u001b[39m\u001b[32m3\u001b[39m test_result = \u001b[43mmannwhitneyu\u001b[49m\u001b[43m(\u001b[49m\u001b[43mSales\u001b[49m\u001b[43m,\u001b[49m\u001b[43m \u001b[49m\u001b[43mRnD\u001b[49m\u001b[43m,\u001b[49m\u001b[43m \u001b[49m\u001b[43mHR\u001b[49m\u001b[43m)\u001b[49m\n\u001b[32m      4\u001b[39m pval = test_result[\u001b[32m1\u001b[39m]\n\u001b[32m      6\u001b[39m draw_conclusion(pval, H0, HA)\n",
      "\u001b[36mFile \u001b[39m\u001b[32mc:\\Users\\Lenovo\\AppData\\Local\\Programs\\Python\\Python313\\Lib\\site-packages\\scipy\\stats\\_axis_nan_policy.py:579\u001b[39m, in \u001b[36m_axis_nan_policy_factory.<locals>.axis_nan_policy_decorator.<locals>.axis_nan_policy_wrapper\u001b[39m\u001b[34m(***failed resolving arguments***)\u001b[39m\n\u001b[32m    576\u001b[39m     res = _add_reduced_axes(res, reduced_axes, keepdims)\n\u001b[32m    577\u001b[39m     \u001b[38;5;28;01mreturn\u001b[39;00m tuple_to_result(*res)\n\u001b[32m--> \u001b[39m\u001b[32m579\u001b[39m res = \u001b[43mhypotest_fun_out\u001b[49m\u001b[43m(\u001b[49m\u001b[43m*\u001b[49m\u001b[43msamples\u001b[49m\u001b[43m,\u001b[49m\u001b[43m \u001b[49m\u001b[43m*\u001b[49m\u001b[43m*\u001b[49m\u001b[43mkwds\u001b[49m\u001b[43m)\u001b[49m\n\u001b[32m    580\u001b[39m res = result_to_tuple(res, n_out)\n\u001b[32m    581\u001b[39m res = _add_reduced_axes(res, reduced_axes, keepdims)\n",
      "\u001b[36mFile \u001b[39m\u001b[32mc:\\Users\\Lenovo\\AppData\\Local\\Programs\\Python\\Python313\\Lib\\site-packages\\scipy\\stats\\_mannwhitneyu.py:445\u001b[39m, in \u001b[36mmannwhitneyu\u001b[39m\u001b[34m(x, y, use_continuity, alternative, axis, method)\u001b[39m\n\u001b[32m    227\u001b[39m \u001b[38;5;129m@_axis_nan_policy_factory\u001b[39m(MannwhitneyuResult, n_samples=\u001b[32m2\u001b[39m)\n\u001b[32m    228\u001b[39m \u001b[38;5;28;01mdef\u001b[39;00m\u001b[38;5;250m \u001b[39m\u001b[34mmannwhitneyu\u001b[39m(x, y, use_continuity=\u001b[38;5;28;01mTrue\u001b[39;00m, alternative=\u001b[33m\"\u001b[39m\u001b[33mtwo-sided\u001b[39m\u001b[33m\"\u001b[39m,\n\u001b[32m    229\u001b[39m                  axis=\u001b[32m0\u001b[39m, method=\u001b[33m\"\u001b[39m\u001b[33mauto\u001b[39m\u001b[33m\"\u001b[39m):\n\u001b[32m    230\u001b[39m \u001b[38;5;250m    \u001b[39m\u001b[33mr\u001b[39m\u001b[33;03m'''Perform the Mann-Whitney U rank test on two independent samples.\u001b[39;00m\n\u001b[32m    231\u001b[39m \n\u001b[32m    232\u001b[39m \u001b[33;03m    The Mann-Whitney U test is a nonparametric test of the null hypothesis\u001b[39;00m\n\u001b[32m   (...)\u001b[39m\u001b[32m    441\u001b[39m \n\u001b[32m    442\u001b[39m \u001b[33;03m    '''\u001b[39;00m\n\u001b[32m    444\u001b[39m     x, y, use_continuity, alternative, axis_int, method = (\n\u001b[32m--> \u001b[39m\u001b[32m445\u001b[39m         \u001b[43m_mwu_input_validation\u001b[49m\u001b[43m(\u001b[49m\u001b[43mx\u001b[49m\u001b[43m,\u001b[49m\u001b[43m \u001b[49m\u001b[43my\u001b[49m\u001b[43m,\u001b[49m\u001b[43m \u001b[49m\u001b[43muse_continuity\u001b[49m\u001b[43m,\u001b[49m\u001b[43m \u001b[49m\u001b[43malternative\u001b[49m\u001b[43m,\u001b[49m\u001b[43m \u001b[49m\u001b[43maxis\u001b[49m\u001b[43m,\u001b[49m\u001b[43m \u001b[49m\u001b[43mmethod\u001b[49m\u001b[43m)\u001b[49m)\n\u001b[32m    447\u001b[39m     x, y, xy = _broadcast_concatenate(x, y, axis)\n\u001b[32m    449\u001b[39m     n1, n2 = x.shape[-\u001b[32m1\u001b[39m], y.shape[-\u001b[32m1\u001b[39m]\n",
      "\u001b[36mFile \u001b[39m\u001b[32mc:\\Users\\Lenovo\\AppData\\Local\\Programs\\Python\\Python313\\Lib\\site-packages\\scipy\\stats\\_mannwhitneyu.py:189\u001b[39m, in \u001b[36m_mwu_input_validation\u001b[39m\u001b[34m(x, y, use_continuity, alternative, axis, method)\u001b[39m\n\u001b[32m    186\u001b[39m     \u001b[38;5;28;01mraise\u001b[39;00m \u001b[38;5;167;01mValueError\u001b[39;00m(\u001b[33m'\u001b[39m\u001b[33m`x` and `y` must be of nonzero size.\u001b[39m\u001b[33m'\u001b[39m)\n\u001b[32m    188\u001b[39m bools = {\u001b[38;5;28;01mTrue\u001b[39;00m, \u001b[38;5;28;01mFalse\u001b[39;00m}\n\u001b[32m--> \u001b[39m\u001b[32m189\u001b[39m \u001b[38;5;28;01mif\u001b[39;00m \u001b[43muse_continuity\u001b[49m\u001b[43m \u001b[49m\u001b[38;5;129;43;01mnot\u001b[39;49;00m\u001b[43m \u001b[49m\u001b[38;5;129;43;01min\u001b[39;49;00m\u001b[43m \u001b[49m\u001b[43mbools\u001b[49m:\n\u001b[32m    190\u001b[39m     \u001b[38;5;28;01mraise\u001b[39;00m \u001b[38;5;167;01mValueError\u001b[39;00m(\u001b[33mf\u001b[39m\u001b[33m'\u001b[39m\u001b[33m`use_continuity` must be one of \u001b[39m\u001b[38;5;132;01m{\u001b[39;00mbools\u001b[38;5;132;01m}\u001b[39;00m\u001b[33m.\u001b[39m\u001b[33m'\u001b[39m)\n\u001b[32m    192\u001b[39m alternatives = {\u001b[33m\"\u001b[39m\u001b[33mtwo-sided\u001b[39m\u001b[33m\"\u001b[39m, \u001b[33m\"\u001b[39m\u001b[33mless\u001b[39m\u001b[33m\"\u001b[39m, \u001b[33m\"\u001b[39m\u001b[33mgreater\u001b[39m\u001b[33m\"\u001b[39m}\n",
      "\u001b[31mTypeError\u001b[39m: unhashable type: 'Series'"
     ]
    }
   ],
   "source": [
    "from scipy.stats import mannwhitneyu\n",
    "\n",
    "test_result = mannwhitneyu(Sales, RnD, HR)\n",
    "pval = test_result[1]\n",
    "\n",
    "draw_conclusion(pval, H0, HA)"
   ]
  },
  {
   "cell_type": "markdown",
   "id": "5e4b0e60",
   "metadata": {},
   "source": [
    "## 🔍 Studi Kasus 4: Jarak Rumah dan Attrition\n",
    "### Pertanyaan:\n",
    "> Apakah terdapat hubungan antara jarak dari rumah ke kantor dan kemungkinan resign?\n",
    "\n",
    "### Tugas:\n",
    "- Pilih metode korelasi yang tepat.\n",
    "- Buat scatter plot antara DistanceFromHome dan Attrition.\n",
    "- Interpretasi kekuatan dan arah hubungan.\n",
    "- Insight operasional dari temuan.\n"
   ]
  },
  {
   "cell_type": "markdown",
   "id": "4ea177aa",
   "metadata": {},
   "source": [
    "## 🔍 Studi Kasus 5: Visualisasi Korelasi\n",
    "### Pertanyaan:\n",
    "> Faktor apa saja yang paling berkaitan dengan attrition?\n",
    "\n",
    "### Tugas:\n",
    "- Buat visualisasi heatmap korelasi antar variabel numerik.\n",
    "- Interpretasikan korelasi dengan attrition (ubah menjadi 0/1 jika perlu).\n",
    "- Buat insight menyeluruh untuk manajemen HR.\n"
   ]
  },
  {
   "cell_type": "markdown",
   "id": "5ea065b3",
   "metadata": {},
   "source": [
    "## 🧠 Ringkasan Akhir\n",
    "Tuliskan ringkasan insight dan rekomendasi strategis untuk HR berdasarkan seluruh hasil analisis. Susun dalam bentuk executive summary maksimal 1 halaman.\n",
    "\n",
    "> 📌 *Catatan: Kerjakan setiap studi kasus dalam urutan yang diberikan. Fokus pada metode, interpretasi, dan insight yang bisa dikaitkan dengan konteks bisnis.*\n"
   ]
  }
 ],
 "metadata": {
  "kernelspec": {
   "display_name": "Python 3",
   "language": "python",
   "name": "python3"
  },
  "language_info": {
   "codemirror_mode": {
    "name": "ipython",
    "version": 3
   },
   "file_extension": ".py",
   "mimetype": "text/x-python",
   "name": "python",
   "nbconvert_exporter": "python",
   "pygments_lexer": "ipython3",
   "version": "3.13.5"
  }
 },
 "nbformat": 4,
 "nbformat_minor": 5
}
