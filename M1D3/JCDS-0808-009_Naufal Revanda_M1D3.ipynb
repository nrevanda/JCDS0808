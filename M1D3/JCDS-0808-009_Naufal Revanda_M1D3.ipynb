{
 "cells": [
  {
   "cell_type": "markdown",
   "id": "ed95f17d",
   "metadata": {},
   "source": [
    "No 1 \n",
    "- Dari angka 1 hingga 50, tampilkan angka yang habis dibagi 3 dengan looping"
   ]
  },
  {
   "cell_type": "code",
   "execution_count": 3,
   "id": "504d80a3",
   "metadata": {},
   "outputs": [
    {
     "name": "stdout",
     "output_type": "stream",
     "text": [
      "3\n",
      "6\n",
      "9\n",
      "12\n",
      "15\n",
      "18\n",
      "21\n",
      "24\n",
      "27\n",
      "30\n",
      "33\n",
      "36\n",
      "39\n",
      "42\n",
      "45\n",
      "48\n"
     ]
    }
   ],
   "source": [
    "for angka in range(1, 51):\n",
    "    if angka % 3 == 0:\n",
    "        print(angka)"
   ]
  },
  {
   "cell_type": "markdown",
   "id": "a8db314b",
   "metadata": {
    "vscode": {
     "languageId": "plaintext"
    }
   },
   "source": [
    "No 2\n",
    "- text = \"the fat cat sat on the mat\"\n",
    "- Cari index pertama substring \"at\" muncul dalam variabel text\n",
    "- a. Tanpa menggunakan looping\n",
    "- b. Dengan menggunakan looping\n"
   ]
  },
  {
   "cell_type": "code",
   "execution_count": null,
   "id": "4214ca2e",
   "metadata": {},
   "outputs": [
    {
     "name": "stdout",
     "output_type": "stream",
     "text": [
      "5\n"
     ]
    }
   ],
   "source": [
    "text = \"the fat cat sat on the mat\"\n",
    "# a tanpa looping\n",
    "index = text.find(\"at\")\n",
    "print(index)"
   ]
  },
  {
   "cell_type": "code",
   "execution_count": 35,
   "id": "1c0af38f",
   "metadata": {},
   "outputs": [
    {
     "name": "stdout",
     "output_type": "stream",
     "text": [
      "5\n"
     ]
    }
   ],
   "source": [
    "text = \"the fat cat sat on the mat\"\n",
    "at_index = text.index(\"at\")\n",
    "print(at_index)"
   ]
  },
  {
   "cell_type": "code",
   "execution_count": 36,
   "id": "fcf7eda0",
   "metadata": {},
   "outputs": [
    {
     "name": "stdout",
     "output_type": "stream",
     "text": [
      "26\n"
     ]
    }
   ],
   "source": [
    "print(len(text))"
   ]
  },
  {
   "cell_type": "code",
   "execution_count": null,
   "id": "828ac324",
   "metadata": {},
   "outputs": [
    {
     "name": "stdout",
     "output_type": "stream",
     "text": [
      "5\n"
     ]
    }
   ],
   "source": [
    "#b dengan looping\n",
    "text = \"the fat cat sat on the mat\"\n",
    "for index in range(len(text)):\n",
    "    if text[index:index+2] == \"at\":\n",
    "        print(index)\n",
    "        break #loop berhenti pada saat kondisi pertama kali terpenuhi"
   ]
  },
  {
   "cell_type": "markdown",
   "id": "8f616ea4",
   "metadata": {},
   "source": []
  },
  {
   "cell_type": "markdown",
   "id": "fe401178",
   "metadata": {},
   "source": [
    "No 3\n",
    "- kalimat = 'Tampilkan kata yang memiliki jumlah karakter berjumlah genap pada kalimat ini'\n",
    "- Tampilkan kata yang memiliki jumlah karakter berjumlah genap!"
   ]
  },
  {
   "cell_type": "code",
   "execution_count": 19,
   "id": "c7d46ab7",
   "metadata": {},
   "outputs": [
    {
     "name": "stdout",
     "output_type": "stream",
     "text": [
      "['Tampilkan', 'kata', 'yang', 'memiliki', 'jumlah', 'karakter', 'berjumlah', 'genap', 'pada', 'kalimat', 'ini']\n",
      "kata\n",
      "yang\n",
      "memiliki\n",
      "jumlah\n",
      "karakter\n",
      "pada\n"
     ]
    }
   ],
   "source": [
    "kalimat = \"Tampilkan kata yang memiliki jumlah karakter berjumlah genap pada kalimat ini\"\n",
    "list_kata = kalimat.split()\n",
    "print(list_kata)\n",
    "\n",
    "for kata in list_kata:\n",
    "    if len(kata) % 2 == 0:\n",
    "        print(kata)"
   ]
  },
  {
   "cell_type": "markdown",
   "id": "b8ebdbec",
   "metadata": {},
   "source": [
    "No. 4\n"
   ]
  },
  {
   "cell_type": "code",
   "execution_count": 23,
   "id": "ad541f6d",
   "metadata": {},
   "outputs": [
    {
     "name": "stdout",
     "output_type": "stream",
     "text": [
      "3: Bip\n",
      "5: Bop\n",
      "6: Bip\n",
      "9: Bip\n",
      "10: Bop\n",
      "12: Bip\n",
      "15: Bip\n",
      "18: Bip\n",
      "20: Bop\n",
      "21: Bip\n",
      "24: Bip\n",
      "25: Bop\n",
      "27: Bip\n",
      "30: Bip\n"
     ]
    }
   ],
   "source": [
    "#a\n",
    "for i in range(1, 31):\n",
    "    if i % 3 == 0:\n",
    "        pesan = \"{}: Bip\".format(i)\n",
    "        print(pesan)\n",
    "    elif i % 5 == 0:\n",
    "        pesan = \"{}: Bop\".format(i)\n",
    "        print(pesan)\n",
    "    elif i % 3 == 0 and i % 5 == 0:\n",
    "        pesan = \"{}: Bip Bop\".format(i)\n",
    "        print(pesan)\n",
    "\n",
    "#kesalahan terletak pada penempatan kondisi, kondisi yang lebih spesifik harusnya berada pada kode kondisi pertama (IF).  \n",
    "#soal ingin memproses interger 1 - 30 namun pada kode diatas, hanya angka kelipatan 3, 5 dan 3 & 5 yang muncul"
   ]
  },
  {
   "cell_type": "code",
   "execution_count": 17,
   "id": "f0112f81",
   "metadata": {},
   "outputs": [
    {
     "name": "stdout",
     "output_type": "stream",
     "text": [
      "1:\n",
      "2:\n",
      "3: Bip\n",
      "4:\n",
      "5, aduh: Bop\n",
      "6: Bip\n",
      "7:\n",
      "8:\n",
      "9: Bip\n",
      "10, aduh: Bop\n",
      "11:\n",
      "12: Bip\n",
      "13:\n",
      "14:\n",
      "15: Bip Bop\n",
      "16:\n",
      "17:\n",
      "18: Bip\n",
      "19:\n",
      "20, aduh: Bop\n",
      "21: Bip\n",
      "22:\n",
      "23:\n",
      "24: Bip\n",
      "25, aduh: Bop\n",
      "26:\n",
      "27: Bip\n",
      "28:\n",
      "29:\n",
      "30: Bip Bop\n"
     ]
    }
   ],
   "source": [
    "#b\n",
    "for i in range(1, 31):\n",
    "    if i % 3 == 0 and i % 5 == 0:\n",
    "        pesan = \"{}: Bip Bop\".format(i) # .format(x) -> mengisi {} pada f string dengan x\n",
    "        print(pesan)\n",
    "    elif i % 3 == 0:\n",
    "        pesan = \"{}: Bip\".format(i)\n",
    "        print(pesan)\n",
    "    elif i % 5 == 0:\n",
    "        pesan = \"{}, {}: Bop\".format(i,\"aduh\")\n",
    "        print(pesan)\n",
    "    else:\n",
    "        print(f\"{i}:\")"
   ]
  },
  {
   "cell_type": "markdown",
   "id": "808c0444",
   "metadata": {},
   "source": [
    "No. 5"
   ]
  },
  {
   "cell_type": "code",
   "execution_count": 5,
   "id": "949b25e9",
   "metadata": {},
   "outputs": [
    {
     "name": "stdout",
     "output_type": "stream",
     "text": [
      "KOdoK merupakan Palindrom\n"
     ]
    }
   ],
   "source": [
    "#a\n",
    "kata = input(\"masukan suatu kata: \")\n",
    "Kata_lowered = kata.lower()\n",
    "if Kata_lowered == Kata_lowered[::-1]: #.lower[::-1] step -1 artinya kebalikannya\n",
    "    print(f\"{kata} merupakan Palindrom\")\n",
    "else:\n",
    "    print(f\"{kata} bukan Palindrom\")"
   ]
  },
  {
   "cell_type": "code",
   "execution_count": null,
   "id": "d31e0dc6",
   "metadata": {},
   "outputs": [
    {
     "name": "stdout",
     "output_type": "stream",
     "text": [
      "Naufal bukan sebuah Palindrom\n"
     ]
    }
   ],
   "source": [
    "kata = input(\"masukan suatu kata: \")\n",
    "kata_lowered = kata.lower()\n",
    "kata_check = \"\" #string kososng yang nantinya diisi sama hasil looping\n",
    "\n",
    "for karakter in kata:\n",
    "    kata_check = kata_check + karakter\n",
    "\n",
    "if kata_check == kata_lowered:\n",
    "    print(f\"Ya, {kata} adalah Palindrom\")\n",
    "else:\n",
    "    print(f\"{kata} bukan sebuah Palindrom\")"
   ]
  },
  {
   "cell_type": "markdown",
   "id": "ee870265",
   "metadata": {},
   "source": [
    "No. 6"
   ]
  },
  {
   "cell_type": "code",
   "execution_count": 47,
   "id": "99688921",
   "metadata": {},
   "outputs": [
    {
     "name": "stdout",
     "output_type": "stream",
     "text": [
      "['Januari', ' Februari', ' Maret', ' April', ' Mei', ' Juni', ' Juli', ' Agustus', ' September', ' Oktober', ' November', ' Desember']\n"
     ]
    }
   ],
   "source": [
    "month_names = \"Januari, Februari, Maret, April, Mei, Juni, Juli, Agustus, September, Oktober, November, Desember\"\n",
    "list_month = month_names.split(\",\")\n",
    "print(list_month)"
   ]
  },
  {
   "cell_type": "code",
   "execution_count": 77,
   "id": "573c24ef",
   "metadata": {},
   "outputs": [
    {
     "name": "stdout",
     "output_type": "stream",
     "text": [
      "Start: Januari ---> End:  April\n",
      "Start:  Februari ---> End:  Mei\n",
      "Start:  Maret ---> End:  Juni\n",
      "Start:  April ---> End:  Juli\n",
      "Start:  Mei ---> End:  Agustus\n",
      "Start:  Juni ---> End:  September\n",
      "Start:  Juli ---> End:  Oktober\n",
      "Start:  Agustus ---> End:  November\n",
      "Start:  September ---> End:  Desember\n",
      "Start:  Oktober ---> End: Januari\n",
      "Start:  November ---> End:  Februari\n",
      "Start:  Desember ---> End:  Maret\n"
     ]
    }
   ],
   "source": [
    "for indeks in range(len(list_month)):\n",
    "    start = list_month[indeks]\n",
    "    end = list_month[(indeks+3) % 12] # x % len(list_month) karena bulan hanya 12, jadi jika lebih dari 12 akan mulai kembali dari 1(januari) \n",
    "    print(f\"Start: {start} ---> End: {end}\")"
   ]
  },
  {
   "cell_type": "code",
   "execution_count": 67,
   "id": "c0941bea",
   "metadata": {},
   "outputs": [
    {
     "name": "stdout",
     "output_type": "stream",
     "text": [
      "12\n",
      " Mei\n"
     ]
    }
   ],
   "source": [
    "print(len(list_month))\n",
    "print(list_month[1+3])"
   ]
  },
  {
   "cell_type": "code",
   "execution_count": 80,
   "id": "ec50f97e",
   "metadata": {},
   "outputs": [
    {
     "data": {
      "text/plain": [
       "2"
      ]
     },
     "execution_count": 80,
     "metadata": {},
     "output_type": "execute_result"
    }
   ],
   "source": [
    "2%12"
   ]
  },
  {
   "cell_type": "code",
   "execution_count": null,
   "id": "377f2b4e",
   "metadata": {},
   "outputs": [],
   "source": []
  }
 ],
 "metadata": {
  "kernelspec": {
   "display_name": "base",
   "language": "python",
   "name": "python3"
  },
  "language_info": {
   "codemirror_mode": {
    "name": "ipython",
    "version": 3
   },
   "file_extension": ".py",
   "mimetype": "text/x-python",
   "name": "python",
   "nbconvert_exporter": "python",
   "pygments_lexer": "ipython3",
   "version": "3.13.2"
  }
 },
 "nbformat": 4,
 "nbformat_minor": 5
}
