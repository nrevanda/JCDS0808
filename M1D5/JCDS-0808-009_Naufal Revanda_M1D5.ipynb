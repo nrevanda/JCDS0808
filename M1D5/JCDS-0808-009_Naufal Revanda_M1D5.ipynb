{
 "cells": [
  {
   "cell_type": "code",
   "execution_count": null,
   "id": "f5a6173f",
   "metadata": {},
   "outputs": [
    {
     "name": "stdout",
     "output_type": "stream",
     "text": [
      "{'Avengers', 'Wonder Woman', 'Batman', 'Hulk', 'Iron Man 3'}\n",
      "{'Avengers', 'Wonder Woman', 'Hulk', 'Superman', 'Iron Man 2'}\n",
      "kesukaan film kalian yang sama sebesar 60.0%\n"
     ]
    }
   ],
   "source": [
    "# NO. 1\n",
    "# my_film = \"Avengers, Hulk, Iron Man 3, Wonder Woman, Batman\"\n",
    "# their_film = \"Avengers, Hulk, Iron Man 2, Superman, Wonder Woman\"\n",
    "\n",
    "# input user\n",
    "input_my_film = input(\"masukan 5 film kesukaan anda (dipisahkan dengan koma): \")\n",
    "input_their_film = input(\"masukan 5 film kesukaan teman anda (dipisahkan dengan koma): \")\n",
    "\n",
    "# store the input in to set (dari list -> set)\n",
    "list_my_film = []\n",
    "for film in input_my_film.split(\",\"):\n",
    "    list_my_film.append(film.strip())\n",
    "my_film = set(list_my_film)\n",
    "print(my_film)\n",
    "\n",
    "list_their_film = []\n",
    "for film in input_their_film.split(\",\"):\n",
    "    list_their_film.append(film.strip())\n",
    "their_film = set(list_their_film)\n",
    "print(their_film)\n",
    "\n",
    "# intersection\n",
    "our_film = my_film.intersection(their_film)\n",
    "\n",
    "# percent\n",
    "percent = (len(our_film)/5)*100\n",
    "\n",
    "print(f\"kesukaan film kalian yang sama sebesar {percent}%\")\n",
    "\n",
    "\n"
   ]
  },
  {
   "cell_type": "markdown",
   "id": "8b5bc6f7",
   "metadata": {},
   "source": []
  },
  {
   "cell_type": "code",
   "execution_count": null,
   "id": "0f41250a",
   "metadata": {},
   "outputs": [
    {
     "name": "stdout",
     "output_type": "stream",
     "text": [
      "  index  nama_buah      stok_buah    harga_buah\n",
      "-------  -----------  -----------  ------------\n",
      "      0  Apel                  20         10000\n",
      "      1  Jeruk                 15         15000\n",
      "      2  Anggur                15         20000\n"
     ]
    }
   ],
   "source": [
    "# NO. 2a\n",
    "# Dictionary of Iterables\n",
    "from tabulate import tabulate\n",
    "\n",
    "tabel_buah_a = {\n",
    "    'index' : [0, 1, 2],\n",
    "    'nama_buah' : [\"Apel\", \"Jeruk\", \"Anggur\"],\n",
    "    'stok_buah' : [20, 15, 15],\n",
    "    'harga_buah' : [10_000, 15_000, 20_000]\n",
    "}\n",
    "\n",
    "tabel_a = tabulate(tabel_buah_a, headers=\"keys\")\n",
    "print(tabel)"
   ]
  },
  {
   "cell_type": "code",
   "execution_count": 185,
   "id": "6e32e5af",
   "metadata": {},
   "outputs": [
    {
     "name": "stdout",
     "output_type": "stream",
     "text": [
      "  index  nama_buah      stok_buah    harga_buah\n",
      "-------  -----------  -----------  ------------\n",
      "      0  Apel                  20         10000\n",
      "      1  Jeruk                 15         15000\n",
      "      2  Anggur                15         20000\n"
     ]
    }
   ],
   "source": [
    "# NO. 2b\n",
    "# List of Dictionaries\n",
    "tabel_buah_b = [\n",
    "    {\"index\":0, \"nama_buah\": \"Apel\", \"stok_buah\": 20, \"harga_buah\": 10000},\n",
    "    {\"index\":1, \"nama_buah\": \"Jeruk\", \"stok_buah\": 15, \"harga_buah\": 15000},\n",
    "    {\"index\":2, \"nama_buah\": \"Anggur\", \"stok_buah\": 15, \"harga_buah\": 20000}\n",
    "]\n",
    "tabel_b = tabulate(tabel_buah_b, headers=\"keys\")\n",
    "print(tabel_b)"
   ]
  },
  {
   "cell_type": "code",
   "execution_count": 71,
   "id": "656bfc51",
   "metadata": {},
   "outputs": [
    {
     "name": "stdout",
     "output_type": "stream",
     "text": [
      "  index  nama_buah      stok_buah    harga_buah\n",
      "-------  -----------  -----------  ------------\n",
      "      2  Anggur                15         20000\n",
      "      0  Apel                  20         10000\n",
      "      1  Jeruk                 15         15000\n"
     ]
    }
   ],
   "source": [
    "# NO. 3\n",
    "sorted_tabel_buah_b = sorted(tabel_buah_b, key=lambda item: item[\"nama_buah\"])\n",
    "print(tabulate(sorted_tabel_buah_b, headers=\"keys\"))"
   ]
  },
  {
   "cell_type": "markdown",
   "id": "04cd3254",
   "metadata": {},
   "source": [
    "### Lambda Function\n",
    "- `lambda` = fungsi anonim digunakan untuk menulis fungsi sederhana dalam satu bari\n",
    "- `lambda` argumen: ekspresi\n",
    "- contoh:   tambah5 = lambda x: x + 5\n",
    "- print(tambah5(10)) -> output : 15"
   ]
  },
  {
   "cell_type": "code",
   "execution_count": null,
   "id": "1057e347",
   "metadata": {},
   "outputs": [
    {
     "name": "stdout",
     "output_type": "stream",
     "text": [
      "Selamat Datang di Pasar Buah\n",
      "\n",
      "List Menu:\n",
      "1. Menampilkan Daftar Buah\n",
      "2. Menambah Buah\n",
      "3. Menghapus Buah\n",
      "4. Membeli Buah\n",
      "5. Exit Program            \n",
      "      \n"
     ]
    },
    {
     "ename": "SyntaxError",
     "evalue": "'break' outside loop (2652015746.py, line 108)",
     "output_type": "error",
     "traceback": [
      "  \u001b[36mCell\u001b[39m\u001b[36m \u001b[39m\u001b[32mIn[187]\u001b[39m\u001b[32m, line 108\u001b[39m\n\u001b[31m    \u001b[39m\u001b[31mbreak\u001b[39m\n    ^\n\u001b[31mSyntaxError\u001b[39m\u001b[31m:\u001b[39m 'break' outside loop\n"
     ]
    }
   ],
   "source": [
    "# 1. interface menu toko\n",
    "print(\"Selamat Datang di Pasar Buah\")\n",
    "print(\"\"\"\n",
    "List Menu:\n",
    "1. Menampilkan Daftar Buah\n",
    "2. Menambah Buah\n",
    "3. Menghapus Buah\n",
    "4. Membeli Buah\n",
    "5. Exit Program            \n",
    "      \"\"\")\n",
    "\n",
    "# 2. user menu input\n",
    "while True:\n",
    "    input_menu = input(\"Masukan angka Menu yang ingin dijalankan: \")\n",
    "    digit_check = input_menu.isdigit()\n",
    "    if digit_check and 1 <= int(input_menu) <=5:\n",
    "        input_menu = int(input_menu)\n",
    "        break\n",
    "\n",
    "# 3. hasil user input\n",
    "if input_menu == 1:\n",
    "    print(tabel_b)\n",
    "\n",
    "elif input_menu == 2:\n",
    "    while True:\n",
    "        index_baru = len(tabel_buah_b)\n",
    "\n",
    "        buah = input(\"Masukan Nama Buah: \")\n",
    "        stok = input(\"Masukkan Stock Buah: \")\n",
    "        harga = input(\"Masukan Harga Buah: \")\n",
    "\n",
    "        tabel_buah_b.append({\n",
    "            \"index\" : index_baru,\n",
    "            \"nama_buah\" : buah,\n",
    "            \"stok_buah\" : stok,\n",
    "            \"harga_buah\" : harga\n",
    "        })\n",
    "        tabel_b = tabulate(tabel_buah_b, headers=\"keys\")\n",
    "        print(\"Daftar Buah:\")\n",
    "        print(tabel_b)\n",
    "        break\n",
    "\n",
    "elif input_menu == 3:\n",
    "    print(\"Daftar Buah: \")\n",
    "    print(tabel_b)\n",
    "\n",
    "    while True:\n",
    "        input_hapus_buah = input(\"Masukkan index buah yang ingin dihapus: \")\n",
    "        digit_check = input_hapus_buah.isdigit()\n",
    "        if digit_check:\n",
    "            input_hapus_buah = int(input_hapus_buah)\n",
    "            if 0 <= input_hapus_buah < len(tabel_buah_b):\n",
    "                break\n",
    "\n",
    "    tabel_buah_b.pop(input_hapus_buah)\n",
    "    \n",
    "\n",
    "    i = 0\n",
    "    for buah in tabel_buah_b:\n",
    "        buah[\"index\"] = i\n",
    "        i += 1\n",
    "\n",
    "    tabel_b = tabulate(tabel_buah_b, headers=\"keys\")\n",
    "    print(\"\\nDaftar Buah:\")\n",
    "    print(tabel_b)\n",
    "\n",
    "elif input_menu == 4:\n",
    "    print(\"Daftar Buah: \")\n",
    "    print(tabel_b)\n",
    "\n",
    "    while True:\n",
    "        input_index_beli = input(\"Masukkan index buah yang ingin dibeli: \")\n",
    "        digit_check = input_index_beli.isdigit()\n",
    "        if digit_check:\n",
    "            input_index_beli = int(input_index_beli)\n",
    "            if 0 <= input_index_beli < len(tabel_buah_b):\n",
    "                break\n",
    "    while True:    \n",
    "        input_jumlah_beli = input(\"Masukkan jumlah yang ingin dibeli: \")\n",
    "        digit_check = input_jumlah_beli.isdigit()\n",
    "        if digit_check:\n",
    "            input_jumlah_beli = int(input_jumlah_beli)\n",
    "            stok_tersedia = int(tabel_buah_b[input_index_beli][\"stok_buah\"])\n",
    "            if 0 < input_jumlah_beli <= stok_tersedia:\n",
    "                break\n",
    "            else:\n",
    "                print(f\"Stock tidak cukup, stock {tabel_buah_b[input_index_beli]['nama_buah']} tinggal {stok_tersedia}\")\n",
    "        print(\"Isi Cart: \")\n",
    "    \n",
    "    tabel_buah_b[input_index_beli][\"stok_buah\"] = stok_tersedia - input_jumlah_beli\n",
    "\n",
    "    harga_satuan = int(tabel_buah_b[input_index_beli][\"harga_buah\"])\n",
    "    total_harga = harga_satuan * input_jumlah_beli\n",
    "\n",
    "    isi_cart = {\n",
    "        \"nama\" : tabel_buah_b[input_index_beli]['nama_buah'],\n",
    "        \"Qty\" : input_jumlah_beli,\n",
    "        \"harga\" : total_harga\n",
    "    }\n",
    "\n",
    "    print(\"\\nIsi Cart: \")\n",
    "    tabel_cart = tabulate([isi_cart], headers=\"keys\")\n",
    "    print(tabel_cart)\n",
    "\n",
    "    \n",
    "elif input_menu == 5:\n",
    "    print(\"Terimakasih!\")\n",
    "    break\n"
   ]
  },
  {
   "cell_type": "code",
   "execution_count": null,
   "id": "ac0cc728",
   "metadata": {},
   "outputs": [
    {
     "name": "stdout",
     "output_type": "stream",
     "text": [
      "2 <class 'int'>\n"
     ]
    }
   ],
   "source": [
    "\n"
   ]
  },
  {
   "cell_type": "code",
   "execution_count": null,
   "id": "f7d61ba9",
   "metadata": {},
   "outputs": [],
   "source": []
  }
 ],
 "metadata": {
  "kernelspec": {
   "display_name": "base",
   "language": "python",
   "name": "python3"
  },
  "language_info": {
   "codemirror_mode": {
    "name": "ipython",
    "version": 3
   },
   "file_extension": ".py",
   "mimetype": "text/x-python",
   "name": "python",
   "nbconvert_exporter": "python",
   "pygments_lexer": "ipython3",
   "version": "3.13.2"
  }
 },
 "nbformat": 4,
 "nbformat_minor": 5
}
