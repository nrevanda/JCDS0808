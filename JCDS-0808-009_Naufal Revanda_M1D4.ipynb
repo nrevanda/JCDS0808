{
 "cells": [
  {
   "cell_type": "markdown",
   "id": "7a216a06",
   "metadata": {},
   "source": [
    "## No. 1\n",
    "- Find min and max value"
   ]
  },
  {
   "cell_type": "code",
   "execution_count": 3,
   "id": "1e57cfb1",
   "metadata": {},
   "outputs": [
    {
     "name": "stdout",
     "output_type": "stream",
     "text": [
      "maxium value from [41, 5, 1, 3, 89, 32] is 89\n",
      "minimum value from [41, 5, 1, 3, 89, 32] is 1\n"
     ]
    }
   ],
   "source": [
    "numbers = [41, 5, 1, 3, 89, 32]\n",
    "#a. Tanpa Looping\n",
    "maxNumbers = max(numbers)\n",
    "minNumbers = min(numbers)\n",
    "\n",
    "print(f\"maxium value from {numbers} is {maxNumbers}\")\n",
    "print(f\"minimum value from {numbers} is {minNumbers}\")"
   ]
  },
  {
   "cell_type": "code",
   "execution_count": 6,
   "id": "b8c7963a",
   "metadata": {},
   "outputs": [
    {
     "name": "stdout",
     "output_type": "stream",
     "text": [
      "89\n",
      "1\n"
     ]
    }
   ],
   "source": [
    "#b Dengan Looping\n",
    "numbers_max = numbers[0]\n",
    "numbers_min = numbers[0]\n",
    "\n",
    "for val in numbers:\n",
    "    if val > numbers_max:\n",
    "        numbers_max = val\n",
    "    elif val < numbers_min:\n",
    "        numbers_min = val\n",
    "\n",
    "print(numbers_max)\n",
    "print(numbers_min)\n"
   ]
  },
  {
   "cell_type": "markdown",
   "id": "7925c69a",
   "metadata": {},
   "source": [
    "## No. 2\n",
    "- Buat password dari input\n",
    "- panjang >= 6 dan hanya boleh A-z, 0-9\n",
    "- password valid, tampilkanL password anda valid\n",
    "- password tidak valid, tampilkan: Password tidak valid, silahkan coba lagi!\n",
    "- looping"
   ]
  },
  {
   "cell_type": "code",
   "execution_count": 37,
   "id": "b384aef6",
   "metadata": {},
   "outputs": [
    {
     "name": "stdout",
     "output_type": "stream",
     "text": [
      "Password tidak valid, silahkan coba lagi!\n",
      "Password valid\n"
     ]
    }
   ],
   "source": [
    "while True:\n",
    "    password = input(\"Silahkan masukan password anda inginkan \\npanjang karakter >= 6 dan hanya boleh karakter A-z, 0-9, _\")\n",
    "\n",
    "    #cek length \n",
    "    length_check = len(password) >= 6\n",
    "\n",
    "    #cek karakter (huruf, angka atau underscore)\n",
    "    character_check = True\n",
    "    for char in password:\n",
    "        if not (char.isalnum() or char == '_'): \n",
    "            character_check = False\n",
    "            break\n",
    "\n",
    "#char.isalnum() return True jika karakter huruf atau angka \n",
    "#(char.isalnum() or char == '_') return True jika karakter valid (huruf/angka/underscore)\n",
    "# not (...) artinya \"jika karakter bukan huruf/angka/underscore\"\n",
    "# jika tidak diset di False, program tidak tahu ada karater yang melanggar aturan dan jika tetap True, pass yang salah bisa dianggap benar\n",
    "\n",
    "    if length_check and character_check:\n",
    "        print(\"Password valid\")\n",
    "        break\n",
    "    else:\n",
    "        print(\"Password tidak valid, silahkan coba lagi!\")"
   ]
  },
  {
   "cell_type": "markdown",
   "id": "9ad1e78b",
   "metadata": {},
   "source": [
    "## No. 3\n"
   ]
  },
  {
   "cell_type": "markdown",
   "id": "4dd9c8f3",
   "metadata": {},
   "source": [
    "- Yang pertama, tambahkanlah fitur stock. Sekarang, setiap buah memiliki jumlah stock masing2, dimana teman-teman diberi kebebasan untuk menentukan jumlah stock dari setiap buahnya. \n",
    "Kemudian saat user menginput jumlah buah yang ingin dibeli melebihi jumlah stocknya , akan dimunculkan text di terminal berupa informasi bahwa stock kurang dari permintaan dan meminta user untuk menginput jumlahnya kembali, dan fitur ini berlaku untuk setiap buahnya. Lalu programnya juga tidak akan berpindah ke proses selanjutnya jika user tidak menginput jumlahnya dengan tepat, yaitu kurang dari atau sama dengan jumlah stocknya. \n",
    "\n",
    "- Untuk fitur yang kedua, pada penginputan uang pembayaran, akan diterapkan hal yang mirip, yaitu jika user menginput jumlah uang kurang dari yang seharusnya, akan memunculkan text di terminal berupa informasi bahwa uang yang dimasukkan masih kurang dan meminta user untuk menginput ulang jumlah uangnya. Kemudian untuk informasi textnya, tolong munculkan jumlah kekurangan yang harus dibayar. Misalnya total harga adalah 275.000 namun user hanya menginput 240.000, maka pada text di terminal akan muncul informasi bahwa user kurang uangnya sebesar 35.000. Jika nilai input yang dimasukkan lebih dari seharusnya maka akan menampilkan terima kasih dan jumlah  kembaliannya, namun jika uangnya pas, maka text yang akan tampil hanya terima kasih saja, dan aplikasi akan selesai atau berhenti bila user sudah memasukkan jumlah uang sama atau lebih dari total harganya.\n"
   ]
  },
  {
   "cell_type": "code",
   "execution_count": null,
   "id": "61bc75c0",
   "metadata": {},
   "outputs": [],
   "source": [
    "# Stock buah\n",
    "stok_apel = 10\n",
    "stok_jeruk = 5\n",
    "stok_anggur = 7\n",
    "\n",
    "# harga per buah\n",
    "harga_apel = 10000\n",
    "harga_jeruk = 15000\n",
    "harga_anggur = 20000\n",
    "\n",
    "# jumlah permintaan\n",
    "while True:\n",
    "    jumlah_apel = int(input(\"Masukan jumlah apel: \"))\n",
    "    if jumlah_apel <= stok_apel:\n",
    "        break\n",
    "    else:\n",
    "        print(f\"jumlah yang dimasukan terlalu banyak. satock apel tinggal: {stok_apel}\")\n",
    "\n",
    "while True:\n",
    "    jumlah_jeruk = int(input(\"Masukan jumlah jeruk: \"))\n",
    "    if jumlah_jeruk <= stok_jeruk:\n",
    "        break\n",
    "    else:\n",
    "        print(f\"jumlah yang dimasukan terlalu banyak. satock jeruk tinggal: {stok_jeruk}\")\n",
    "\n",
    "while True:\n",
    "    jumlah_anggur = int(input(\"Masukan jumlah anggur: \"))\n",
    "    if jumlah_anggur <= stok_anggur:\n",
    "        break\n",
    "    else:\n",
    "        print(f\"jumlah yang dimasukan terlalu banyak. satockanggur tinggal: {stok_anggur}\")\n",
    "\n",
    "# hitung total\n",
    "total_apel = jumlah_apel * harga_apel\n",
    "total_jeruk = jumlah_jeruk * harga_jeruk\n",
    "total_anggur = jumlah_anggur * harga_anggur\n",
    "total_harga = total_apel + total_jeruk + total_anggur\n",
    "\n",
    "# total harga\n",
    "print(\"\\n=======DETAIL BELANJA=======\")\n",
    "print(f\"Apel : {jumlah_apel} x {harga_apel} = {total_apel}\")\n",
    "print(f\"jeruk : {jumlah_jeruk} x {harga_jeruk} = {total_jeruk}\")\n",
    "print(f\"anggur : {jumlah_anggur} x {harga_anggur} = {total_anggur}\")\n",
    "print(f\"Total : {total_harga}\")\n",
    "\n",
    "# bayar\n",
    "uang = int(input(\"Masukkan jumlah uang: Rp\"))\n",
    "if uang < total_harga:\n",
    "    print(f\"Uang anda kurang sebesar: {abs(uang - total_harga)}\")\n",
    "elif uang > total_harga:\n",
    "    print(f\"Uang kembalian anda: {abs(uang - total_harga)}\")\n",
    "else:\n",
    "    print(\"Terimakasih\")"
   ]
  },
  {
   "cell_type": "code",
   "execution_count": null,
   "id": "50f22ad4",
   "metadata": {},
   "outputs": [
    {
     "name": "stdout",
     "output_type": "stream",
     "text": [
      "Uang kembalian anda: 20000\n"
     ]
    }
   ],
   "source": []
  },
  {
   "cell_type": "code",
   "execution_count": null,
   "id": "277a2621",
   "metadata": {},
   "outputs": [],
   "source": []
  }
 ],
 "metadata": {
  "kernelspec": {
   "display_name": "base",
   "language": "python",
   "name": "python3"
  },
  "language_info": {
   "codemirror_mode": {
    "name": "ipython",
    "version": 3
   },
   "file_extension": ".py",
   "mimetype": "text/x-python",
   "name": "python",
   "nbconvert_exporter": "python",
   "pygments_lexer": "ipython3",
   "version": "3.13.2"
  }
 },
 "nbformat": 4,
 "nbformat_minor": 5
}
